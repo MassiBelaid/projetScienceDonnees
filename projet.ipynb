{
 "cells": [
  {
   "cell_type": "code",
   "execution_count": 8,
   "metadata": {},
   "outputs": [],
   "source": [
    "import pandas as pd\n",
    "import numpy as np\n",
    "import sklearn\n",
    "from sklearn.naive_bayes import GaussianNB\n",
    "from sklearn.metrics import accuracy_score\n",
    "from sklearn.model_selection import train_test_split\n",
    "from sklearn.model_selection import KFold\n",
    "from sklearn.model_selection import cross_val_score\n",
    "from sklearn.metrics import confusion_matrix\n",
    "from sklearn.metrics import classification_report\n",
    "import seaborn as sns\n",
    "import matplotlib.pyplot as plt\n",
    "from sklearn.metrics import precision_recall_fscore_support as score\n",
    "from sklearn.linear_model import LogisticRegression\n",
    "from sklearn.tree import DecisionTreeClassifier\n",
    "from sklearn.neighbors import KNeighborsClassifier\n",
    "from sklearn.naive_bayes import GaussianNB\n",
    "from sklearn.svm import SVC\n",
    "from sklearn.model_selection import GridSearchCV\n",
    "from sklearn.ensemble import RandomForestClassifier\n",
    "from sklearn.preprocessing import LabelEncoder\n",
    "#Sickit learn met régulièrement à jour des versions et indique des futurs warnings.\n",
    "#ces deux lignes permettent de ne pas les afficher.\n",
    "import warnings\n",
    "warnings.filterwarnings(\"ignore\", category=FutureWarning)\n",
    "\n",
    "from nltk.tokenize import word_tokenize\n",
    "from nltk import sent_tokenize\n",
    "from nltk.stem import WordNetLemmatizer\n",
    "\n",
    "import re\n",
    "import contractions\n",
    "\n",
    "pd.options.display.max_colwidth = 300"
   ]
  },
  {
   "cell_type": "code",
   "execution_count": 23,
   "metadata": {},
   "outputs": [],
   "source": [
    "names = [\"id\",\"auteur\",\"lien_auteur\",\"nom_auteur\",\"reclamation_examinee\",\"date_examination\",\"source\",\"lien\",\"pub_nom_auteur\",\"pub_lien_auteur\",\n",
    "         \"date_publication\",\"contenu\",\"extra_auteur\",\"extra_contenu\",\"extra_publication_examinée\",\n",
    "         \"extra_mot_cle\",\"extra_lien_reference\",\"extra_tags\",\"extra_titre\",\"note_nom_alternatif\",\"meilleure_note\",\n",
    "         \"valeur_note\",\"pire_note\"]\n",
    "df = pd.read_csv('../Dataset/claim.csv', sep=',', names = names, skiprows = 1, nrows = 5000)\n",
    "df2 = pd.read_csv('../Dataset/claim.csv', sep=',', names = names, skiprows = 5001, nrows = 5000)\n",
    "df3 = pd.read_csv('../Dataset/claim.csv', sep=',', names = names, skiprows = 10001, nrows = 5000)\n",
    "df4 = pd.read_csv('../Dataset/claim.csv', sep=',', names = names, skiprows = 15001, nrows = 5000)\n",
    "\n",
    "\n"
   ]
  },
  {
   "cell_type": "code",
   "execution_count": 24,
   "metadata": {},
   "outputs": [],
   "source": [
    "df = pd.concat([df, df2])\n",
    "df = pd.concat([df, df3])\n",
    "df = pd.concat([df, df4])\n"
   ]
  },
  {
   "cell_type": "code",
   "execution_count": 12,
   "metadata": {},
   "outputs": [
    {
     "data": {
      "text/plain": [
       "(20000, 23)"
      ]
     },
     "metadata": {},
     "output_type": "display_data"
    }
   ],
   "source": [
    "display(df.shape)"
   ]
  },
  {
   "cell_type": "code",
   "execution_count": 25,
   "metadata": {},
   "outputs": [
    {
     "name": "stdout",
     "output_type": "stream",
     "text": [
      "<class 'pandas.core.frame.DataFrame'>\n",
      "Int64Index: 20000 entries, 0 to 4999\n",
      "Data columns (total 23 columns):\n",
      " #   Column                      Non-Null Count  Dtype  \n",
      "---  ------                      --------------  -----  \n",
      " 0   id                          20000 non-null  int64  \n",
      " 1   auteur                      0 non-null      float64\n",
      " 2   lien_auteur                 20000 non-null  object \n",
      " 3   nom_auteur                  0 non-null      float64\n",
      " 4   reclamation_examinee        20000 non-null  object \n",
      " 5   date_examination            19598 non-null  object \n",
      " 6   source                      20000 non-null  object \n",
      " 7   lien                        20000 non-null  object \n",
      " 8   pub_nom_auteur              1525 non-null   object \n",
      " 9   pub_lien_auteur             113 non-null    object \n",
      " 10  date_publication            1525 non-null   object \n",
      " 11  contenu                     19997 non-null  object \n",
      " 12  extra_auteur                20000 non-null  object \n",
      " 13  extra_contenu               20000 non-null  object \n",
      " 14  extra_publication_examinée  20000 non-null  object \n",
      " 15  extra_mot_cle               20000 non-null  object \n",
      " 16  extra_lien_reference        18632 non-null  object \n",
      " 17  extra_tags                  14175 non-null  object \n",
      " 18  extra_titre                 20000 non-null  object \n",
      " 19  note_nom_alternatif         19992 non-null  object \n",
      " 20  meilleure_note              203 non-null    float64\n",
      " 21  valeur_note                 203 non-null    float64\n",
      " 22  pire_note                   175 non-null    float64\n",
      "dtypes: float64(5), int64(1), object(17)\n",
      "memory usage: 2.4+ MB\n"
     ]
    },
    {
     "data": {
      "text/plain": [
       "None"
      ]
     },
     "metadata": {},
     "output_type": "display_data"
    }
   ],
   "source": [
    "display(df.info())"
   ]
  },
  {
   "cell_type": "code",
   "execution_count": 11,
   "metadata": {},
   "outputs": [
    {
     "data": {
      "text/plain": [
       "<matplotlib.axes._subplots.AxesSubplot at 0x12382c58>"
      ]
     },
     "execution_count": 11,
     "metadata": {},
     "output_type": "execute_result"
    },
    {
     "data": {
      "image/png": "[encoded data removed]",
      "text/plain": [
       "<Figure size 432x288 with 1 Axes>"
      ]
     },
     "metadata": {
      "needs_background": "light"
     },
     "output_type": "display_data"
    }
   ],
   "source": [
    "sns.heatmap(df.isnull(), cbar=False)"
   ]
  },
  {
   "cell_type": "markdown",
   "metadata": {},
   "source": [
    "# On supprime les colonnes qui ont toutes les lignes Nan "
   ]
  },
  {
   "cell_type": "code",
   "execution_count": 26,
   "metadata": {},
   "outputs": [],
   "source": [
    "del df[\"auteur\"]\n",
    "del df[\"nom_auteur\"]\n",
    "del df[\"pub_nom_auteur\"]\n",
    "del df[\"pub_lien_auteur\"]\n",
    "del df[\"date_publication\"]\n",
    "del df[\"meilleure_note\"]\n",
    "del df[\"valeur_note\"]\n",
    "del df[\"pire_note\"]"
   ]
  },
  {
   "cell_type": "code",
   "execution_count": 27,
   "metadata": {},
   "outputs": [
    {
     "data": {
      "text/html": [
       "<div>\n",
       "<style scoped>\n",
       "    .dataframe tbody tr th:only-of-type {\n",
       "        vertical-align: middle;\n",
       "    }\n",
       "\n",
       "    .dataframe tbody tr th {\n",
       "        vertical-align: top;\n",
       "    }\n",
       "\n",
       "    .dataframe thead th {\n",
       "        text-align: right;\n",
       "    }\n",
       "</style>\n",
       "<table border=\"1\" class=\"dataframe\">\n",
       "  <thead>\n",
       "    <tr style=\"text-align: right;\">\n",
       "      <th></th>\n",
       "      <th>id</th>\n",
       "      <th>lien_auteur</th>\n",
       "      <th>reclamation_examinee</th>\n",
       "      <th>date_examination</th>\n",
       "      <th>source</th>\n",
       "      <th>lien</th>\n",
       "      <th>contenu</th>\n",
       "      <th>extra_auteur</th>\n",
       "      <th>extra_contenu</th>\n",
       "      <th>extra_publication_examinée</th>\n",
       "      <th>extra_mot_cle</th>\n",
       "      <th>extra_lien_reference</th>\n",
       "      <th>extra_tags</th>\n",
       "      <th>extra_titre</th>\n",
       "      <th>note_nom_alternatif</th>\n",
       "    </tr>\n",
       "  </thead>\n",
       "  <tbody>\n",
       "    <tr>\n",
       "      <th>309</th>\n",
       "      <td>5309</td>\n",
       "      <td>snopes</td>\n",
       "      <td>NASA and NOAA faked climate data in the GISTEMP global temperature record to exaggerate global warming.</td>\n",
       "      <td>2019-10-03</td>\n",
       "      <td>snopes</td>\n",
       "      <td>https://www.snopes.com/fact-check/global-warming-data-faked/</td>\n",
       "      <td>Since 2014, climate-change deniers have squeezed millions of views, Facebook shares, and Twitter retweets by retelling a story alleging the discovery of “faked” NASA data designed to “fit a climate change narrative.” Though copied almost wholesale from a blog post, the version of the story that ...</td>\n",
       "      <td>[]</td>\n",
       "      <td>[{\"id\" : 7529378\",\"\"begin\": 65,\"end\": 73,\"entity\": \"Facebook\",\"text\": \"Facebook\",\"score\": 0.37,\"categories\" : [\"Facebook\",\"Android (operating system) software\",\"Bada software\",\"BlackBerry software\",\"Blog hosting services\",\"Blog software\",\"Internet properties established in 2004\",\"IOS software\",\"...</td>\n",
       "      <td>[{\"id\" : 18426568\",\"\"begin\": 0,\"end\": 4,\"entity\": \"NASA\",\"text\": \"NASA\",\"score\": 0.61,\"categories\" : [\"NASA\",\"Government agencies established in 1958\",\"1958 establishments in the United States\",\"Organizations based in Washington, D.C.\",\"Government of the United States\"]},{\"id\" : 37876\",\"\"begin\":...</td>\n",
       "      <td>[]</td>\n",
       "      <td>https://www.buzzfeednews.com/article/stephaniemlee/inside-the-internets-war-on-science,http://archive.fo/2ooBC,http://archive.fo/KaYnc,https://skepticalscience.com/understanding-adjustments-to-temp-data.html,https://data.giss.nasa.gov/gistemp/,https://cdiac.ess-dive.lbl.gov/trends/temp/hansen/,h...</td>\n",
       "      <td>NaN</td>\n",
       "      <td>Was Global Warming Data ‘Faked’ to ‘Fit Climate Change Fictions’?</td>\n",
       "      <td>False</td>\n",
       "    </tr>\n",
       "  </tbody>\n",
       "</table>\n",
       "</div>"
      ],
      "text/plain": [
       "       id lien_auteur  \\\n",
       "309  5309      snopes   \n",
       "\n",
       "                                                                                        reclamation_examinee  \\\n",
       "309  NASA and NOAA faked climate data in the GISTEMP global temperature record to exaggerate global warming.   \n",
       "\n",
       "    date_examination  source  \\\n",
       "309       2019-10-03  snopes   \n",
       "\n",
       "                                                             lien  \\\n",
       "309  https://www.snopes.com/fact-check/global-warming-data-faked/   \n",
       "\n",
       "                                                                                                                                                                                                                                                                                                         contenu  \\\n",
       "309  Since 2014, climate-change deniers have squeezed millions of views, Facebook shares, and Twitter retweets by retelling a story alleging the discovery of “faked” NASA data designed to “fit a climate change narrative.” Though copied almost wholesale from a blog post, the version of the story that ...   \n",
       "\n",
       "    extra_auteur  \\\n",
       "309           []   \n",
       "\n",
       "                                                                                                                                                                                                                                                                                                   extra_contenu  \\\n",
       "309  [{\"id\" : 7529378\",\"\"begin\": 65,\"end\": 73,\"entity\": \"Facebook\",\"text\": \"Facebook\",\"score\": 0.37,\"categories\" : [\"Facebook\",\"Android (operating system) software\",\"Bada software\",\"BlackBerry software\",\"Blog hosting services\",\"Blog software\",\"Internet properties established in 2004\",\"IOS software\",\"...   \n",
       "\n",
       "                                                                                                                                                                                                                                                                                      extra_publication_examinée  \\\n",
       "309  [{\"id\" : 18426568\",\"\"begin\": 0,\"end\": 4,\"entity\": \"NASA\",\"text\": \"NASA\",\"score\": 0.61,\"categories\" : [\"NASA\",\"Government agencies established in 1958\",\"1958 establishments in the United States\",\"Organizations based in Washington, D.C.\",\"Government of the United States\"]},{\"id\" : 37876\",\"\"begin\":...   \n",
       "\n",
       "    extra_mot_cle  \\\n",
       "309            []   \n",
       "\n",
       "                                                                                                                                                                                                                                                                                            extra_lien_reference  \\\n",
       "309  https://www.buzzfeednews.com/article/stephaniemlee/inside-the-internets-war-on-science,http://archive.fo/2ooBC,http://archive.fo/KaYnc,https://skepticalscience.com/understanding-adjustments-to-temp-data.html,https://data.giss.nasa.gov/gistemp/,https://cdiac.ess-dive.lbl.gov/trends/temp/hansen/,h...   \n",
       "\n",
       "    extra_tags  \\\n",
       "309        NaN   \n",
       "\n",
       "                                                           extra_titre  \\\n",
       "309  Was Global Warming Data ‘Faked’ to ‘Fit Climate Change Fictions’?   \n",
       "\n",
       "    note_nom_alternatif  \n",
       "309               False  "
      ]
     },
     "metadata": {},
     "output_type": "display_data"
    }
   ],
   "source": [
    "display(df.sample(1))"
   ]
  },
  {
   "cell_type": "markdown",
   "metadata": {},
   "source": [
    "Nouveau nombre de lignes et colonnes "
   ]
  },
  {
   "cell_type": "code",
   "execution_count": 28,
   "metadata": {},
   "outputs": [
    {
     "data": {
      "text/plain": [
       "(20000, 15)"
      ]
     },
     "metadata": {},
     "output_type": "display_data"
    }
   ],
   "source": [
    "display(df.shape)"
   ]
  },
  {
   "cell_type": "code",
   "execution_count": 29,
   "metadata": {},
   "outputs": [
    {
     "data": {
      "text/plain": [
       "count     20000\n",
       "unique      657\n",
       "top          []\n",
       "freq      18696\n",
       "Name: extra_auteur, dtype: object"
      ]
     },
     "metadata": {},
     "output_type": "display_data"
    }
   ],
   "source": [
    "display(df[\"extra_auteur\"].describe())"
   ]
  },
  {
   "cell_type": "code",
   "execution_count": 30,
   "metadata": {},
   "outputs": [],
   "source": [
    "del df[\"extra_auteur\"]"
   ]
  },
  {
   "cell_type": "code",
   "execution_count": 31,
   "metadata": {},
   "outputs": [
    {
     "name": "stdout",
     "output_type": "stream",
     "text": [
      "id\n"
     ]
    },
    {
     "data": {
      "text/plain": [
       "count    20000.000000\n",
       "mean      8590.781250\n",
       "std       5599.143886\n",
       "min          0.000000\n",
       "25%       3474.750000\n",
       "50%       8474.500000\n",
       "75%      13474.250000\n",
       "max      18474.000000\n",
       "Name: id, dtype: float64"
      ]
     },
     "metadata": {},
     "output_type": "display_data"
    },
    {
     "name": "stdout",
     "output_type": "stream",
     "text": [
      "___________________\n",
      "lien_auteur\n"
     ]
    },
    {
     "data": {
      "text/plain": [
       "count      20000\n",
       "unique         2\n",
       "top       snopes\n",
       "freq       18475\n",
       "Name: lien_auteur, dtype: object"
      ]
     },
     "metadata": {},
     "output_type": "display_data"
    },
    {
     "name": "stdout",
     "output_type": "stream",
     "text": [
      "___________________\n",
      "reclamation_examinee\n"
     ]
    },
    {
     "data": {
      "text/plain": [
       "count                                                                                                       20000\n",
       "unique                                                                                                      14297\n",
       "top       NASA and NOAA faked climate data in the GISTEMP global temperature record to exaggerate global warming.\n",
       "freq                                                                                                         1132\n",
       "Name: reclamation_examinee, dtype: object"
      ]
     },
     "metadata": {},
     "output_type": "display_data"
    },
    {
     "name": "stdout",
     "output_type": "stream",
     "text": [
      "___________________\n",
      "date_examination\n"
     ]
    },
    {
     "data": {
      "text/plain": [
       "count          19598\n",
       "unique          4331\n",
       "top       2019-10-04\n",
       "freq            2267\n",
       "Name: date_examination, dtype: object"
      ]
     },
     "metadata": {},
     "output_type": "display_data"
    },
    {
     "name": "stdout",
     "output_type": "stream",
     "text": [
      "___________________\n",
      "source\n"
     ]
    },
    {
     "data": {
      "text/plain": [
       "count      20000\n",
       "unique         2\n",
       "top       snopes\n",
       "freq       18475\n",
       "Name: source, dtype: object"
      ]
     },
     "metadata": {},
     "output_type": "display_data"
    },
    {
     "name": "stdout",
     "output_type": "stream",
     "text": [
      "___________________\n",
      "lien\n"
     ]
    },
    {
     "data": {
      "text/plain": [
       "count                                                                  20000\n",
       "unique                                                                 14336\n",
       "top       https://www.snopes.com/fact-check/bill-nye-arrested-illegal-drugs/\n",
       "freq                                                                    1132\n",
       "Name: lien, dtype: object"
      ]
     },
     "metadata": {},
     "output_type": "display_data"
    },
    {
     "name": "stdout",
     "output_type": "stream",
     "text": [
      "___________________\n",
      "contenu\n"
     ]
    },
    {
     "data": {
      "text/plain": [
       "count                                                                                                                                                                                                                                                                                                           19997\n",
       "unique                                                                                                                                                                                                                                                                                                          14317\n",
       "top       On Oct. 3, 2019, an image supposedly showing a tweet from Monica Lewinsky saying she was willing to “take one for (the) team” (and perform oral sex) in order to get U.S. President Donald Trump impeached started to circulate on social media:This is not a genuine tweet from Lewinsky. Lewinsky is t...\n",
       "freq                                                                                                                                                                                                                                                                                                             1132\n",
       "Name: contenu, dtype: object"
      ]
     },
     "metadata": {},
     "output_type": "display_data"
    },
    {
     "name": "stdout",
     "output_type": "stream",
     "text": [
      "___________________\n",
      "extra_contenu\n"
     ]
    },
    {
     "data": {
      "text/plain": [
       "count                                                                                                                                                                                                                                                                                                           20000\n",
       "unique                                                                                                                                                                                                                                                                                                          14264\n",
       "top       [{\"id\" : 19948\",\"\"begin\": 55,\"end\": 70,\"entity\": \"Monica Lewinsky\",\"text\": \"Monica Lewinsky\",\"score\": 0.55,\"categories\" : [\"1973 births\",\"Alumni of the London School of Economics\",\"American expatriates in the United Kingdom\",\"American fashion businesspeople\",\"American fashion designers\",\"America...\n",
       "freq                                                                                                                                                                                                                                                                                                             1132\n",
       "Name: extra_contenu, dtype: object"
      ]
     },
     "metadata": {},
     "output_type": "display_data"
    },
    {
     "name": "stdout",
     "output_type": "stream",
     "text": [
      "___________________\n",
      "extra_publication_examinée\n"
     ]
    },
    {
     "data": {
      "text/plain": [
       "count     20000\n",
       "unique     9806\n",
       "top          []\n",
       "freq       5420\n",
       "Name: extra_publication_examinée, dtype: object"
      ]
     },
     "metadata": {},
     "output_type": "display_data"
    },
    {
     "name": "stdout",
     "output_type": "stream",
     "text": [
      "___________________\n",
      "extra_mot_cle\n"
     ]
    },
    {
     "data": {
      "text/plain": [
       "count     20000\n",
       "unique     5039\n",
       "top          []\n",
       "freq      13516\n",
       "Name: extra_mot_cle, dtype: object"
      ]
     },
     "metadata": {},
     "output_type": "display_data"
    },
    {
     "name": "stdout",
     "output_type": "stream",
     "text": [
      "___________________\n",
      "extra_lien_reference\n"
     ]
    },
    {
     "data": {
      "text/plain": [
       "count                                                                                                                                                                                                                                                                                                           18632\n",
       "unique                                                                                                                                                                                                                                                                                                          12875\n",
       "top       https://twitter.com/redsteeze/status/1179914912543363072?ref_src=twsrc%5Etfw%7Ctwcamp%5Etweetembed%7Ctwterm%5E1179914912543363072&ref_url=https%3A%2F%2Fwww.newsweek.com%2Feat-babies-twitter-reacts-alexandria-ocasio-cortez-town-hall-meeting-1463114,https://twitter.com/realdonaldtrump/status/11799...\n",
       "freq                                                                                                                                                                                                                                                                                                             1132\n",
       "Name: extra_lien_reference, dtype: object"
      ]
     },
     "metadata": {},
     "output_type": "display_data"
    },
    {
     "name": "stdout",
     "output_type": "stream",
     "text": [
      "___________________\n",
      "extra_tags\n"
     ]
    },
    {
     "data": {
      "text/plain": [
       "count           14175\n",
       "unique           7187\n",
       "top       ASP Article\n",
       "freq             1511\n",
       "Name: extra_tags, dtype: object"
      ]
     },
     "metadata": {},
     "output_type": "display_data"
    },
    {
     "name": "stdout",
     "output_type": "stream",
     "text": [
      "___________________\n",
      "extra_titre\n"
     ]
    },
    {
     "data": {
      "text/plain": [
       "count                       20000\n",
       "unique                      14279\n",
       "top       The Sound of Apocalypse\n",
       "freq                         1132\n",
       "Name: extra_titre, dtype: object"
      ]
     },
     "metadata": {},
     "output_type": "display_data"
    },
    {
     "name": "stdout",
     "output_type": "stream",
     "text": [
      "___________________\n",
      "note_nom_alternatif\n"
     ]
    },
    {
     "data": {
      "text/plain": [
       "count     19992\n",
       "unique      128\n",
       "top       False\n",
       "freq       7250\n",
       "Name: note_nom_alternatif, dtype: object"
      ]
     },
     "metadata": {},
     "output_type": "display_data"
    },
    {
     "name": "stdout",
     "output_type": "stream",
     "text": [
      "___________________\n"
     ]
    }
   ],
   "source": [
    "for column in df :\n",
    "    print(column)\n",
    "    display(df[column].describe())\n",
    "    print(\"___________________\")\n",
    "    "
   ]
  },
  {
   "cell_type": "code",
   "execution_count": 33,
   "metadata": {},
   "outputs": [],
   "source": [
    "df.drop_duplicates(subset=[\"source\",\"contenu\",\"note_nom_alternatif\",\"date_examination\"],keep='first', inplace=True)"
   ]
  },
  {
   "cell_type": "code",
   "execution_count": 34,
   "metadata": {
    "scrolled": true
   },
   "outputs": [
    {
     "name": "stdout",
     "output_type": "stream",
     "text": [
      "id\n"
     ]
    },
    {
     "data": {
      "text/plain": [
       "count    14320.000000\n",
       "mean      8287.350698\n",
       "std       5687.074306\n",
       "min          0.000000\n",
       "25%       2911.750000\n",
       "50%       7991.500000\n",
       "75%      13291.250000\n",
       "max      18454.000000\n",
       "Name: id, dtype: float64"
      ]
     },
     "metadata": {},
     "output_type": "display_data"
    },
    {
     "name": "stdout",
     "output_type": "stream",
     "text": [
      "___________________\n",
      "lien_auteur\n"
     ]
    },
    {
     "data": {
      "text/plain": [
       "count      14320\n",
       "unique         2\n",
       "top       snopes\n",
       "freq       12798\n",
       "Name: lien_auteur, dtype: object"
      ]
     },
     "metadata": {},
     "output_type": "display_data"
    },
    {
     "name": "stdout",
     "output_type": "stream",
     "text": [
      "___________________\n",
      "reclamation_examinee\n"
     ]
    },
    {
     "data": {
      "text/plain": [
       "count                                                                                                              14320\n",
       "unique                                                                                                             14297\n",
       "top       The Allman Brothers Band’s album title Eat a Peach is a reference to Duane Allman’s fatal motorcycle accident.\n",
       "freq                                                                                                                   3\n",
       "Name: reclamation_examinee, dtype: object"
      ]
     },
     "metadata": {},
     "output_type": "display_data"
    },
    {
     "name": "stdout",
     "output_type": "stream",
     "text": [
      "___________________\n",
      "date_examination\n"
     ]
    },
    {
     "data": {
      "text/plain": [
       "count          13918\n",
       "unique          4331\n",
       "top       2019-10-11\n",
       "freq             156\n",
       "Name: date_examination, dtype: object"
      ]
     },
     "metadata": {},
     "output_type": "display_data"
    },
    {
     "name": "stdout",
     "output_type": "stream",
     "text": [
      "___________________\n",
      "source\n"
     ]
    },
    {
     "data": {
      "text/plain": [
       "count      14320\n",
       "unique         2\n",
       "top       snopes\n",
       "freq       12798\n",
       "Name: source, dtype: object"
      ]
     },
     "metadata": {},
     "output_type": "display_data"
    },
    {
     "name": "stdout",
     "output_type": "stream",
     "text": [
      "___________________\n",
      "lien\n"
     ]
    },
    {
     "data": {
      "text/plain": [
       "count                                                                         14320\n",
       "unique                                                                        14320\n",
       "top       https://www.snopes.com/fact-check/did-netflix-announce-god-of-war-series/\n",
       "freq                                                                              1\n",
       "Name: lien, dtype: object"
      ]
     },
     "metadata": {},
     "output_type": "display_data"
    },
    {
     "name": "stdout",
     "output_type": "stream",
     "text": [
      "___________________\n",
      "contenu\n"
     ]
    },
    {
     "data": {
      "text/plain": [
       "count                                                                                                                                                                                                                                                                                                           14317\n",
       "unique                                                                                                                                                                                                                                                                                                          14317\n",
       "top       In April 2018, American comedian and actor Bill Cosby was convicted of felony sexual assault on a woman who had accused him of drugging and sexually abusing her years before (one of dozens who made similar allegations). Cosby was sentenced to three to 10 years in a state prison and is currently ...\n",
       "freq                                                                                                                                                                                                                                                                                                                1\n",
       "Name: contenu, dtype: object"
      ]
     },
     "metadata": {},
     "output_type": "display_data"
    },
    {
     "name": "stdout",
     "output_type": "stream",
     "text": [
      "___________________\n",
      "extra_contenu\n"
     ]
    },
    {
     "data": {
      "text/plain": [
       "count     14320\n",
       "unique    14264\n",
       "top          []\n",
       "freq         56\n",
       "Name: extra_contenu, dtype: object"
      ]
     },
     "metadata": {},
     "output_type": "display_data"
    },
    {
     "name": "stdout",
     "output_type": "stream",
     "text": [
      "___________________\n",
      "extra_publication_examinée\n"
     ]
    },
    {
     "data": {
      "text/plain": [
       "count     14320\n",
       "unique     9806\n",
       "top          []\n",
       "freq       4284\n",
       "Name: extra_publication_examinée, dtype: object"
      ]
     },
     "metadata": {},
     "output_type": "display_data"
    },
    {
     "name": "stdout",
     "output_type": "stream",
     "text": [
      "___________________\n",
      "extra_mot_cle\n"
     ]
    },
    {
     "data": {
      "text/plain": [
       "count     14320\n",
       "unique     5039\n",
       "top          []\n",
       "freq       7843\n",
       "Name: extra_mot_cle, dtype: object"
      ]
     },
     "metadata": {},
     "output_type": "display_data"
    },
    {
     "name": "stdout",
     "output_type": "stream",
     "text": [
      "___________________\n",
      "extra_lien_reference\n"
     ]
    },
    {
     "data": {
      "text/plain": [
       "count                            12955\n",
       "unique                           12875\n",
       "top       /sources/language/oxford.htm\n",
       "freq                                 8\n",
       "Name: extra_lien_reference, dtype: object"
      ]
     },
     "metadata": {},
     "output_type": "display_data"
    },
    {
     "name": "stdout",
     "output_type": "stream",
     "text": [
      "___________________\n",
      "extra_tags\n"
     ]
    },
    {
     "data": {
      "text/plain": [
       "count           13022\n",
       "unique           7187\n",
       "top       ASP Article\n",
       "freq             1504\n",
       "Name: extra_tags, dtype: object"
      ]
     },
     "metadata": {},
     "output_type": "display_data"
    },
    {
     "name": "stdout",
     "output_type": "stream",
     "text": [
      "___________________\n",
      "extra_titre\n"
     ]
    },
    {
     "data": {
      "text/plain": [
       "count       14320\n",
       "unique      14278\n",
       "top       Tsunami\n",
       "freq            3\n",
       "Name: extra_titre, dtype: object"
      ]
     },
     "metadata": {},
     "output_type": "display_data"
    },
    {
     "name": "stdout",
     "output_type": "stream",
     "text": [
      "___________________\n",
      "note_nom_alternatif\n"
     ]
    },
    {
     "data": {
      "text/plain": [
       "count     14312\n",
       "unique      128\n",
       "top       False\n",
       "freq       4980\n",
       "Name: note_nom_alternatif, dtype: object"
      ]
     },
     "metadata": {},
     "output_type": "display_data"
    },
    {
     "name": "stdout",
     "output_type": "stream",
     "text": [
      "___________________\n"
     ]
    }
   ],
   "source": [
    "for column in df :\n",
    "    print(column)\n",
    "    display(df[column].describe())\n",
    "    print(\"___________________\")"
   ]
  },
  {
   "cell_type": "code",
   "execution_count": 35,
   "metadata": {},
   "outputs": [
    {
     "data": {
      "text/html": [
       "<div>\n",
       "<style scoped>\n",
       "    .dataframe tbody tr th:only-of-type {\n",
       "        vertical-align: middle;\n",
       "    }\n",
       "\n",
       "    .dataframe tbody tr th {\n",
       "        vertical-align: top;\n",
       "    }\n",
       "\n",
       "    .dataframe thead th {\n",
       "        text-align: right;\n",
       "    }\n",
       "</style>\n",
       "<table border=\"1\" class=\"dataframe\">\n",
       "  <thead>\n",
       "    <tr style=\"text-align: right;\">\n",
       "      <th></th>\n",
       "      <th>id</th>\n",
       "      <th>lien_auteur</th>\n",
       "      <th>reclamation_examinee</th>\n",
       "      <th>date_examination</th>\n",
       "      <th>source</th>\n",
       "      <th>lien</th>\n",
       "      <th>contenu</th>\n",
       "      <th>extra_contenu</th>\n",
       "      <th>extra_publication_examinée</th>\n",
       "      <th>extra_mot_cle</th>\n",
       "      <th>extra_lien_reference</th>\n",
       "      <th>extra_tags</th>\n",
       "      <th>extra_titre</th>\n",
       "      <th>note_nom_alternatif</th>\n",
       "    </tr>\n",
       "  </thead>\n",
       "  <tbody>\n",
       "    <tr>\n",
       "      <th>243</th>\n",
       "      <td>10243</td>\n",
       "      <td>snopes</td>\n",
       "      <td>A scientist missing for over 20 years was found living in a secret drug lab in a Minnesota couple's basement.</td>\n",
       "      <td>2015-05-18</td>\n",
       "      <td>snopes</td>\n",
       "      <td>https://www.snopes.com/fact-check/fake-news-missing-scientist-found/</td>\n",
       "      <td>On 17 May 2015 the web site IFLScience.org published an article reporting that a scientist who had been missing for more than 20 years had been found hiding in a secret drug lab he’d established in a Minnesota couple’s basement:17 MayIFLScience.org20 yearsA Couple from Cottage Grove, Minnesota d...</td>\n",
       "      <td>[{\"id\" : 122041\",\"\"begin\": 270,\"end\": 293,\"entity\": \"Cottage Grove, Minnesota\",\"text\": \"Cottage Grove, Minnesota\",\"score\": 0.50,\"categories\" : [\"Cities in Minnesota\",\"Populated places in Washington County, Minnesota\",\"Minnesota populated places on the Mississippi River\",\"Populated places establi...</td>\n",
       "      <td>[]</td>\n",
       "      <td>[{\"id\" : 843491\",\"\"begin\": 0,\"end\": 24,\"entity\": \"Not Necessarily the News\",\"text\": \"Not Necessarily The News\",\"score\": 0.50,\"categories\" : [\"HBO network shows\",\"American sketch comedy television shows\",\"Satirical television programmes\",\"Television series about television\",\"1980s American televi...</td>\n",
       "      <td>http://www.iflscience.com/,https://www.facebook.com/IFeakingLoveScience,http://bangordailynews.com/2014/06/30/news/augusta/augusta-man-gets-20-years-in-1976-murder/</td>\n",
       "      <td>Not Necessarily The News</td>\n",
       "      <td>Scientist Missing for Over 20 Years Found Living Inside Secret LSD Drug Lab Hidden in Basement</td>\n",
       "      <td>False</td>\n",
       "    </tr>\n",
       "  </tbody>\n",
       "</table>\n",
       "</div>"
      ],
      "text/plain": [
       "        id lien_auteur  \\\n",
       "243  10243      snopes   \n",
       "\n",
       "                                                                                              reclamation_examinee  \\\n",
       "243  A scientist missing for over 20 years was found living in a secret drug lab in a Minnesota couple's basement.   \n",
       "\n",
       "    date_examination  source  \\\n",
       "243       2015-05-18  snopes   \n",
       "\n",
       "                                                                     lien  \\\n",
       "243  https://www.snopes.com/fact-check/fake-news-missing-scientist-found/   \n",
       "\n",
       "                                                                                                                                                                                                                                                                                                         contenu  \\\n",
       "243  On 17 May 2015 the web site IFLScience.org published an article reporting that a scientist who had been missing for more than 20 years had been found hiding in a secret drug lab he’d established in a Minnesota couple’s basement:17 MayIFLScience.org20 yearsA Couple from Cottage Grove, Minnesota d...   \n",
       "\n",
       "                                                                                                                                                                                                                                                                                                   extra_contenu  \\\n",
       "243  [{\"id\" : 122041\",\"\"begin\": 270,\"end\": 293,\"entity\": \"Cottage Grove, Minnesota\",\"text\": \"Cottage Grove, Minnesota\",\"score\": 0.50,\"categories\" : [\"Cities in Minnesota\",\"Populated places in Washington County, Minnesota\",\"Minnesota populated places on the Mississippi River\",\"Populated places establi...   \n",
       "\n",
       "    extra_publication_examinée  \\\n",
       "243                         []   \n",
       "\n",
       "                                                                                                                                                                                                                                                                                                   extra_mot_cle  \\\n",
       "243  [{\"id\" : 843491\",\"\"begin\": 0,\"end\": 24,\"entity\": \"Not Necessarily the News\",\"text\": \"Not Necessarily The News\",\"score\": 0.50,\"categories\" : [\"HBO network shows\",\"American sketch comedy television shows\",\"Satirical television programmes\",\"Television series about television\",\"1980s American televi...   \n",
       "\n",
       "                                                                                                                                                     extra_lien_reference  \\\n",
       "243  http://www.iflscience.com/,https://www.facebook.com/IFeakingLoveScience,http://bangordailynews.com/2014/06/30/news/augusta/augusta-man-gets-20-years-in-1976-murder/   \n",
       "\n",
       "                   extra_tags  \\\n",
       "243  Not Necessarily The News   \n",
       "\n",
       "                                                                                        extra_titre  \\\n",
       "243  Scientist Missing for Over 20 Years Found Living Inside Secret LSD Drug Lab Hidden in Basement   \n",
       "\n",
       "    note_nom_alternatif  \n",
       "243               False  "
      ]
     },
     "metadata": {},
     "output_type": "display_data"
    }
   ],
   "source": [
    "display(df.sample(1))"
   ]
  },
  {
   "cell_type": "code",
   "execution_count": 36,
   "metadata": {},
   "outputs": [],
   "source": [
    "df = df.drop([\"extra_contenu\",\"extra_publication_examinée\",\"extra_mot_cle\"], axis=1)"
   ]
  },
  {
   "cell_type": "code",
   "execution_count": 37,
   "metadata": {},
   "outputs": [
    {
     "data": {
      "text/html": [
       "<div>\n",
       "<style scoped>\n",
       "    .dataframe tbody tr th:only-of-type {\n",
       "        vertical-align: middle;\n",
       "    }\n",
       "\n",
       "    .dataframe tbody tr th {\n",
       "        vertical-align: top;\n",
       "    }\n",
       "\n",
       "    .dataframe thead th {\n",
       "        text-align: right;\n",
       "    }\n",
       "</style>\n",
       "<table border=\"1\" class=\"dataframe\">\n",
       "  <thead>\n",
       "    <tr style=\"text-align: right;\">\n",
       "      <th></th>\n",
       "      <th>id</th>\n",
       "      <th>lien_auteur</th>\n",
       "      <th>reclamation_examinee</th>\n",
       "      <th>date_examination</th>\n",
       "      <th>source</th>\n",
       "      <th>lien</th>\n",
       "      <th>contenu</th>\n",
       "      <th>extra_lien_reference</th>\n",
       "      <th>extra_tags</th>\n",
       "      <th>extra_titre</th>\n",
       "      <th>note_nom_alternatif</th>\n",
       "    </tr>\n",
       "  </thead>\n",
       "  <tbody>\n",
       "    <tr>\n",
       "      <th>2331</th>\n",
       "      <td>17331</td>\n",
       "      <td>snopes</td>\n",
       "      <td>In 1555 Nostradamus predicted that December 2000 would see “the village idiot will come forth to be acclaimed the leader in the home of greatest power.”</td>\n",
       "      <td>2007-03-21</td>\n",
       "      <td>snopes</td>\n",
       "      <td>https://www.snopes.com/fact-check/the-village-idiot/</td>\n",
       "      <td>Claim:   In 1555 Nostradamus predicted that December 2000 would see “the village idiot will come forth to be acclaimed the leader in the home of greatest power.” Claim:Claim:Status:   False.Status:   False.Status:Status:False.False.False.Example:   [Collected on the Internet, 2000]Example:Exampl...</td>\n",
       "      <td>NaN</td>\n",
       "      <td>ASP Article, george w bush, Important If True</td>\n",
       "      <td>Nostradamus Prophecy</td>\n",
       "      <td>False</td>\n",
       "    </tr>\n",
       "  </tbody>\n",
       "</table>\n",
       "</div>"
      ],
      "text/plain": [
       "         id lien_auteur  \\\n",
       "2331  17331      snopes   \n",
       "\n",
       "                                                                                                                                          reclamation_examinee  \\\n",
       "2331  In 1555 Nostradamus predicted that December 2000 would see “the village idiot will come forth to be acclaimed the leader in the home of greatest power.”   \n",
       "\n",
       "     date_examination  source  \\\n",
       "2331       2007-03-21  snopes   \n",
       "\n",
       "                                                      lien  \\\n",
       "2331  https://www.snopes.com/fact-check/the-village-idiot/   \n",
       "\n",
       "                                                                                                                                                                                                                                                                                                          contenu  \\\n",
       "2331  Claim:   In 1555 Nostradamus predicted that December 2000 would see “the village idiot will come forth to be acclaimed the leader in the home of greatest power.” Claim:Claim:Status:   False.Status:   False.Status:Status:False.False.False.Example:   [Collected on the Internet, 2000]Example:Exampl...   \n",
       "\n",
       "     extra_lien_reference                                     extra_tags  \\\n",
       "2331                  NaN  ASP Article, george w bush, Important If True   \n",
       "\n",
       "               extra_titre note_nom_alternatif  \n",
       "2331  Nostradamus Prophecy               False  "
      ]
     },
     "metadata": {},
     "output_type": "display_data"
    }
   ],
   "source": [
    "display(df.sample(1))"
   ]
  },
  {
   "cell_type": "code",
   "execution_count": 38,
   "metadata": {},
   "outputs": [
    {
     "data": {
      "text/plain": [
       "<matplotlib.axes._subplots.AxesSubplot at 0x11781790>"
      ]
     },
     "execution_count": 38,
     "metadata": {},
     "output_type": "execute_result"
    },
    {
     "data": {
      "image/png": "[encoded data removed]",
      "text/plain": [
       "<Figure size 432x288 with 1 Axes>"
      ]
     },
     "metadata": {
      "needs_background": "light"
     },
     "output_type": "display_data"
    }
   ],
   "source": [
    "sns.countplot(x='note_nom_alternatif', data=df)"
   ]
  },
  {
   "cell_type": "code",
   "execution_count": 39,
   "metadata": {},
   "outputs": [
    {
     "data": {
      "text/plain": [
       "<seaborn.axisgrid.FacetGrid at 0x11a44e80>"
      ]
     },
     "execution_count": 39,
     "metadata": {},
     "output_type": "execute_result"
    },
    {
     "data": {
      "image/png": "[encoded data removed]",
      "text/plain": [
       "<Figure size 720x360 with 2 Axes>"
      ]
     },
     "metadata": {
      "needs_background": "light"
     },
     "output_type": "display_data"
    }
   ],
   "source": [
    "sns.catplot(x='note_nom_alternatif', col='source', kind='count', data=df)"
   ]
  },
  {
   "cell_type": "code",
   "execution_count": 40,
   "metadata": {},
   "outputs": [
    {
     "data": {
      "text/plain": [
       "<seaborn.axisgrid.FacetGrid at 0x11a445e0>"
      ]
     },
     "execution_count": 40,
     "metadata": {},
     "output_type": "execute_result"
    },
    {
     "data": {
      "image/png": "[encoded data removed]",
      "text/plain": [
       "<Figure size 720x360 with 2 Axes>"
      ]
     },
     "metadata": {
      "needs_background": "light"
     },
     "output_type": "display_data"
    }
   ],
   "source": [
    "sns.catplot(x='note_nom_alternatif', col='lien_auteur', kind='count', data=df)"
   ]
  },
  {
   "cell_type": "code",
   "execution_count": 41,
   "metadata": {},
   "outputs": [],
   "source": [
    "def toLower(mot) :\n",
    "    return str(mot).lower()"
   ]
  },
  {
   "cell_type": "code",
   "execution_count": 42,
   "metadata": {},
   "outputs": [],
   "source": [
    "df[\"note_nom_alternatif\"] = df[\"note_nom_alternatif\"].apply(toLower)"
   ]
  },
  {
   "cell_type": "code",
   "execution_count": 45,
   "metadata": {},
   "outputs": [
    {
     "data": {
      "text/html": [
       "<div>\n",
       "<style scoped>\n",
       "    .dataframe tbody tr th:only-of-type {\n",
       "        vertical-align: middle;\n",
       "    }\n",
       "\n",
       "    .dataframe tbody tr th {\n",
       "        vertical-align: top;\n",
       "    }\n",
       "\n",
       "    .dataframe thead th {\n",
       "        text-align: right;\n",
       "    }\n",
       "</style>\n",
       "<table border=\"1\" class=\"dataframe\">\n",
       "  <thead>\n",
       "    <tr style=\"text-align: right;\">\n",
       "      <th></th>\n",
       "      <th>id</th>\n",
       "      <th>lien_auteur</th>\n",
       "      <th>reclamation_examinee</th>\n",
       "      <th>date_examination</th>\n",
       "      <th>source</th>\n",
       "      <th>lien</th>\n",
       "      <th>contenu</th>\n",
       "      <th>extra_lien_reference</th>\n",
       "      <th>extra_tags</th>\n",
       "      <th>extra_titre</th>\n",
       "      <th>note_nom_alternatif</th>\n",
       "    </tr>\n",
       "  </thead>\n",
       "  <tbody>\n",
       "    <tr>\n",
       "      <th>452</th>\n",
       "      <td>452</td>\n",
       "      <td>snopes</td>\n",
       "      <td>Rep. Frederica Wilson advocated prosecuting persons who \"\"make fun of Congress\"\" online.</td>\n",
       "      <td>2019-07-10</td>\n",
       "      <td>snopes</td>\n",
       "      <td>https://www.snopes.com/fact-check/frederica-wilson-online-congress/</td>\n",
       "      <td>On July 2, 2019, amidst a controversy over the conditions at migrant detention centers, U.S. Rep. Frederica Wilson of Florida led a congressional delegation that toured the Homestead Temporary Shelter in Homestead, Florida, a 3,200-bed migrant children’s detention center operated by a private, f...</td>\n",
       "      <td>https://www.washingtonpost.com/immigration/2019/07/08/un-human-rights-chief-deeply-shocked-by-migrant-detention-center-conditions-texas/,https://miami.cbslocal.com/2019/07/02/frederica-wilson-congressional-delegation-inspect-homestead-facility/,https://www.npr.org/2019/02/13/694138106/inside-the...</td>\n",
       "      <td>NaN</td>\n",
       "      <td>Did Rep. Frederica Wilson Advocate Prosecuting People Who ‘Make Fun’ of Congress?</td>\n",
       "      <td>mixture</td>\n",
       "    </tr>\n",
       "  </tbody>\n",
       "</table>\n",
       "</div>"
      ],
      "text/plain": [
       "      id lien_auteur  \\\n",
       "452  452      snopes   \n",
       "\n",
       "                                                                         reclamation_examinee  \\\n",
       "452  Rep. Frederica Wilson advocated prosecuting persons who \"\"make fun of Congress\"\" online.   \n",
       "\n",
       "    date_examination  source  \\\n",
       "452       2019-07-10  snopes   \n",
       "\n",
       "                                                                    lien  \\\n",
       "452  https://www.snopes.com/fact-check/frederica-wilson-online-congress/   \n",
       "\n",
       "                                                                                                                                                                                                                                                                                                         contenu  \\\n",
       "452  On July 2, 2019, amidst a controversy over the conditions at migrant detention centers, U.S. Rep. Frederica Wilson of Florida led a congressional delegation that toured the Homestead Temporary Shelter in Homestead, Florida, a 3,200-bed migrant children’s detention center operated by a private, f...   \n",
       "\n",
       "                                                                                                                                                                                                                                                                                            extra_lien_reference  \\\n",
       "452  https://www.washingtonpost.com/immigration/2019/07/08/un-human-rights-chief-deeply-shocked-by-migrant-detention-center-conditions-texas/,https://miami.cbslocal.com/2019/07/02/frederica-wilson-congressional-delegation-inspect-homestead-facility/,https://www.npr.org/2019/02/13/694138106/inside-the...   \n",
       "\n",
       "    extra_tags  \\\n",
       "452        NaN   \n",
       "\n",
       "                                                                           extra_titre  \\\n",
       "452  Did Rep. Frederica Wilson Advocate Prosecuting People Who ‘Make Fun’ of Congress?   \n",
       "\n",
       "    note_nom_alternatif  \n",
       "452             mixture  "
      ]
     },
     "metadata": {},
     "output_type": "display_data"
    }
   ],
   "source": [
    "display(df.sample(1))"
   ]
  },
  {
   "cell_type": "code",
   "execution_count": 46,
   "metadata": {},
   "outputs": [
    {
     "data": {
      "text/plain": [
       "<seaborn.axisgrid.FacetGrid at 0x11c06838>"
      ]
     },
     "execution_count": 46,
     "metadata": {},
     "output_type": "execute_result"
    },
    {
     "data": {
      "image/png": "[encoded data removed]",
      "text/plain": [
       "<Figure size 1077.75x360 with 2 Axes>"
      ]
     },
     "metadata": {
      "needs_background": "light"
     },
     "output_type": "display_data"
    }
   ],
   "source": [
    "sns.catplot('lien_auteur',\n",
    "data=df,\n",
    "kind='count',\n",
    "hue='note_nom_alternatif',\n",
    "col='source')"
   ]
  },
  {
   "cell_type": "code",
   "execution_count": 56,
   "metadata": {},
   "outputs": [
    {
     "name": "stdout",
     "output_type": "stream",
     "text": [
      "<class 'pandas.core.frame.DataFrame'>\n",
      "Int64Index: 14320 entries, 0 to 4999\n",
      "Data columns (total 11 columns):\n",
      " #   Column                Non-Null Count  Dtype \n",
      "---  ------                --------------  ----- \n",
      " 0   id                    14320 non-null  int64 \n",
      " 1   lien_auteur           14320 non-null  object\n",
      " 2   reclamation_examinee  14320 non-null  object\n",
      " 3   date_examination      13918 non-null  object\n",
      " 4   source                14320 non-null  object\n",
      " 5   lien                  14320 non-null  object\n",
      " 6   contenu               14317 non-null  object\n",
      " 7   extra_lien_reference  12955 non-null  object\n",
      " 8   extra_tags            13022 non-null  object\n",
      " 9   extra_titre           14320 non-null  object\n",
      " 10  note_nom_alternatif   14320 non-null  object\n",
      "dtypes: int64(1), object(10)\n",
      "memory usage: 1.0+ MB\n"
     ]
    }
   ],
   "source": [
    "df.info()\n",
    "df2=df.copy()"
   ]
  },
  {
   "cell_type": "code",
   "execution_count": 57,
   "metadata": {},
   "outputs": [
    {
     "data": {
      "text/plain": [
       "<matplotlib.axes._subplots.AxesSubplot at 0x2e53cc28>"
      ]
     },
     "execution_count": 57,
     "metadata": {},
     "output_type": "execute_result"
    },
    {
     "data": {
      "image/png": "[encoded data removed]",
      "text/plain": [
       "<Figure size 432x288 with 1 Axes>"
      ]
     },
     "metadata": {
      "needs_background": "light"
     },
     "output_type": "display_data"
    }
   ],
   "source": [
    "sns.heatmap(df.isnull(), cbar=False)"
   ]
  },
  {
   "cell_type": "code",
   "execution_count": 58,
   "metadata": {},
   "outputs": [],
   "source": [
    "del df2[\"extra_lien_reference\"]\n",
    "del df2[\"extra_tags\"]"
   ]
  },
  {
   "cell_type": "code",
   "execution_count": 63,
   "metadata": {},
   "outputs": [
    {
     "data": {
      "text/plain": [
       "<matplotlib.axes._subplots.AxesSubplot at 0x3bad66b8>"
      ]
     },
     "execution_count": 63,
     "metadata": {},
     "output_type": "execute_result"
    },
    {
     "data": {
      "image/png": "[encoded data removed]",
      "text/plain": [
       "<Figure size 432x288 with 1 Axes>"
      ]
     },
     "metadata": {
      "needs_background": "light"
     },
     "output_type": "display_data"
    }
   ],
   "source": [
    "sns.heatmap(df2.isnull(), cbar=False)"
   ]
  },
  {
   "cell_type": "code",
   "execution_count": 64,
   "metadata": {},
   "outputs": [
    {
     "data": {
      "text/html": [
       "<div>\n",
       "<style scoped>\n",
       "    .dataframe tbody tr th:only-of-type {\n",
       "        vertical-align: middle;\n",
       "    }\n",
       "\n",
       "    .dataframe tbody tr th {\n",
       "        vertical-align: top;\n",
       "    }\n",
       "\n",
       "    .dataframe thead th {\n",
       "        text-align: right;\n",
       "    }\n",
       "</style>\n",
       "<table border=\"1\" class=\"dataframe\">\n",
       "  <thead>\n",
       "    <tr style=\"text-align: right;\">\n",
       "      <th></th>\n",
       "      <th>id</th>\n",
       "      <th>lien_auteur</th>\n",
       "      <th>reclamation_examinee</th>\n",
       "      <th>date_examination</th>\n",
       "      <th>source</th>\n",
       "      <th>lien</th>\n",
       "      <th>contenu</th>\n",
       "      <th>extra_titre</th>\n",
       "      <th>note_nom_alternatif</th>\n",
       "    </tr>\n",
       "  </thead>\n",
       "  <tbody>\n",
       "    <tr>\n",
       "      <th>3116</th>\n",
       "      <td>13116</td>\n",
       "      <td>snopes</td>\n",
       "      <td>A list of “Communist Rules for Revolution” was discovered by Allied forces in Germany in 1919.</td>\n",
       "      <td>2013-08-02</td>\n",
       "      <td>snopes</td>\n",
       "      <td>https://www.snopes.com/fact-check/communist-rules-for-revolution/</td>\n",
       "      <td>Claim:   A list of “Communist Rules for Revolution” was discovered by Allied forces in Germany in 1919. Claim:Claim:FALSEFALSEFALSEFALSEFALSEFALSEFALSEExample:   [Collected via e-mail, June 2007]Example:Example:[Collected via e-mail, June 2007][Collected via e-mail, June 2007]Origins:   A time-h...</td>\n",
       "      <td>Communist Rules for Revolution</td>\n",
       "      <td>false</td>\n",
       "    </tr>\n",
       "  </tbody>\n",
       "</table>\n",
       "</div>"
      ],
      "text/plain": [
       "         id lien_auteur  \\\n",
       "3116  13116      snopes   \n",
       "\n",
       "                                                                                reclamation_examinee  \\\n",
       "3116  A list of “Communist Rules for Revolution” was discovered by Allied forces in Germany in 1919.   \n",
       "\n",
       "     date_examination  source  \\\n",
       "3116       2013-08-02  snopes   \n",
       "\n",
       "                                                                   lien  \\\n",
       "3116  https://www.snopes.com/fact-check/communist-rules-for-revolution/   \n",
       "\n",
       "                                                                                                                                                                                                                                                                                                          contenu  \\\n",
       "3116  Claim:   A list of “Communist Rules for Revolution” was discovered by Allied forces in Germany in 1919. Claim:Claim:FALSEFALSEFALSEFALSEFALSEFALSEFALSEExample:   [Collected via e-mail, June 2007]Example:Example:[Collected via e-mail, June 2007][Collected via e-mail, June 2007]Origins:   A time-h...   \n",
       "\n",
       "                         extra_titre note_nom_alternatif  \n",
       "3116  Communist Rules for Revolution               false  "
      ]
     },
     "metadata": {},
     "output_type": "display_data"
    },
    {
     "name": "stdout",
     "output_type": "stream",
     "text": [
      "<class 'pandas.core.frame.DataFrame'>\n",
      "Int64Index: 13916 entries, 0 to 4999\n",
      "Data columns (total 9 columns):\n",
      " #   Column                Non-Null Count  Dtype \n",
      "---  ------                --------------  ----- \n",
      " 0   id                    13916 non-null  int64 \n",
      " 1   lien_auteur           13916 non-null  object\n",
      " 2   reclamation_examinee  13916 non-null  object\n",
      " 3   date_examination      13916 non-null  object\n",
      " 4   source                13916 non-null  object\n",
      " 5   lien                  13916 non-null  object\n",
      " 6   contenu               13916 non-null  object\n",
      " 7   extra_titre           13916 non-null  object\n",
      " 8   note_nom_alternatif   13916 non-null  object\n",
      "dtypes: int64(1), object(8)\n",
      "memory usage: 652.3+ KB\n"
     ]
    },
    {
     "data": {
      "text/plain": [
       "None"
      ]
     },
     "metadata": {},
     "output_type": "display_data"
    },
    {
     "data": {
      "text/plain": [
       "(13916, 9)"
      ]
     },
     "metadata": {},
     "output_type": "display_data"
    }
   ],
   "source": [
    "df2=df2.dropna()\n",
    "display(df2.sample(1))\n",
    "display(df2.info())\n",
    "display(df2.shape)"
   ]
  },
  {
   "cell_type": "code",
   "execution_count": 65,
   "metadata": {},
   "outputs": [
    {
     "data": {
      "text/plain": [
       "<matplotlib.axes._subplots.AxesSubplot at 0x3ba90aa8>"
      ]
     },
     "execution_count": 65,
     "metadata": {},
     "output_type": "execute_result"
    },
    {
     "data": {
      "image/png": "[encoded data removed]",
      "text/plain": [
       "<Figure size 432x288 with 1 Axes>"
      ]
     },
     "metadata": {
      "needs_background": "light"
     },
     "output_type": "display_data"
    }
   ],
   "source": [
    "sns.heatmap(df2.isnull(), cbar=False)"
   ]
  },
  {
   "cell_type": "code",
   "execution_count": 66,
   "metadata": {},
   "outputs": [],
   "source": [
    "df21 = df2[df2.note_nom_alternatif == 'false']\n",
    "df22 = df2[df2.note_nom_alternatif == 'true']\n",
    "df23 = df2[df2.note_nom_alternatif == 'mixture']\n",
    "\n",
    "df3 = pd.concat([df21, df22])\n",
    "df3 = pd.concat([df3,df23])"
   ]
  },
  {
   "cell_type": "code",
   "execution_count": 67,
   "metadata": {},
   "outputs": [
    {
     "data": {
      "text/html": [
       "<div>\n",
       "<style scoped>\n",
       "    .dataframe tbody tr th:only-of-type {\n",
       "        vertical-align: middle;\n",
       "    }\n",
       "\n",
       "    .dataframe tbody tr th {\n",
       "        vertical-align: top;\n",
       "    }\n",
       "\n",
       "    .dataframe thead th {\n",
       "        text-align: right;\n",
       "    }\n",
       "</style>\n",
       "<table border=\"1\" class=\"dataframe\">\n",
       "  <thead>\n",
       "    <tr style=\"text-align: right;\">\n",
       "      <th></th>\n",
       "      <th>id</th>\n",
       "      <th>lien_auteur</th>\n",
       "      <th>reclamation_examinee</th>\n",
       "      <th>date_examination</th>\n",
       "      <th>source</th>\n",
       "      <th>lien</th>\n",
       "      <th>contenu</th>\n",
       "      <th>extra_titre</th>\n",
       "      <th>note_nom_alternatif</th>\n",
       "    </tr>\n",
       "  </thead>\n",
       "  <tbody>\n",
       "    <tr>\n",
       "      <th>2181</th>\n",
       "      <td>17181</td>\n",
       "      <td>snopes</td>\n",
       "      <td>Telemarketers are luring those who’ve signed up for the national “Do Not Call” list by getting them to request coupons for free products.</td>\n",
       "      <td>2007-12-03</td>\n",
       "      <td>snopes</td>\n",
       "      <td>https://www.snopes.com/fact-check/call-scam/</td>\n",
       "      <td>Claim:   Telemarketers are luring those who’ve signed up for the national “Do Not Call” list by getting them to request coupons for free products.Claim:Claim:Status:   True.Status:   True.Status:Status:True.True.True.Example:   [Collected on the Internet, 2003]Example:Example:[Collected on the I...</td>\n",
       "      <td>Call Scam</td>\n",
       "      <td>true</td>\n",
       "    </tr>\n",
       "    <tr>\n",
       "      <th>3038</th>\n",
       "      <td>3038</td>\n",
       "      <td>snopes</td>\n",
       "      <td>Russia built a monument to memorialize the genocide of indigenous peoples on the American continent outside the United States Embassy in Russia.</td>\n",
       "      <td>2018-03-27</td>\n",
       "      <td>snopes</td>\n",
       "      <td>https://www.snopes.com/fact-check/did-russia-monument-native-americans-moscow/</td>\n",
       "      <td>On 14 November 2015, a series of English language and Russian language social media accounts appeared online with the sole purpose of promoting a new petition on the web site Change.org. That petition called for the construction of a monument to recognize the destruction of Native American commu...</td>\n",
       "      <td>Did Russia Erect a Monument to Native Americans in Front of the United States Embassy in Moscow?</td>\n",
       "      <td>false</td>\n",
       "    </tr>\n",
       "  </tbody>\n",
       "</table>\n",
       "</div>"
      ],
      "text/plain": [
       "         id lien_auteur  \\\n",
       "2181  17181      snopes   \n",
       "3038   3038      snopes   \n",
       "\n",
       "                                                                                                                                  reclamation_examinee  \\\n",
       "2181         Telemarketers are luring those who’ve signed up for the national “Do Not Call” list by getting them to request coupons for free products.   \n",
       "3038  Russia built a monument to memorialize the genocide of indigenous peoples on the American continent outside the United States Embassy in Russia.   \n",
       "\n",
       "     date_examination  source  \\\n",
       "2181       2007-12-03  snopes   \n",
       "3038       2018-03-27  snopes   \n",
       "\n",
       "                                                                                lien  \\\n",
       "2181                                    https://www.snopes.com/fact-check/call-scam/   \n",
       "3038  https://www.snopes.com/fact-check/did-russia-monument-native-americans-moscow/   \n",
       "\n",
       "                                                                                                                                                                                                                                                                                                          contenu  \\\n",
       "2181  Claim:   Telemarketers are luring those who’ve signed up for the national “Do Not Call” list by getting them to request coupons for free products.Claim:Claim:Status:   True.Status:   True.Status:Status:True.True.True.Example:   [Collected on the Internet, 2003]Example:Example:[Collected on the I...   \n",
       "3038  On 14 November 2015, a series of English language and Russian language social media accounts appeared online with the sole purpose of promoting a new petition on the web site Change.org. That petition called for the construction of a monument to recognize the destruction of Native American commu...   \n",
       "\n",
       "                                                                                           extra_titre  \\\n",
       "2181                                                                                         Call Scam   \n",
       "3038  Did Russia Erect a Monument to Native Americans in Front of the United States Embassy in Moscow?   \n",
       "\n",
       "     note_nom_alternatif  \n",
       "2181                true  \n",
       "3038               false  "
      ]
     },
     "execution_count": 67,
     "metadata": {},
     "output_type": "execute_result"
    }
   ],
   "source": [
    "df3.sample(2)"
   ]
  },
  {
   "cell_type": "code",
   "execution_count": 68,
   "metadata": {},
   "outputs": [
    {
     "data": {
      "text/plain": [
       "<matplotlib.axes._subplots.AxesSubplot at 0x3d2eceb0>"
      ]
     },
     "execution_count": 68,
     "metadata": {},
     "output_type": "execute_result"
    },
    {
     "data": {
      "image/png": "[encoded data removed]",
      "text/plain": [
       "<Figure size 432x288 with 1 Axes>"
      ]
     },
     "metadata": {
      "needs_background": "light"
     },
     "output_type": "display_data"
    }
   ],
   "source": [
    "sns.countplot(x='note_nom_alternatif', data=df3)\n"
   ]
  },
  {
   "cell_type": "code",
   "execution_count": 69,
   "metadata": {},
   "outputs": [
    {
     "data": {
      "text/plain": [
       "<seaborn.axisgrid.FacetGrid at 0x3d30fa18>"
      ]
     },
     "execution_count": 69,
     "metadata": {},
     "output_type": "execute_result"
    },
    {
     "data": {
      "image/png": "[encoded data removed]",
      "text/plain": [
       "<Figure size 468.25x360 with 1 Axes>"
      ]
     },
     "metadata": {
      "needs_background": "light"
     },
     "output_type": "display_data"
    }
   ],
   "source": [
    "sns.catplot('source',\n",
    "data=df3,\n",
    "kind='count',\n",
    "hue='note_nom_alternatif')"
   ]
  },
  {
   "cell_type": "code",
   "execution_count": 70,
   "metadata": {},
   "outputs": [],
   "source": [
    "class_label_encoder = LabelEncoder()\n",
    "# transformation\n",
    "\n",
    "df3[\"source\"]=class_label_encoder.fit_transform(df3[\"source\"])"
   ]
  },
  {
   "cell_type": "code",
   "execution_count": 71,
   "metadata": {},
   "outputs": [
    {
     "data": {
      "text/html": [
       "<div>\n",
       "<style scoped>\n",
       "    .dataframe tbody tr th:only-of-type {\n",
       "        vertical-align: middle;\n",
       "    }\n",
       "\n",
       "    .dataframe tbody tr th {\n",
       "        vertical-align: top;\n",
       "    }\n",
       "\n",
       "    .dataframe thead th {\n",
       "        text-align: right;\n",
       "    }\n",
       "</style>\n",
       "<table border=\"1\" class=\"dataframe\">\n",
       "  <thead>\n",
       "    <tr style=\"text-align: right;\">\n",
       "      <th></th>\n",
       "      <th>id</th>\n",
       "      <th>lien_auteur</th>\n",
       "      <th>reclamation_examinee</th>\n",
       "      <th>date_examination</th>\n",
       "      <th>source</th>\n",
       "      <th>lien</th>\n",
       "      <th>contenu</th>\n",
       "      <th>extra_titre</th>\n",
       "      <th>note_nom_alternatif</th>\n",
       "    </tr>\n",
       "  </thead>\n",
       "  <tbody>\n",
       "    <tr>\n",
       "      <th>4848</th>\n",
       "      <td>4848</td>\n",
       "      <td>snopes</td>\n",
       "      <td>A nine-foot-long bull shark was found in Kentucky Lake.</td>\n",
       "      <td>2017-06-27</td>\n",
       "      <td>1</td>\n",
       "      <td>https://www.snopes.com/fact-check/bull-shark-kentucky-lake/</td>\n",
       "      <td>In June 2017, fake news web site React365 posted a captioned photo of a shark fin peeking out of a body of water with the headline “Bull Shark Spotted in Kentucky Lake”:fakepostedSlight though it was, the page got a lot of play on social media — partly, we hope, in recognition of its humorous in...</td>\n",
       "      <td>Bull Shark Spotted in Kentucky Lake?</td>\n",
       "      <td>false</td>\n",
       "    </tr>\n",
       "    <tr>\n",
       "      <th>755</th>\n",
       "      <td>10755</td>\n",
       "      <td>snopes</td>\n",
       "      <td>Drinking cold water after meals causes unpleasant and lasting side effects.</td>\n",
       "      <td>2006-08-23</td>\n",
       "      <td>1</td>\n",
       "      <td>https://www.snopes.com/fact-check/drinking-cold-water-meals-cause-cancer/</td>\n",
       "      <td>Admonitions against the ingestion of cold beverages immediately following meals first surfaced on the Internet in February 2006, when they first appeared as an item tagged onto a diatribe against the eating of too much rice:Drinking Cold water after meal = Cancer!For those who like to drink cold...</td>\n",
       "      <td>Does Drinking Cold Water After Meals Cause Cancer?</td>\n",
       "      <td>false</td>\n",
       "    </tr>\n",
       "  </tbody>\n",
       "</table>\n",
       "</div>"
      ],
      "text/plain": [
       "         id lien_auteur  \\\n",
       "4848   4848      snopes   \n",
       "755   10755      snopes   \n",
       "\n",
       "                                                             reclamation_examinee  \\\n",
       "4848                      A nine-foot-long bull shark was found in Kentucky Lake.   \n",
       "755   Drinking cold water after meals causes unpleasant and lasting side effects.   \n",
       "\n",
       "     date_examination  source  \\\n",
       "4848       2017-06-27       1   \n",
       "755        2006-08-23       1   \n",
       "\n",
       "                                                                           lien  \\\n",
       "4848                https://www.snopes.com/fact-check/bull-shark-kentucky-lake/   \n",
       "755   https://www.snopes.com/fact-check/drinking-cold-water-meals-cause-cancer/   \n",
       "\n",
       "                                                                                                                                                                                                                                                                                                          contenu  \\\n",
       "4848  In June 2017, fake news web site React365 posted a captioned photo of a shark fin peeking out of a body of water with the headline “Bull Shark Spotted in Kentucky Lake”:fakepostedSlight though it was, the page got a lot of play on social media — partly, we hope, in recognition of its humorous in...   \n",
       "755   Admonitions against the ingestion of cold beverages immediately following meals first surfaced on the Internet in February 2006, when they first appeared as an item tagged onto a diatribe against the eating of too much rice:Drinking Cold water after meal = Cancer!For those who like to drink cold...   \n",
       "\n",
       "                                             extra_titre note_nom_alternatif  \n",
       "4848                Bull Shark Spotted in Kentucky Lake?               false  \n",
       "755   Does Drinking Cold Water After Meals Cause Cancer?               false  "
      ]
     },
     "metadata": {},
     "output_type": "display_data"
    }
   ],
   "source": [
    "display(df3.sample(2))"
   ]
  },
  {
   "cell_type": "code",
   "execution_count": 72,
   "metadata": {},
   "outputs": [
    {
     "data": {
      "text/plain": [
       "<seaborn.axisgrid.FacetGrid at 0x2e38c4f0>"
      ]
     },
     "execution_count": 72,
     "metadata": {},
     "output_type": "execute_result"
    },
    {
     "data": {
      "image/png": "[encoded data removed]",
      "text/plain": [
       "<Figure size 468.25x360 with 1 Axes>"
      ]
     },
     "metadata": {
      "needs_background": "light"
     },
     "output_type": "display_data"
    }
   ],
   "source": [
    "sns.catplot('source',\n",
    "data=df3,\n",
    "kind='count',\n",
    "hue='note_nom_alternatif')"
   ]
  },
  {
   "cell_type": "code",
   "execution_count": 73,
   "metadata": {},
   "outputs": [],
   "source": [
    "del df3[\"lien_auteur\"]\n",
    "del df3[\"id\"]\n",
    "del df3[\"lien\"]"
   ]
  },
  {
   "cell_type": "code",
   "execution_count": 75,
   "metadata": {},
   "outputs": [
    {
     "data": {
      "text/html": [
       "<div>\n",
       "<style scoped>\n",
       "    .dataframe tbody tr th:only-of-type {\n",
       "        vertical-align: middle;\n",
       "    }\n",
       "\n",
       "    .dataframe tbody tr th {\n",
       "        vertical-align: top;\n",
       "    }\n",
       "\n",
       "    .dataframe thead th {\n",
       "        text-align: right;\n",
       "    }\n",
       "</style>\n",
       "<table border=\"1\" class=\"dataframe\">\n",
       "  <thead>\n",
       "    <tr style=\"text-align: right;\">\n",
       "      <th></th>\n",
       "      <th>reclamation_examinee</th>\n",
       "      <th>date_examination</th>\n",
       "      <th>source</th>\n",
       "      <th>contenu</th>\n",
       "      <th>extra_titre</th>\n",
       "      <th>note_nom_alternatif</th>\n",
       "    </tr>\n",
       "  </thead>\n",
       "  <tbody>\n",
       "    <tr>\n",
       "      <th>1693</th>\n",
       "      <td>A 97-year-old victim of an October 2018 synagogue shooting in Pittsburgh was a Holocaust survivor.</td>\n",
       "      <td>2018-10-28</td>\n",
       "      <td>1</td>\n",
       "      <td>On the morning of 27 October 2018, a gunman killed 11 worshippers at the Tree of Life synagogue in Pittsburgh, Pennsylvania, the deadliest attack ever on Jews in the United States.  Police took a 46-year-old man named Robert Bowers into custody in connection with the massacre, whom law enforceme...</td>\n",
       "      <td>Was Pittsburgh Synagogue Shooting Victim Rose Mallinger a Holocaust Survivor?</td>\n",
       "      <td>false</td>\n",
       "    </tr>\n",
       "  </tbody>\n",
       "</table>\n",
       "</div>"
      ],
      "text/plain": [
       "                                                                                    reclamation_examinee  \\\n",
       "1693  A 97-year-old victim of an October 2018 synagogue shooting in Pittsburgh was a Holocaust survivor.   \n",
       "\n",
       "     date_examination  source  \\\n",
       "1693       2018-10-28       1   \n",
       "\n",
       "                                                                                                                                                                                                                                                                                                          contenu  \\\n",
       "1693  On the morning of 27 October 2018, a gunman killed 11 worshippers at the Tree of Life synagogue in Pittsburgh, Pennsylvania, the deadliest attack ever on Jews in the United States.  Police took a 46-year-old man named Robert Bowers into custody in connection with the massacre, whom law enforceme...   \n",
       "\n",
       "                                                                        extra_titre  \\\n",
       "1693  Was Pittsburgh Synagogue Shooting Victim Rose Mallinger a Holocaust Survivor?   \n",
       "\n",
       "     note_nom_alternatif  \n",
       "1693               false  "
      ]
     },
     "execution_count": 75,
     "metadata": {},
     "output_type": "execute_result"
    }
   ],
   "source": [
    "df3.sample(1)"
   ]
  },
  {
   "cell_type": "code",
   "execution_count": 76,
   "metadata": {},
   "outputs": [],
   "source": [
    "df3.to_csv('../Dataset/claim2.csv',sep=',', index=False)"
   ]
  },
  {
   "cell_type": "markdown",
   "metadata": {},
   "source": [
    "# Sauvegarde 1"
   ]
  },
  {
   "cell_type": "code",
   "execution_count": 77,
   "metadata": {},
   "outputs": [],
   "source": [
    "df4 = pd.read_csv('../Dataset/claim2.csv', sep=',')"
   ]
  },
  {
   "cell_type": "code",
   "execution_count": 78,
   "metadata": {},
   "outputs": [
    {
     "data": {
      "text/html": [
       "<div>\n",
       "<style scoped>\n",
       "    .dataframe tbody tr th:only-of-type {\n",
       "        vertical-align: middle;\n",
       "    }\n",
       "\n",
       "    .dataframe tbody tr th {\n",
       "        vertical-align: top;\n",
       "    }\n",
       "\n",
       "    .dataframe thead th {\n",
       "        text-align: right;\n",
       "    }\n",
       "</style>\n",
       "<table border=\"1\" class=\"dataframe\">\n",
       "  <thead>\n",
       "    <tr style=\"text-align: right;\">\n",
       "      <th></th>\n",
       "      <th>reclamation_examinee</th>\n",
       "      <th>date_examination</th>\n",
       "      <th>source</th>\n",
       "      <th>contenu</th>\n",
       "      <th>extra_titre</th>\n",
       "      <th>note_nom_alternatif</th>\n",
       "    </tr>\n",
       "  </thead>\n",
       "  <tbody>\n",
       "    <tr>\n",
       "      <th>2802</th>\n",
       "      <td>A video shows a man angrily renouncing his faith on Egyptian national television.</td>\n",
       "      <td>2016-07-05</td>\n",
       "      <td>1</td>\n",
       "      <td>On 3 July 2016, the YouTube channel NBT Films (Nothing But the Truth) shared a video purportedly showing an “Arab guy” angrily renouncing his faith on live television:NBT FilmsRecently, an Arab TV station discussed the controversial book ‘The People vs Muhammad’. The result was an explosive melt...</td>\n",
       "      <td>‘Arab Guy’ Renounces Faith on Egyptian Television?</td>\n",
       "      <td>false</td>\n",
       "    </tr>\n",
       "    <tr>\n",
       "      <th>5434</th>\n",
       "      <td>A serial killer/rapist is luring women with $5 bills they’ve ‘dropped.’</td>\n",
       "      <td>2009-03-17</td>\n",
       "      <td>1</td>\n",
       "      <td>Claim:   A serial killer/rapist is luring women with $5 bills they’ve ‘dropped.’ Claim:Claim:FALSEFALSEFALSEFALSEFALSEFALSEFALSEExamples:   Examples:Examples:Variations:   Variations:Variations: A version that began circulating in July 2003 changed the line:to: The claim “This happened in Tallah...</td>\n",
       "      <td>Serial Killer/ Rapist Trick</td>\n",
       "      <td>false</td>\n",
       "    </tr>\n",
       "  </tbody>\n",
       "</table>\n",
       "</div>"
      ],
      "text/plain": [
       "                                                                   reclamation_examinee  \\\n",
       "2802  A video shows a man angrily renouncing his faith on Egyptian national television.   \n",
       "5434            A serial killer/rapist is luring women with $5 bills they’ve ‘dropped.’   \n",
       "\n",
       "     date_examination  source  \\\n",
       "2802       2016-07-05       1   \n",
       "5434       2009-03-17       1   \n",
       "\n",
       "                                                                                                                                                                                                                                                                                                          contenu  \\\n",
       "2802  On 3 July 2016, the YouTube channel NBT Films (Nothing But the Truth) shared a video purportedly showing an “Arab guy” angrily renouncing his faith on live television:NBT FilmsRecently, an Arab TV station discussed the controversial book ‘The People vs Muhammad’. The result was an explosive melt...   \n",
       "5434  Claim:   A serial killer/rapist is luring women with $5 bills they’ve ‘dropped.’ Claim:Claim:FALSEFALSEFALSEFALSEFALSEFALSEFALSEExamples:   Examples:Examples:Variations:   Variations:Variations: A version that began circulating in July 2003 changed the line:to: The claim “This happened in Tallah...   \n",
       "\n",
       "                                             extra_titre note_nom_alternatif  \n",
       "2802  ‘Arab Guy’ Renounces Faith on Egyptian Television?               false  \n",
       "5434                         Serial Killer/ Rapist Trick               false  "
      ]
     },
     "execution_count": 78,
     "metadata": {},
     "output_type": "execute_result"
    }
   ],
   "source": [
    "df4.sample(2)"
   ]
  },
  {
   "cell_type": "code",
   "execution_count": 46,
   "metadata": {},
   "outputs": [
    {
     "data": {
      "text/plain": [
       "2019-10-11    122\n",
       "2019-10-10    114\n",
       "2019-10-09    112\n",
       "2019-10-14    106\n",
       "2019-10-15     85\n",
       "             ... \n",
       "2012-10-09      1\n",
       "2010-03-27      1\n",
       "1997-06-03      1\n",
       "2015-07-10      1\n",
       "2007-12-19      1\n",
       "Name: date_examination, Length: 3286, dtype: int64"
      ]
     },
     "execution_count": 46,
     "metadata": {},
     "output_type": "execute_result"
    }
   ],
   "source": [
    "df4[\"date_examination\"].value_counts()"
   ]
  },
  {
   "cell_type": "code",
   "execution_count": 80,
   "metadata": {},
   "outputs": [
    {
     "data": {
      "text/plain": [
       "'\\ndef parsing_date_y(row) :\\n    try :\\n        return str(row[:4])\\n    except ValueError :\\n        print(\"ALLLLLOOOO\")\\n\\n        \\ndf4[\"date_examination_y\"] = df4[\"date_examination\"].apply(parsing_date_y)\\n\\n'"
      ]
     },
     "execution_count": 80,
     "metadata": {},
     "output_type": "execute_result"
    }
   ],
   "source": [
    "\"\"\"\n",
    "\n",
    "On ne s'en sert pas finalement, on a gardé l'année et le mois de la date\n",
    "\n",
    "def parsing_date_y(row) :\n",
    "    try :\n",
    "        return str(row[:4])\n",
    "    except ValueError :\n",
    "        print(\"ALLLLLOOOO\")\n",
    "\n",
    "        \n",
    "df4[\"date_examination_y\"] = df4[\"date_examination\"].apply(parsing_date_y)\n",
    "\n",
    "\"\"\""
   ]
  },
  {
   "cell_type": "code",
   "execution_count": 81,
   "metadata": {
    "scrolled": true
   },
   "outputs": [],
   "source": [
    "#df4[\"date_examination_y\"].value_counts()\n"
   ]
  },
  {
   "cell_type": "code",
   "execution_count": 82,
   "metadata": {},
   "outputs": [],
   "source": [
    "def parsing_date_m(row) :\n",
    "    try :\n",
    "        return str(row[:7])\n",
    "    except ValueError :\n",
    "        print(\"Erreur de date\")\n",
    "        \n",
    "df4[\"date_examination_m\"] = df4[\"date_examination\"].apply(parsing_date_m)"
   ]
  },
  {
   "cell_type": "code",
   "execution_count": 84,
   "metadata": {},
   "outputs": [
    {
     "data": {
      "text/html": [
       "<div>\n",
       "<style scoped>\n",
       "    .dataframe tbody tr th:only-of-type {\n",
       "        vertical-align: middle;\n",
       "    }\n",
       "\n",
       "    .dataframe tbody tr th {\n",
       "        vertical-align: top;\n",
       "    }\n",
       "\n",
       "    .dataframe thead th {\n",
       "        text-align: right;\n",
       "    }\n",
       "</style>\n",
       "<table border=\"1\" class=\"dataframe\">\n",
       "  <thead>\n",
       "    <tr style=\"text-align: right;\">\n",
       "      <th></th>\n",
       "      <th>reclamation_examinee</th>\n",
       "      <th>date_examination</th>\n",
       "      <th>source</th>\n",
       "      <th>contenu</th>\n",
       "      <th>extra_titre</th>\n",
       "      <th>note_nom_alternatif</th>\n",
       "      <th>date_examination_m</th>\n",
       "    </tr>\n",
       "  </thead>\n",
       "  <tbody>\n",
       "    <tr>\n",
       "      <th>4781</th>\n",
       "      <td>The Mormons own the Coca-Cola Company.</td>\n",
       "      <td>2012-08-27</td>\n",
       "      <td>1</td>\n",
       "      <td>Claim:   The Mormons own the Coca-Cola Company.Claim:Claim:FALSEFALSEFALSEFALSEFALSEFALSEFALSEOrigins:   The Coca-Cola Company is far too sizeable a business entity for any one person or group to own, even if that group were Bill Gates and Kerry Packer. Big Red is a publicly traded company (New ...</td>\n",
       "      <td>Mormon Ownership of Coca-Cola</td>\n",
       "      <td>false</td>\n",
       "      <td>2012-08</td>\n",
       "    </tr>\n",
       "    <tr>\n",
       "      <th>5632</th>\n",
       "      <td>Osama bin Laden owns Citibank.</td>\n",
       "      <td>2008-03-08</td>\n",
       "      <td>1</td>\n",
       "      <td>Claim:   Osama bin Laden owns Citibank.Claim:Claim:Status:   False.Status:   False.Status:Status:False.False.False.Example:   [Collected on the Internet, 2001]Example:Example:[Collected on the Internet, 2001][Collected on the Internet, 2001]Origins:   The confluence of three factors (Osama bin L...</td>\n",
       "      <td>Osama bin Laden and Citibank</td>\n",
       "      <td>false</td>\n",
       "      <td>2008-03</td>\n",
       "    </tr>\n",
       "  </tbody>\n",
       "</table>\n",
       "</div>"
      ],
      "text/plain": [
       "                        reclamation_examinee date_examination  source  \\\n",
       "4781  The Mormons own the Coca-Cola Company.       2012-08-27       1   \n",
       "5632          Osama bin Laden owns Citibank.       2008-03-08       1   \n",
       "\n",
       "                                                                                                                                                                                                                                                                                                          contenu  \\\n",
       "4781  Claim:   The Mormons own the Coca-Cola Company.Claim:Claim:FALSEFALSEFALSEFALSEFALSEFALSEFALSEOrigins:   The Coca-Cola Company is far too sizeable a business entity for any one person or group to own, even if that group were Bill Gates and Kerry Packer. Big Red is a publicly traded company (New ...   \n",
       "5632  Claim:   Osama bin Laden owns Citibank.Claim:Claim:Status:   False.Status:   False.Status:Status:False.False.False.Example:   [Collected on the Internet, 2001]Example:Example:[Collected on the Internet, 2001][Collected on the Internet, 2001]Origins:   The confluence of three factors (Osama bin L...   \n",
       "\n",
       "                        extra_titre note_nom_alternatif date_examination_m  \n",
       "4781  Mormon Ownership of Coca-Cola               false            2012-08  \n",
       "5632   Osama bin Laden and Citibank               false            2008-03  "
      ]
     },
     "execution_count": 84,
     "metadata": {},
     "output_type": "execute_result"
    }
   ],
   "source": [
    "df4.sample(2)"
   ]
  },
  {
   "cell_type": "code",
   "execution_count": 85,
   "metadata": {},
   "outputs": [
    {
     "data": {
      "text/plain": [
       "2019-10    805\n",
       "2016-10    181\n",
       "2016-08    176\n",
       "2016-09    158\n",
       "2016-03    155\n",
       "          ... \n",
       "1995-09      1\n",
       "1997-02      1\n",
       "1997-10      1\n",
       "1999-08      1\n",
       "1996-03      1\n",
       "Name: date_examination_m, Length: 271, dtype: int64"
      ]
     },
     "execution_count": 85,
     "metadata": {},
     "output_type": "execute_result"
    }
   ],
   "source": [
    "df4[\"date_examination_m\"].value_counts()"
   ]
  },
  {
   "cell_type": "code",
   "execution_count": 86,
   "metadata": {},
   "outputs": [],
   "source": [
    "df5 = df4.copy()\n",
    "df5 = df5[[\"reclamation_examinee\",\"date_examination_m\", \"source\",\"contenu\",\"note_nom_alternatif\"]]\n",
    "df5[\"date_examination_m\"]=class_label_encoder.fit_transform(df5[\"date_examination_m\"])\n",
    "df5.rename(columns={\"reclamation_examinee\": \"fact\", \"date_examination_m\": \"date\",\"note_nom_alternatif\": \"note\" }, inplace=True)"
   ]
  },
  {
   "cell_type": "code",
   "execution_count": 87,
   "metadata": {},
   "outputs": [
    {
     "data": {
      "text/html": [
       "<div>\n",
       "<style scoped>\n",
       "    .dataframe tbody tr th:only-of-type {\n",
       "        vertical-align: middle;\n",
       "    }\n",
       "\n",
       "    .dataframe tbody tr th {\n",
       "        vertical-align: top;\n",
       "    }\n",
       "\n",
       "    .dataframe thead th {\n",
       "        text-align: right;\n",
       "    }\n",
       "</style>\n",
       "<table border=\"1\" class=\"dataframe\">\n",
       "  <thead>\n",
       "    <tr style=\"text-align: right;\">\n",
       "      <th></th>\n",
       "      <th>fact</th>\n",
       "      <th>date</th>\n",
       "      <th>source</th>\n",
       "      <th>contenu</th>\n",
       "      <th>note</th>\n",
       "    </tr>\n",
       "  </thead>\n",
       "  <tbody>\n",
       "    <tr>\n",
       "      <th>3565</th>\n",
       "      <td>The body of a homeless man found behind a Jamaica fast food restaurant was identified as that of Bob Marley.</td>\n",
       "      <td>214</td>\n",
       "      <td>1</td>\n",
       "      <td>On 31 January 2015, the fake news web site Empire News published an article positing the body of a homeless man discovered in San Diego was found through DNA testing to be that of singer Elvis Presley.  Five months later, the Richmond Globe followed up with a similar article positing that the bo...</td>\n",
       "      <td>false</td>\n",
       "    </tr>\n",
       "    <tr>\n",
       "      <th>10348</th>\n",
       "      <td>An account accurately describes the rapes and murders of Christopher Newsom and Channon Christian and the reporting thereof.</td>\n",
       "      <td>121</td>\n",
       "      <td>1</td>\n",
       "      <td>On 6 January 2007, Knoxville, Tennessee, residents Christopher Newsom, Jr.,  23, and Channon Christian, 21, went out for a dinner date at a local restaurant, then headed to a friend’s house to watch a movie.  They never came back.Newsom, Jr.,When the couple had failed to return by the following ...</td>\n",
       "      <td>mixture</td>\n",
       "    </tr>\n",
       "  </tbody>\n",
       "</table>\n",
       "</div>"
      ],
      "text/plain": [
       "                                                                                                                               fact  \\\n",
       "3565                   The body of a homeless man found behind a Jamaica fast food restaurant was identified as that of Bob Marley.   \n",
       "10348  An account accurately describes the rapes and murders of Christopher Newsom and Channon Christian and the reporting thereof.   \n",
       "\n",
       "       date  source  \\\n",
       "3565    214       1   \n",
       "10348   121       1   \n",
       "\n",
       "                                                                                                                                                                                                                                                                                                           contenu  \\\n",
       "3565   On 31 January 2015, the fake news web site Empire News published an article positing the body of a homeless man discovered in San Diego was found through DNA testing to be that of singer Elvis Presley.  Five months later, the Richmond Globe followed up with a similar article positing that the bo...   \n",
       "10348  On 6 January 2007, Knoxville, Tennessee, residents Christopher Newsom, Jr.,  23, and Channon Christian, 21, went out for a dinner date at a local restaurant, then headed to a friend’s house to watch a movie.  They never came back.Newsom, Jr.,When the couple had failed to return by the following ...   \n",
       "\n",
       "          note  \n",
       "3565     false  \n",
       "10348  mixture  "
      ]
     },
     "execution_count": 87,
     "metadata": {},
     "output_type": "execute_result"
    }
   ],
   "source": [
    "df5.sample(2)"
   ]
  },
  {
   "cell_type": "markdown",
   "metadata": {},
   "source": [
    "# Premier test classifieur"
   ]
  },
  {
   "cell_type": "code",
   "execution_count": 55,
   "metadata": {},
   "outputs": [],
   "source": [
    "array = df5.values\n",
    "X = array[:,1:2]\n",
    "y = array[:,4]"
   ]
  },
  {
   "cell_type": "code",
   "execution_count": 56,
   "metadata": {},
   "outputs": [],
   "source": [
    "validation_size=0.3 #30% du jeu de données pour le test\n",
    "testsize= 1-validation_size\n",
    "seed=30\n",
    "X_train, X_test, y_train, y_test = train_test_split(X, y,\n",
    "train_size=validation_size,\n",
    "random_state=seed,test_size=testsize)"
   ]
  },
  {
   "cell_type": "code",
   "execution_count": 57,
   "metadata": {},
   "outputs": [
    {
     "name": "stdout",
     "output_type": "stream",
     "text": [
      "\n",
      " accuracy : 0.5990033222591362 \n",
      "\n"
     ]
    }
   ],
   "source": [
    "clf = GaussianNB()\n",
    "clf.fit(X_train, y_train)\n",
    "result = clf.predict(X_test)\n",
    "print('\\n accuracy :',\n",
    "accuracy_score(result, y_test),'\\n')"
   ]
  },
  {
   "cell_type": "code",
   "execution_count": 58,
   "metadata": {},
   "outputs": [],
   "source": [
    "seed = 7\n",
    "scoring = 'accuracy'\n",
    "models = []\n",
    "models.append(('KNN', KNeighborsClassifier()))\n",
    "models.append(('CART', DecisionTreeClassifier()))\n",
    "models.append(('NB', GaussianNB()))\n",
    "models.append(('SVM', SVC(gamma='auto')))\n",
    "models.append(('RFO', RandomForestClassifier()))"
   ]
  },
  {
   "cell_type": "code",
   "execution_count": 59,
   "metadata": {},
   "outputs": [
    {
     "name": "stdout",
     "output_type": "stream",
     "text": [
      "KNN: 0.223492 (0.162198)\n",
      "CART: 0.186516 (0.143682)\n",
      "NB: 0.516744 (0.484301)\n",
      "SVM: 0.177330 (0.142368)\n",
      "RFO: 0.180818 (0.141879)\n"
     ]
    }
   ],
   "source": [
    "results = []\n",
    "names = []\n",
    "for name,model in models:\n",
    "    kfold = KFold(n_splits=10, random_state=seed)\n",
    "    cv_results = cross_val_score(model, X,y, cv=kfold, scoring=scoring)\n",
    "    results.append(cv_results)\n",
    "    names.append(name)\n",
    "    msg = \"%s: %f (%f)\" % (name, cv_results.mean(),cv_results.std())\n",
    "    print(msg)"
   ]
  },
  {
   "cell_type": "markdown",
   "metadata": {},
   "source": [
    "# Découpage du fact en phrases ou mots (+suppr des non-alphanum)"
   ]
  },
  {
   "cell_type": "code",
   "execution_count": 191,
   "metadata": {},
   "outputs": [
    {
     "data": {
      "text/html": [
       "<div>\n",
       "<style scoped>\n",
       "    .dataframe tbody tr th:only-of-type {\n",
       "        vertical-align: middle;\n",
       "    }\n",
       "\n",
       "    .dataframe tbody tr th {\n",
       "        vertical-align: top;\n",
       "    }\n",
       "\n",
       "    .dataframe thead th {\n",
       "        text-align: right;\n",
       "    }\n",
       "</style>\n",
       "<table border=\"1\" class=\"dataframe\">\n",
       "  <thead>\n",
       "    <tr style=\"text-align: right;\">\n",
       "      <th></th>\n",
       "      <th>fact</th>\n",
       "      <th>date</th>\n",
       "      <th>source</th>\n",
       "      <th>contenu</th>\n",
       "      <th>note</th>\n",
       "    </tr>\n",
       "  </thead>\n",
       "  <tbody>\n",
       "    <tr>\n",
       "      <th>7234</th>\n",
       "      <td>\"\"Drone technology now allows an individual to be recorded in their homes by drones as small as birds and immediately uploaded to the internet.\"\"</td>\n",
       "      <td>260</td>\n",
       "      <td>0</td>\n",
       "      <td>On April 1, 2014 state Rep. Chris Taylor warned the citizenry about eyes in the sky and attacks on privacy.'Drone technology now allows an individual to be recorded in their homes by drones as small as birds and immediately uploaded to the internet,' the Madison Democrat wrote in a news release....</td>\n",
       "      <td>true</td>\n",
       "    </tr>\n",
       "    <tr>\n",
       "      <th>7943</th>\n",
       "      <td>The Trump administration blocked public access to USDA reports on safety and hygiene standards at facilities where animals are kept and bred.</td>\n",
       "      <td>241</td>\n",
       "      <td>1</td>\n",
       "      <td>In March 2018, various outlets reported that the administration of President Donald Trump had ended public access to the details of inspections that the United States Department of Agriculture performs on animal breeders. In an article headlined “Trump blocks access to puppy mill inspections as ...</td>\n",
       "      <td>mixture</td>\n",
       "    </tr>\n",
       "  </tbody>\n",
       "</table>\n",
       "</div>"
      ],
      "text/plain": [
       "                                                                                                                                                   fact  \\\n",
       "7234  \"\"Drone technology now allows an individual to be recorded in their homes by drones as small as birds and immediately uploaded to the internet.\"\"   \n",
       "7943      The Trump administration blocked public access to USDA reports on safety and hygiene standards at facilities where animals are kept and bred.   \n",
       "\n",
       "      date  source  \\\n",
       "7234   260       0   \n",
       "7943   241       1   \n",
       "\n",
       "                                                                                                                                                                                                                                                                                                          contenu  \\\n",
       "7234  On April 1, 2014 state Rep. Chris Taylor warned the citizenry about eyes in the sky and attacks on privacy.'Drone technology now allows an individual to be recorded in their homes by drones as small as birds and immediately uploaded to the internet,' the Madison Democrat wrote in a news release....   \n",
       "7943  In March 2018, various outlets reported that the administration of President Donald Trump had ended public access to the details of inspections that the United States Department of Agriculture performs on animal breeders. In an article headlined “Trump blocks access to puppy mill inspections as ...   \n",
       "\n",
       "         note  \n",
       "7234     true  \n",
       "7943  mixture  "
      ]
     },
     "execution_count": 191,
     "metadata": {},
     "output_type": "execute_result"
    }
   ],
   "source": [
    "df5.sample(2)"
   ]
  },
  {
   "cell_type": "code",
   "execution_count": 28,
   "metadata": {},
   "outputs": [],
   "source": [
    "# //////////////////////////////////////////////////////////\n",
    "# ON UTILISE PAS\n",
    "\n",
    "def toPhrases(row) :\n",
    "    phrases = sent_tokenize(sans_contract)\n",
    "    return phrases\n",
    "\n",
    "\n",
    "# /////////////////////////////////////////////////////////"
   ]
  },
  {
   "cell_type": "code",
   "execution_count": 33,
   "metadata": {},
   "outputs": [],
   "source": [
    "pattern = re.compile('[\\W_]+')\n",
    "\n",
    "\n",
    "stop_words =['i','me','my','myself','we','our','ours','ourselves','you','your','yours','yourself',\n",
    "            'yourselves','he','him','his','himself','she','her','hers','herself','it','its','itself',\n",
    "            'they','them','their','theirs','themselves','what','which','who','whom','this','that',\n",
    "            'these','those','am','is','are','was','were','be','been','being','have','has','had',\n",
    "            'having','do','does','did','doing','a','an','the','and','but','if','or','because','as',\n",
    "            'until','while','of','at','by','for','with','about','against','between','into','through',\n",
    "            'during','before','after','above','below','to','from','up','down','in','out','on','off',\n",
    "            'over','under','again','further','then','once','here','there','when','where','why','how',\n",
    "            'all','any','both','each','few','more','most','other','some','such','no','nor','not',\n",
    "            'only','own','same','so','than','too','very','s','t','can','will','just','don','should',\n",
    "            'now','uses','use','using','used','one','also',' ','',',','.','!','?',':','\\'','\\\"','\\\"\\\"','\\'\\'','  ','\\t','\\s']\n",
    "\n",
    "\n",
    "def que_alphanum(mot):\n",
    "    return pattern.sub('', mot)\n",
    "\n",
    "\n",
    "def toMots(row) :\n",
    "    sans_contract = contractions.fix(row)\n",
    "    tokens = word_tokenize(sans_contract)\n",
    "    words = [que_alphanum(word) for word in tokens if word not in stop_words]\n",
    "    return words\n",
    "\n"
   ]
  },
  {
   "cell_type": "code",
   "execution_count": 193,
   "metadata": {},
   "outputs": [
    {
     "data": {
      "text/html": [
       "<div>\n",
       "<style scoped>\n",
       "    .dataframe tbody tr th:only-of-type {\n",
       "        vertical-align: middle;\n",
       "    }\n",
       "\n",
       "    .dataframe tbody tr th {\n",
       "        vertical-align: top;\n",
       "    }\n",
       "\n",
       "    .dataframe thead th {\n",
       "        text-align: right;\n",
       "    }\n",
       "</style>\n",
       "<table border=\"1\" class=\"dataframe\">\n",
       "  <thead>\n",
       "    <tr style=\"text-align: right;\">\n",
       "      <th></th>\n",
       "      <th>fact</th>\n",
       "      <th>date</th>\n",
       "      <th>source</th>\n",
       "      <th>contenu</th>\n",
       "      <th>note</th>\n",
       "      <th>fact_mots</th>\n",
       "    </tr>\n",
       "  </thead>\n",
       "  <tbody>\n",
       "    <tr>\n",
       "      <th>3858</th>\n",
       "      <td>Video clip captures NFL kicker Shaun Suisham booting a 110-yard practice field goal.</td>\n",
       "      <td>191</td>\n",
       "      <td>1</td>\n",
       "      <td>Claim:   Video clip captures NFL kicker Shaun Suisham booting a 110-yard practice field goal.Claim:Claim:FALSEFALSEFALSEFALSEFALSEFALSEFALSEExample:   [Collected via e-mail, June 2008]Example:Example:[Collected via e-mail, June 2008][Collected via e-mail, June 2008]Origins:   The video clip disp...</td>\n",
       "      <td>false</td>\n",
       "      <td>[Video, clip, captures, NFL, kicker, Shaun, Suisham, booting, 110yard, practice, field, goal]</td>\n",
       "    </tr>\n",
       "    <tr>\n",
       "      <th>1901</th>\n",
       "      <td>Abortion rates drop during Democratic presidencies and rise during Republican administrations.</td>\n",
       "      <td>225</td>\n",
       "      <td>1</td>\n",
       "      <td>In 1969, the Centers for Disease Control and Prevention (CDC) began collecting nationwide data on the numbers of abortions, the abortion ratio (abortions versus live births), and the abortion rate (abortions versus the US population of women aged 15-44 years old).collectingWhile these data are n...</td>\n",
       "      <td>false</td>\n",
       "      <td>[Abortion, rates, drop, Democratic, presidencies, rise, Republican, administrations]</td>\n",
       "    </tr>\n",
       "  </tbody>\n",
       "</table>\n",
       "</div>"
      ],
      "text/plain": [
       "                                                                                                fact  \\\n",
       "3858            Video clip captures NFL kicker Shaun Suisham booting a 110-yard practice field goal.   \n",
       "1901  Abortion rates drop during Democratic presidencies and rise during Republican administrations.   \n",
       "\n",
       "      date  source  \\\n",
       "3858   191       1   \n",
       "1901   225       1   \n",
       "\n",
       "                                                                                                                                                                                                                                                                                                          contenu  \\\n",
       "3858  Claim:   Video clip captures NFL kicker Shaun Suisham booting a 110-yard practice field goal.Claim:Claim:FALSEFALSEFALSEFALSEFALSEFALSEFALSEExample:   [Collected via e-mail, June 2008]Example:Example:[Collected via e-mail, June 2008][Collected via e-mail, June 2008]Origins:   The video clip disp...   \n",
       "1901  In 1969, the Centers for Disease Control and Prevention (CDC) began collecting nationwide data on the numbers of abortions, the abortion ratio (abortions versus live births), and the abortion rate (abortions versus the US population of women aged 15-44 years old).collectingWhile these data are n...   \n",
       "\n",
       "       note  \\\n",
       "3858  false   \n",
       "1901  false   \n",
       "\n",
       "                                                                                          fact_mots  \n",
       "3858  [Video, clip, captures, NFL, kicker, Shaun, Suisham, booting, 110yard, practice, field, goal]  \n",
       "1901           [Abortion, rates, drop, Democratic, presidencies, rise, Republican, administrations]  "
      ]
     },
     "execution_count": 193,
     "metadata": {},
     "output_type": "execute_result"
    }
   ],
   "source": [
    "df5[\"fact_mots\"] = df5[\"fact\"].apply(toMots)\n",
    "df5.sample(2)"
   ]
  },
  {
   "cell_type": "code",
   "execution_count": 194,
   "metadata": {
    "scrolled": true
   },
   "outputs": [],
   "source": [
    "df5.to_csv('../Dataset/claim3.csv',sep=',', index=False)"
   ]
  },
  {
   "cell_type": "markdown",
   "metadata": {},
   "source": [
    "# Sauvegarde 2"
   ]
  },
  {
   "cell_type": "code",
   "execution_count": 71,
   "metadata": {},
   "outputs": [
    {
     "data": {
      "text/html": [
       "<div>\n",
       "<style scoped>\n",
       "    .dataframe tbody tr th:only-of-type {\n",
       "        vertical-align: middle;\n",
       "    }\n",
       "\n",
       "    .dataframe tbody tr th {\n",
       "        vertical-align: top;\n",
       "    }\n",
       "\n",
       "    .dataframe thead th {\n",
       "        text-align: right;\n",
       "    }\n",
       "</style>\n",
       "<table border=\"1\" class=\"dataframe\">\n",
       "  <thead>\n",
       "    <tr style=\"text-align: right;\">\n",
       "      <th></th>\n",
       "      <th>fact</th>\n",
       "      <th>date</th>\n",
       "      <th>source</th>\n",
       "      <th>contenu</th>\n",
       "      <th>note</th>\n",
       "      <th>fact_mots</th>\n",
       "    </tr>\n",
       "  </thead>\n",
       "  <tbody>\n",
       "    <tr>\n",
       "      <th>799</th>\n",
       "      <td>Police discovered a drug lab in the back room of a Walmart in Decatur, Alabama.</td>\n",
       "      <td>238</td>\n",
       "      <td>1</td>\n",
       "      <td>On 10 December 2017, the web site ufconly.com published an article appearing to report that police had discovered a methamphetamine lab in the back room of a Walmart in Decatur, Alabama:publishedPolice were recently tipped off to a reported meth lab that was being run by Walmart employees in wha...</td>\n",
       "      <td>false</td>\n",
       "      <td>['Police', 'discovered', 'drug', 'lab', 'back', 'room', 'Walmart', 'Decatur', 'Alabama']</td>\n",
       "    </tr>\n",
       "  </tbody>\n",
       "</table>\n",
       "</div>"
      ],
      "text/plain": [
       "                                                                                fact  \\\n",
       "799  Police discovered a drug lab in the back room of a Walmart in Decatur, Alabama.   \n",
       "\n",
       "     date  source  \\\n",
       "799   238       1   \n",
       "\n",
       "                                                                                                                                                                                                                                                                                                         contenu  \\\n",
       "799  On 10 December 2017, the web site ufconly.com published an article appearing to report that police had discovered a methamphetamine lab in the back room of a Walmart in Decatur, Alabama:publishedPolice were recently tipped off to a reported meth lab that was being run by Walmart employees in wha...   \n",
       "\n",
       "      note  \\\n",
       "799  false   \n",
       "\n",
       "                                                                                    fact_mots  \n",
       "799  ['Police', 'discovered', 'drug', 'lab', 'back', 'room', 'Walmart', 'Decatur', 'Alabama']  "
      ]
     },
     "execution_count": 71,
     "metadata": {},
     "output_type": "execute_result"
    }
   ],
   "source": [
    "df6 = pd.read_csv('../Dataset/claim3.csv', sep=',')\n",
    "df6.sample(1)"
   ]
  },
  {
   "cell_type": "code",
   "execution_count": 72,
   "metadata": {},
   "outputs": [],
   "source": [
    "\n",
    "wordnet_lemmatizer = WordNetLemmatizer()\n",
    "\n",
    "def toMotLem(row) :\n",
    "    listPhrase = []\n",
    "    sans_contract = contractions.fix(row)\n",
    "    phrases = sent_tokenize(sans_contract)\n",
    "    tokens = [word_tokenize(phr) for phr in phrases]\n",
    "    for token in tokens :\n",
    "        for word in token :\n",
    "            if (word not in stop_words) :\n",
    "                listPhrase.append(que_alphanum(word))\n",
    "    listLem = [wordnet_lemmatizer.lemmatize(listmot,pos='v') for listmot in listPhrase]\n",
    "    return listLem"
   ]
  },
  {
   "cell_type": "code",
   "execution_count": 73,
   "metadata": {},
   "outputs": [],
   "source": [
    "df6[\"fact_LEM\"] = df6[\"fact\"].apply(toMotLem)"
   ]
  },
  {
   "cell_type": "code",
   "execution_count": 75,
   "metadata": {},
   "outputs": [],
   "source": [
    "df6[\"contenu\"] = df6[\"contenu\"].apply(toMotLem)"
   ]
  },
  {
   "cell_type": "code",
   "execution_count": 78,
   "metadata": {},
   "outputs": [
    {
     "data": {
      "text/html": [
       "<div>\n",
       "<style scoped>\n",
       "    .dataframe tbody tr th:only-of-type {\n",
       "        vertical-align: middle;\n",
       "    }\n",
       "\n",
       "    .dataframe tbody tr th {\n",
       "        vertical-align: top;\n",
       "    }\n",
       "\n",
       "    .dataframe thead th {\n",
       "        text-align: right;\n",
       "    }\n",
       "</style>\n",
       "<table border=\"1\" class=\"dataframe\">\n",
       "  <thead>\n",
       "    <tr style=\"text-align: right;\">\n",
       "      <th></th>\n",
       "      <th>date</th>\n",
       "      <th>source</th>\n",
       "      <th>contenu</th>\n",
       "      <th>note</th>\n",
       "      <th>fact_LEM</th>\n",
       "    </tr>\n",
       "  </thead>\n",
       "  <tbody>\n",
       "    <tr>\n",
       "      <th>77</th>\n",
       "      <td>251</td>\n",
       "      <td>1</td>\n",
       "      <td>[A, junk, news, website, contribute, new, fictional, wrinkle, saga, onagain, offagain, 2019, State, Union, address, report, 31, January, Speaker, House, Nancy, Pelosi, order, President, Trump, enter, Capitol, Building, event, back, doorreportingPelosi, already, postpone, annual, address, blame, ...</td>\n",
       "      <td>false</td>\n",
       "      <td>[youS, Speaker, House, Nancy, Pelosi, order, President, Trump, enter, Capitol, Building, rear, kitchen, entrance, deliver, 2019, State, Union, address]</td>\n",
       "    </tr>\n",
       "    <tr>\n",
       "      <th>1675</th>\n",
       "      <td>227</td>\n",
       "      <td>1</td>\n",
       "      <td>[On, 29, January, 2017, web, site, Politicot, publish, article, include, allege, , polarize, , quote, youS, President, Donald, Trump, , White, House, senior, adviser, KellyAnne, Conway, Politicot, , So, want, call, racist, Well, , I, say, label, racist, small, price, pay, great, make, entire, co...</td>\n",
       "      <td>false</td>\n",
       "      <td>[KellyAnne, Conway, say, label, racist, small, price, pay, make, country, , great]</td>\n",
       "    </tr>\n",
       "  </tbody>\n",
       "</table>\n",
       "</div>"
      ],
      "text/plain": [
       "      date  source  \\\n",
       "77     251       1   \n",
       "1675   227       1   \n",
       "\n",
       "                                                                                                                                                                                                                                                                                                          contenu  \\\n",
       "77    [A, junk, news, website, contribute, new, fictional, wrinkle, saga, onagain, offagain, 2019, State, Union, address, report, 31, January, Speaker, House, Nancy, Pelosi, order, President, Trump, enter, Capitol, Building, event, back, doorreportingPelosi, already, postpone, annual, address, blame, ...   \n",
       "1675  [On, 29, January, 2017, web, site, Politicot, publish, article, include, allege, , polarize, , quote, youS, President, Donald, Trump, , White, House, senior, adviser, KellyAnne, Conway, Politicot, , So, want, call, racist, Well, , I, say, label, racist, small, price, pay, great, make, entire, co...   \n",
       "\n",
       "       note  \\\n",
       "77    false   \n",
       "1675  false   \n",
       "\n",
       "                                                                                                                                                     fact_LEM  \n",
       "77    [youS, Speaker, House, Nancy, Pelosi, order, President, Trump, enter, Capitol, Building, rear, kitchen, entrance, deliver, 2019, State, Union, address]  \n",
       "1675                                                                       [KellyAnne, Conway, say, label, racist, small, price, pay, make, country, , great]  "
      ]
     },
     "execution_count": 78,
     "metadata": {},
     "output_type": "execute_result"
    }
   ],
   "source": [
    "df6.sample(2)"
   ]
  },
  {
   "cell_type": "code",
   "execution_count": 77,
   "metadata": {},
   "outputs": [],
   "source": [
    "del df6[\"fact_mots\"]\n",
    "del df6[\"fact\"]"
   ]
  },
  {
   "cell_type": "code",
   "execution_count": 79,
   "metadata": {},
   "outputs": [],
   "source": [
    "df6.to_csv('../Dataset/claim4.csv',sep=',', index=False)"
   ]
  },
  {
   "cell_type": "markdown",
   "metadata": {},
   "source": [
    "# Sauvegarde 3"
   ]
  },
  {
   "cell_type": "code",
   "execution_count": 80,
   "metadata": {},
   "outputs": [
    {
     "data": {
      "text/html": [
       "<div>\n",
       "<style scoped>\n",
       "    .dataframe tbody tr th:only-of-type {\n",
       "        vertical-align: middle;\n",
       "    }\n",
       "\n",
       "    .dataframe tbody tr th {\n",
       "        vertical-align: top;\n",
       "    }\n",
       "\n",
       "    .dataframe thead th {\n",
       "        text-align: right;\n",
       "    }\n",
       "</style>\n",
       "<table border=\"1\" class=\"dataframe\">\n",
       "  <thead>\n",
       "    <tr style=\"text-align: right;\">\n",
       "      <th></th>\n",
       "      <th>date</th>\n",
       "      <th>source</th>\n",
       "      <th>contenu</th>\n",
       "      <th>note</th>\n",
       "      <th>fact_LEM</th>\n",
       "    </tr>\n",
       "  </thead>\n",
       "  <tbody>\n",
       "    <tr>\n",
       "      <th>1061</th>\n",
       "      <td>234</td>\n",
       "      <td>1</td>\n",
       "      <td>['On', '23', 'August', '2017', 'comedy', 'web', 'site', 'Funny', 'Die', 'post', 'article', 'appear', 'report', 'Harry', 'Potter', 'series', 'author', 'JK', 'Rowling', 'take', 'vengeance', 'Twitter', 'critic', 'buy', 'home', '', 'Two', 'years', 'ago', '', 'article', 'say', '', 'Rowling', 'tweet',...</td>\n",
       "      <td>false</td>\n",
       "      <td>['Harry', 'Potter', 'author', 'JK', 'Rowling', 'exact', 'revenge', 'Twitter', 'critic', 'monitor', 'finance', 'two', 'years', 'buy', 'home']</td>\n",
       "    </tr>\n",
       "  </tbody>\n",
       "</table>\n",
       "</div>"
      ],
      "text/plain": [
       "      date  source  \\\n",
       "1061   234       1   \n",
       "\n",
       "                                                                                                                                                                                                                                                                                                          contenu  \\\n",
       "1061  ['On', '23', 'August', '2017', 'comedy', 'web', 'site', 'Funny', 'Die', 'post', 'article', 'appear', 'report', 'Harry', 'Potter', 'series', 'author', 'JK', 'Rowling', 'take', 'vengeance', 'Twitter', 'critic', 'buy', 'home', '', 'Two', 'years', 'ago', '', 'article', 'say', '', 'Rowling', 'tweet',...   \n",
       "\n",
       "       note  \\\n",
       "1061  false   \n",
       "\n",
       "                                                                                                                                          fact_LEM  \n",
       "1061  ['Harry', 'Potter', 'author', 'JK', 'Rowling', 'exact', 'revenge', 'Twitter', 'critic', 'monitor', 'finance', 'two', 'years', 'buy', 'home']  "
      ]
     },
     "execution_count": 80,
     "metadata": {},
     "output_type": "execute_result"
    }
   ],
   "source": [
    "df7 = pd.read_csv('../Dataset/claim4.csv', sep=',')\n",
    "df7.sample(1)"
   ]
  },
  {
   "cell_type": "code",
   "execution_count": 82,
   "metadata": {},
   "outputs": [],
   "source": [
    "df7 = df7[[\"date\",\"source\", \"fact_LEM\",\"contenu\",\"note\"]]"
   ]
  },
  {
   "cell_type": "code",
   "execution_count": 83,
   "metadata": {},
   "outputs": [
    {
     "data": {
      "text/html": [
       "<div>\n",
       "<style scoped>\n",
       "    .dataframe tbody tr th:only-of-type {\n",
       "        vertical-align: middle;\n",
       "    }\n",
       "\n",
       "    .dataframe tbody tr th {\n",
       "        vertical-align: top;\n",
       "    }\n",
       "\n",
       "    .dataframe thead th {\n",
       "        text-align: right;\n",
       "    }\n",
       "</style>\n",
       "<table border=\"1\" class=\"dataframe\">\n",
       "  <thead>\n",
       "    <tr style=\"text-align: right;\">\n",
       "      <th></th>\n",
       "      <th>date</th>\n",
       "      <th>source</th>\n",
       "      <th>fact_LEM</th>\n",
       "      <th>contenu</th>\n",
       "      <th>note</th>\n",
       "    </tr>\n",
       "  </thead>\n",
       "  <tbody>\n",
       "    <tr>\n",
       "      <th>7357</th>\n",
       "      <td>260</td>\n",
       "      <td>0</td>\n",
       "      <td>['', '', 'State', 'law', 'say', 'state', 'appraise', 'piece', 'property', 'pay', 'certain', 'amount', 'appraisal']</td>\n",
       "      <td>['Plans', 'build', 'new', '', '1', 'billion', 'stadium', 'downtown', 'Atlanta', 'may', 'sound', 'like', 'project', 'limitless', 'cash', 'But', 'boundaries', 'concern', 'spend', 'accord', 'key', 'player', 'effortAtlanta', 'Mayor', 'Kasim', 'Reed', 'recently', 'take', 'radio', 'discuss', 'fracture...</td>\n",
       "      <td>true</td>\n",
       "    </tr>\n",
       "  </tbody>\n",
       "</table>\n",
       "</div>"
      ],
      "text/plain": [
       "      date  source  \\\n",
       "7357   260       0   \n",
       "\n",
       "                                                                                                                fact_LEM  \\\n",
       "7357  ['', '', 'State', 'law', 'say', 'state', 'appraise', 'piece', 'property', 'pay', 'certain', 'amount', 'appraisal']   \n",
       "\n",
       "                                                                                                                                                                                                                                                                                                          contenu  \\\n",
       "7357  ['Plans', 'build', 'new', '', '1', 'billion', 'stadium', 'downtown', 'Atlanta', 'may', 'sound', 'like', 'project', 'limitless', 'cash', 'But', 'boundaries', 'concern', 'spend', 'accord', 'key', 'player', 'effortAtlanta', 'Mayor', 'Kasim', 'Reed', 'recently', 'take', 'radio', 'discuss', 'fracture...   \n",
       "\n",
       "      note  \n",
       "7357  true  "
      ]
     },
     "execution_count": 83,
     "metadata": {},
     "output_type": "execute_result"
    }
   ],
   "source": [
    "df7.sample(1)"
   ]
  },
  {
   "cell_type": "code",
   "execution_count": null,
   "metadata": {},
   "outputs": [],
   "source": []
  }
 ],
 "metadata": {
  "kernelspec": {
   "display_name": "Python 3",
   "language": "python",
   "name": "python3"
  },
  "language_info": {
   "codemirror_mode": {
    "name": "ipython",
    "version": 3
   },
   "file_extension": ".py",
   "mimetype": "text/x-python",
   "name": "python",
   "nbconvert_exporter": "python",
   "pygments_lexer": "ipython3",
   "version": "3.8.2"
  }
 },
 "nbformat": 4,
 "nbformat_minor": 4
}
