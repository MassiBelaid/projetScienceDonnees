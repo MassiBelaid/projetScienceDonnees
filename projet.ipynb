{
 "cells": [
  {
   "cell_type": "code",
   "execution_count": 64,
   "metadata": {},
   "outputs": [],
   "source": [
    "import pandas as pd\n",
    "import numpy as np\n",
    "import sklearn\n",
    "from sklearn.naive_bayes import GaussianNB\n",
    "from sklearn.metrics import accuracy_score\n",
    "from sklearn.model_selection import train_test_split\n",
    "from sklearn.model_selection import KFold\n",
    "from sklearn.model_selection import cross_val_score\n",
    "from sklearn.metrics import confusion_matrix\n",
    "from sklearn.metrics import classification_report\n",
    "import seaborn as sns\n",
    "import matplotlib.pyplot as plt\n",
    "from sklearn.metrics import precision_recall_fscore_support as score\n",
    "from sklearn.linear_model import LogisticRegression\n",
    "from sklearn.tree import DecisionTreeClassifier\n",
    "from sklearn.neighbors import KNeighborsClassifier\n",
    "from sklearn.naive_bayes import GaussianNB\n",
    "from sklearn.svm import SVC\n",
    "from sklearn.model_selection import GridSearchCV\n",
    "from sklearn.ensemble import RandomForestClassifier\n",
    "from sklearn.preprocessing import LabelEncoder\n",
    "#Sickit learn met régulièrement à jour des versions et indique des futurs warnings.\n",
    "#ces deux lignes permettent de ne pas les afficher.\n",
    "import warnings\n",
    "warnings.filterwarnings(\"ignore\", category=FutureWarning)\n",
    "\n",
    "from nltk.tokenize import word_tokenize\n",
    "from nltk import sent_tokenize\n"
   ]
  },
  {
   "cell_type": "code",
   "execution_count": 2,
   "metadata": {},
   "outputs": [],
   "source": [
    "names = [\"id\",\"auteur\",\"lien_auteur\",\"nom_auteur\",\"reclamation_examinee\",\"date_examination\",\"source\",\"lien\",\"pub_nom_auteur\",\"pub_lien_auteur\",\n",
    "         \"date_publication\",\"contenu\",\"extra_auteur\",\"extra_contenu\",\"extra_publication_examinée\",\n",
    "         \"extra_mot_cle\",\"extra_lien_reference\",\"extra_tags\",\"extra_titre\",\"note_nom_alternatif\",\"meilleure_note\",\n",
    "         \"valeur_note\",\"pire_note\"]\n",
    "df = pd.read_csv('../Dataset/claim.csv', sep=',', names = names, skiprows = 1, nrows = 5000)\n",
    "df2 = pd.read_csv('../Dataset/claim.csv', sep=',', names = names, skiprows = 5001, nrows = 5000)\n",
    "df3 = pd.read_csv('../Dataset/claim.csv', sep=',', names = names, skiprows = 10001, nrows = 5000)\n",
    "df4 = pd.read_csv('../Dataset/claim.csv', sep=',', names = names, skiprows = 15001, nrows = 5000)\n",
    "\n",
    "\n"
   ]
  },
  {
   "cell_type": "code",
   "execution_count": 3,
   "metadata": {},
   "outputs": [
    {
     "data": {
      "text/html": [
       "<div>\n",
       "<style scoped>\n",
       "    .dataframe tbody tr th:only-of-type {\n",
       "        vertical-align: middle;\n",
       "    }\n",
       "\n",
       "    .dataframe tbody tr th {\n",
       "        vertical-align: top;\n",
       "    }\n",
       "\n",
       "    .dataframe thead th {\n",
       "        text-align: right;\n",
       "    }\n",
       "</style>\n",
       "<table border=\"1\" class=\"dataframe\">\n",
       "  <thead>\n",
       "    <tr style=\"text-align: right;\">\n",
       "      <th></th>\n",
       "      <th>id</th>\n",
       "      <th>auteur</th>\n",
       "      <th>lien_auteur</th>\n",
       "      <th>nom_auteur</th>\n",
       "      <th>reclamation_examinee</th>\n",
       "      <th>date_examination</th>\n",
       "      <th>source</th>\n",
       "      <th>lien</th>\n",
       "      <th>pub_nom_auteur</th>\n",
       "      <th>pub_lien_auteur</th>\n",
       "      <th>...</th>\n",
       "      <th>extra_contenu</th>\n",
       "      <th>extra_publication_examinée</th>\n",
       "      <th>extra_mot_cle</th>\n",
       "      <th>extra_lien_reference</th>\n",
       "      <th>extra_tags</th>\n",
       "      <th>extra_titre</th>\n",
       "      <th>note_nom_alternatif</th>\n",
       "      <th>meilleure_note</th>\n",
       "      <th>valeur_note</th>\n",
       "      <th>pire_note</th>\n",
       "    </tr>\n",
       "  </thead>\n",
       "  <tbody>\n",
       "    <tr>\n",
       "      <th>998</th>\n",
       "      <td>998</td>\n",
       "      <td>NaN</td>\n",
       "      <td>snopes</td>\n",
       "      <td>NaN</td>\n",
       "      <td>Monica Lewinsky offered to \"\"take one for (the...</td>\n",
       "      <td>2019-10-04</td>\n",
       "      <td>snopes</td>\n",
       "      <td>https://www.snopes.com/fact-check/monica-lewin...</td>\n",
       "      <td>NaN</td>\n",
       "      <td>NaN</td>\n",
       "      <td>...</td>\n",
       "      <td>[{\"id\" : 19948\",\"\"begin\": 55,\"end\": 70,\"entity...</td>\n",
       "      <td>[{\"id\" : 19948\",\"\"begin\": 0,\"end\": 15,\"entity\"...</td>\n",
       "      <td>[]</td>\n",
       "      <td>https://www.snopes.com/tachyon/2019/10/monica-...</td>\n",
       "      <td>NaN</td>\n",
       "      <td>Did Monica Lewinsky Offer to ‘Take One For (th...</td>\n",
       "      <td>False</td>\n",
       "      <td>NaN</td>\n",
       "      <td>NaN</td>\n",
       "      <td>NaN</td>\n",
       "    </tr>\n",
       "    <tr>\n",
       "      <th>670</th>\n",
       "      <td>15670</td>\n",
       "      <td>NaN</td>\n",
       "      <td>snopes</td>\n",
       "      <td>NaN</td>\n",
       "      <td>Monica Lewinsky offered to \"\"take one for (the...</td>\n",
       "      <td>2019-10-04</td>\n",
       "      <td>snopes</td>\n",
       "      <td>https://www.snopes.com/fact-check/monica-lewin...</td>\n",
       "      <td>NaN</td>\n",
       "      <td>NaN</td>\n",
       "      <td>...</td>\n",
       "      <td>[{\"id\" : 19948\",\"\"begin\": 55,\"end\": 70,\"entity...</td>\n",
       "      <td>[{\"id\" : 19948\",\"\"begin\": 0,\"end\": 15,\"entity\"...</td>\n",
       "      <td>[]</td>\n",
       "      <td>https://www.snopes.com/tachyon/2019/10/monica-...</td>\n",
       "      <td>NaN</td>\n",
       "      <td>Did Monica Lewinsky Offer to ‘Take One For (th...</td>\n",
       "      <td>False</td>\n",
       "      <td>NaN</td>\n",
       "      <td>NaN</td>\n",
       "      <td>NaN</td>\n",
       "    </tr>\n",
       "    <tr>\n",
       "      <th>1551</th>\n",
       "      <td>6551</td>\n",
       "      <td>NaN</td>\n",
       "      <td>snopes</td>\n",
       "      <td>NaN</td>\n",
       "      <td>The Southern Baptist Convention purchased fast...</td>\n",
       "      <td>2016-12-09</td>\n",
       "      <td>snopes</td>\n",
       "      <td>https://www.snopes.com/fact-check/southern-bap...</td>\n",
       "      <td>NaN</td>\n",
       "      <td>NaN</td>\n",
       "      <td>...</td>\n",
       "      <td>[{\"id\" : 50780010\",\"\"begin\": 23,\"end\": 34,\"ent...</td>\n",
       "      <td>[{\"id\" : 117407\",\"\"begin\": 4,\"end\": 31,\"entity...</td>\n",
       "      <td>[{\"id\" : 50780010\",\"\"begin\": 4,\"end\": 15,\"enti...</td>\n",
       "      <td>http://www.bpnews.net/38271</td>\n",
       "      <td>the babylon bee</td>\n",
       "      <td>Did the Southern Baptist Convention Buy Chick ...</td>\n",
       "      <td>Labeled Satire</td>\n",
       "      <td>NaN</td>\n",
       "      <td>NaN</td>\n",
       "      <td>NaN</td>\n",
       "    </tr>\n",
       "    <tr>\n",
       "      <th>224</th>\n",
       "      <td>15224</td>\n",
       "      <td>NaN</td>\n",
       "      <td>snopes</td>\n",
       "      <td>NaN</td>\n",
       "      <td>Monica Lewinsky offered to \"\"take one for (the...</td>\n",
       "      <td>2019-10-04</td>\n",
       "      <td>snopes</td>\n",
       "      <td>https://www.snopes.com/fact-check/monica-lewin...</td>\n",
       "      <td>NaN</td>\n",
       "      <td>NaN</td>\n",
       "      <td>...</td>\n",
       "      <td>[{\"id\" : 19948\",\"\"begin\": 55,\"end\": 70,\"entity...</td>\n",
       "      <td>[{\"id\" : 19948\",\"\"begin\": 0,\"end\": 15,\"entity\"...</td>\n",
       "      <td>[]</td>\n",
       "      <td>https://www.snopes.com/tachyon/2019/10/monica-...</td>\n",
       "      <td>NaN</td>\n",
       "      <td>Did Monica Lewinsky Offer to ‘Take One For (th...</td>\n",
       "      <td>False</td>\n",
       "      <td>NaN</td>\n",
       "      <td>NaN</td>\n",
       "      <td>NaN</td>\n",
       "    </tr>\n",
       "    <tr>\n",
       "      <th>4322</th>\n",
       "      <td>14322</td>\n",
       "      <td>NaN</td>\n",
       "      <td>snopes</td>\n",
       "      <td>NaN</td>\n",
       "      <td>NASA and NOAA faked climate data in the GISTEM...</td>\n",
       "      <td>2019-10-03</td>\n",
       "      <td>snopes</td>\n",
       "      <td>https://www.snopes.com/fact-check/global-warmi...</td>\n",
       "      <td>NaN</td>\n",
       "      <td>NaN</td>\n",
       "      <td>...</td>\n",
       "      <td>[{\"id\" : 7529378\",\"\"begin\": 65,\"end\": 73,\"enti...</td>\n",
       "      <td>[{\"id\" : 18426568\",\"\"begin\": 0,\"end\": 4,\"entit...</td>\n",
       "      <td>[]</td>\n",
       "      <td>https://www.buzzfeednews.com/article/stephanie...</td>\n",
       "      <td>NaN</td>\n",
       "      <td>Was Global Warming Data ‘Faked’ to ‘Fit Climat...</td>\n",
       "      <td>False</td>\n",
       "      <td>NaN</td>\n",
       "      <td>NaN</td>\n",
       "      <td>NaN</td>\n",
       "    </tr>\n",
       "  </tbody>\n",
       "</table>\n",
       "<p>5 rows × 23 columns</p>\n",
       "</div>"
      ],
      "text/plain": [
       "         id  auteur lien_auteur  nom_auteur  \\\n",
       "998     998     NaN      snopes         NaN   \n",
       "670   15670     NaN      snopes         NaN   \n",
       "1551   6551     NaN      snopes         NaN   \n",
       "224   15224     NaN      snopes         NaN   \n",
       "4322  14322     NaN      snopes         NaN   \n",
       "\n",
       "                                   reclamation_examinee date_examination  \\\n",
       "998   Monica Lewinsky offered to \"\"take one for (the...       2019-10-04   \n",
       "670   Monica Lewinsky offered to \"\"take one for (the...       2019-10-04   \n",
       "1551  The Southern Baptist Convention purchased fast...       2016-12-09   \n",
       "224   Monica Lewinsky offered to \"\"take one for (the...       2019-10-04   \n",
       "4322  NASA and NOAA faked climate data in the GISTEM...       2019-10-03   \n",
       "\n",
       "      source                                               lien  \\\n",
       "998   snopes  https://www.snopes.com/fact-check/monica-lewin...   \n",
       "670   snopes  https://www.snopes.com/fact-check/monica-lewin...   \n",
       "1551  snopes  https://www.snopes.com/fact-check/southern-bap...   \n",
       "224   snopes  https://www.snopes.com/fact-check/monica-lewin...   \n",
       "4322  snopes  https://www.snopes.com/fact-check/global-warmi...   \n",
       "\n",
       "     pub_nom_auteur pub_lien_auteur  ...  \\\n",
       "998             NaN             NaN  ...   \n",
       "670             NaN             NaN  ...   \n",
       "1551            NaN             NaN  ...   \n",
       "224             NaN             NaN  ...   \n",
       "4322            NaN             NaN  ...   \n",
       "\n",
       "                                          extra_contenu  \\\n",
       "998   [{\"id\" : 19948\",\"\"begin\": 55,\"end\": 70,\"entity...   \n",
       "670   [{\"id\" : 19948\",\"\"begin\": 55,\"end\": 70,\"entity...   \n",
       "1551  [{\"id\" : 50780010\",\"\"begin\": 23,\"end\": 34,\"ent...   \n",
       "224   [{\"id\" : 19948\",\"\"begin\": 55,\"end\": 70,\"entity...   \n",
       "4322  [{\"id\" : 7529378\",\"\"begin\": 65,\"end\": 73,\"enti...   \n",
       "\n",
       "                             extra_publication_examinée  \\\n",
       "998   [{\"id\" : 19948\",\"\"begin\": 0,\"end\": 15,\"entity\"...   \n",
       "670   [{\"id\" : 19948\",\"\"begin\": 0,\"end\": 15,\"entity\"...   \n",
       "1551  [{\"id\" : 117407\",\"\"begin\": 4,\"end\": 31,\"entity...   \n",
       "224   [{\"id\" : 19948\",\"\"begin\": 0,\"end\": 15,\"entity\"...   \n",
       "4322  [{\"id\" : 18426568\",\"\"begin\": 0,\"end\": 4,\"entit...   \n",
       "\n",
       "                                          extra_mot_cle  \\\n",
       "998                                                  []   \n",
       "670                                                  []   \n",
       "1551  [{\"id\" : 50780010\",\"\"begin\": 4,\"end\": 15,\"enti...   \n",
       "224                                                  []   \n",
       "4322                                                 []   \n",
       "\n",
       "                                   extra_lien_reference       extra_tags  \\\n",
       "998   https://www.snopes.com/tachyon/2019/10/monica-...              NaN   \n",
       "670   https://www.snopes.com/tachyon/2019/10/monica-...              NaN   \n",
       "1551                        http://www.bpnews.net/38271  the babylon bee   \n",
       "224   https://www.snopes.com/tachyon/2019/10/monica-...              NaN   \n",
       "4322  https://www.buzzfeednews.com/article/stephanie...              NaN   \n",
       "\n",
       "                                            extra_titre note_nom_alternatif  \\\n",
       "998   Did Monica Lewinsky Offer to ‘Take One For (th...               False   \n",
       "670   Did Monica Lewinsky Offer to ‘Take One For (th...               False   \n",
       "1551  Did the Southern Baptist Convention Buy Chick ...      Labeled Satire   \n",
       "224   Did Monica Lewinsky Offer to ‘Take One For (th...               False   \n",
       "4322  Was Global Warming Data ‘Faked’ to ‘Fit Climat...               False   \n",
       "\n",
       "     meilleure_note valeur_note pire_note  \n",
       "998             NaN         NaN       NaN  \n",
       "670             NaN         NaN       NaN  \n",
       "1551            NaN         NaN       NaN  \n",
       "224             NaN         NaN       NaN  \n",
       "4322            NaN         NaN       NaN  \n",
       "\n",
       "[5 rows x 23 columns]"
      ]
     },
     "metadata": {},
     "output_type": "display_data"
    }
   ],
   "source": [
    "df = pd.concat([df, df2])\n",
    "df = pd.concat([df, df3])\n",
    "df = pd.concat([df, df4])\n",
    "display(df.sample(5))\n"
   ]
  },
  {
   "cell_type": "code",
   "execution_count": 4,
   "metadata": {},
   "outputs": [
    {
     "data": {
      "text/plain": [
       "(20000, 23)"
      ]
     },
     "metadata": {},
     "output_type": "display_data"
    }
   ],
   "source": [
    "display(df.shape)"
   ]
  },
  {
   "cell_type": "code",
   "execution_count": 5,
   "metadata": {},
   "outputs": [
    {
     "name": "stdout",
     "output_type": "stream",
     "text": [
      "<class 'pandas.core.frame.DataFrame'>\n",
      "Int64Index: 20000 entries, 0 to 4999\n",
      "Data columns (total 23 columns):\n",
      " #   Column                      Non-Null Count  Dtype  \n",
      "---  ------                      --------------  -----  \n",
      " 0   id                          20000 non-null  int64  \n",
      " 1   auteur                      0 non-null      float64\n",
      " 2   lien_auteur                 20000 non-null  object \n",
      " 3   nom_auteur                  0 non-null      float64\n",
      " 4   reclamation_examinee        20000 non-null  object \n",
      " 5   date_examination            19598 non-null  object \n",
      " 6   source                      20000 non-null  object \n",
      " 7   lien                        20000 non-null  object \n",
      " 8   pub_nom_auteur              1525 non-null   object \n",
      " 9   pub_lien_auteur             113 non-null    object \n",
      " 10  date_publication            1525 non-null   object \n",
      " 11  contenu                     19997 non-null  object \n",
      " 12  extra_auteur                20000 non-null  object \n",
      " 13  extra_contenu               20000 non-null  object \n",
      " 14  extra_publication_examinée  20000 non-null  object \n",
      " 15  extra_mot_cle               20000 non-null  object \n",
      " 16  extra_lien_reference        18632 non-null  object \n",
      " 17  extra_tags                  14175 non-null  object \n",
      " 18  extra_titre                 20000 non-null  object \n",
      " 19  note_nom_alternatif         19992 non-null  object \n",
      " 20  meilleure_note              203 non-null    float64\n",
      " 21  valeur_note                 203 non-null    float64\n",
      " 22  pire_note                   175 non-null    float64\n",
      "dtypes: float64(5), int64(1), object(17)\n",
      "memory usage: 2.4+ MB\n"
     ]
    },
    {
     "data": {
      "text/plain": [
       "None"
      ]
     },
     "metadata": {},
     "output_type": "display_data"
    }
   ],
   "source": [
    "display(df.info())"
   ]
  },
  {
   "cell_type": "markdown",
   "metadata": {},
   "source": [
    "On supprime toutes les colonnes qui ou toutes les lignes sont Nan "
   ]
  },
  {
   "cell_type": "code",
   "execution_count": 6,
   "metadata": {},
   "outputs": [],
   "source": [
    "del df[\"auteur\"]\n",
    "del df[\"nom_auteur\"]\n",
    "del df[\"pub_nom_auteur\"]\n",
    "del df[\"pub_lien_auteur\"]\n",
    "del df[\"date_publication\"]\n",
    "del df[\"meilleure_note\"]\n",
    "del df[\"valeur_note\"]\n",
    "del df[\"pire_note\"]"
   ]
  },
  {
   "cell_type": "code",
   "execution_count": 7,
   "metadata": {},
   "outputs": [
    {
     "data": {
      "text/html": [
       "<div>\n",
       "<style scoped>\n",
       "    .dataframe tbody tr th:only-of-type {\n",
       "        vertical-align: middle;\n",
       "    }\n",
       "\n",
       "    .dataframe tbody tr th {\n",
       "        vertical-align: top;\n",
       "    }\n",
       "\n",
       "    .dataframe thead th {\n",
       "        text-align: right;\n",
       "    }\n",
       "</style>\n",
       "<table border=\"1\" class=\"dataframe\">\n",
       "  <thead>\n",
       "    <tr style=\"text-align: right;\">\n",
       "      <th></th>\n",
       "      <th>id</th>\n",
       "      <th>lien_auteur</th>\n",
       "      <th>reclamation_examinee</th>\n",
       "      <th>date_examination</th>\n",
       "      <th>source</th>\n",
       "      <th>lien</th>\n",
       "      <th>contenu</th>\n",
       "      <th>extra_auteur</th>\n",
       "      <th>extra_contenu</th>\n",
       "      <th>extra_publication_examinée</th>\n",
       "      <th>extra_mot_cle</th>\n",
       "      <th>extra_lien_reference</th>\n",
       "      <th>extra_tags</th>\n",
       "      <th>extra_titre</th>\n",
       "      <th>note_nom_alternatif</th>\n",
       "    </tr>\n",
       "  </thead>\n",
       "  <tbody>\n",
       "    <tr>\n",
       "      <th>2083</th>\n",
       "      <td>12083</td>\n",
       "      <td>snopes</td>\n",
       "      <td>NASA and NOAA faked climate data in the GISTEM...</td>\n",
       "      <td>2019-10-03</td>\n",
       "      <td>snopes</td>\n",
       "      <td>https://www.snopes.com/fact-check/global-warmi...</td>\n",
       "      <td>Since 2014, climate-change deniers have squeez...</td>\n",
       "      <td>[]</td>\n",
       "      <td>[{\"id\" : 7529378\",\"\"begin\": 65,\"end\": 73,\"enti...</td>\n",
       "      <td>[{\"id\" : 18426568\",\"\"begin\": 0,\"end\": 4,\"entit...</td>\n",
       "      <td>[]</td>\n",
       "      <td>https://www.buzzfeednews.com/article/stephanie...</td>\n",
       "      <td>NaN</td>\n",
       "      <td>Was Global Warming Data ‘Faked’ to ‘Fit Climat...</td>\n",
       "      <td>False</td>\n",
       "    </tr>\n",
       "    <tr>\n",
       "      <th>950</th>\n",
       "      <td>5950</td>\n",
       "      <td>snopes</td>\n",
       "      <td>Monica Lewinsky offered to \"\"take one for (the...</td>\n",
       "      <td>2019-10-04</td>\n",
       "      <td>snopes</td>\n",
       "      <td>https://www.snopes.com/fact-check/monica-lewin...</td>\n",
       "      <td>On Oct. 3, 2019, an image supposedly showing a...</td>\n",
       "      <td>[]</td>\n",
       "      <td>[{\"id\" : 19948\",\"\"begin\": 55,\"end\": 70,\"entity...</td>\n",
       "      <td>[{\"id\" : 19948\",\"\"begin\": 0,\"end\": 15,\"entity\"...</td>\n",
       "      <td>[]</td>\n",
       "      <td>https://www.snopes.com/tachyon/2019/10/monica-...</td>\n",
       "      <td>NaN</td>\n",
       "      <td>Did Monica Lewinsky Offer to ‘Take One For (th...</td>\n",
       "      <td>False</td>\n",
       "    </tr>\n",
       "    <tr>\n",
       "      <th>964</th>\n",
       "      <td>5964</td>\n",
       "      <td>snopes</td>\n",
       "      <td>\"\"Obamacare\"\" mandates that no one over 75 wil...</td>\n",
       "      <td>2012-01-03</td>\n",
       "      <td>snopes</td>\n",
       "      <td>https://www.snopes.com/fact-check/seniors-beware/</td>\n",
       "      <td>Long before the passage of the health care ref...</td>\n",
       "      <td>[]</td>\n",
       "      <td>[{\"id\" : 25226624\",\"\"begin\": 31,\"end\": 49,\"ent...</td>\n",
       "      <td>[]</td>\n",
       "      <td>[]</td>\n",
       "      <td>neurosurgery.asp,http://www.msha.com/hospitals...</td>\n",
       "      <td>obamacare</td>\n",
       "      <td>Seniors Beware</td>\n",
       "      <td>False</td>\n",
       "    </tr>\n",
       "    <tr>\n",
       "      <th>1433</th>\n",
       "      <td>16433</td>\n",
       "      <td>snopes</td>\n",
       "      <td>Monica Lewinsky offered to \"\"take one for (the...</td>\n",
       "      <td>2019-10-04</td>\n",
       "      <td>snopes</td>\n",
       "      <td>https://www.snopes.com/fact-check/monica-lewin...</td>\n",
       "      <td>On Oct. 3, 2019, an image supposedly showing a...</td>\n",
       "      <td>[]</td>\n",
       "      <td>[{\"id\" : 19948\",\"\"begin\": 55,\"end\": 70,\"entity...</td>\n",
       "      <td>[{\"id\" : 19948\",\"\"begin\": 0,\"end\": 15,\"entity\"...</td>\n",
       "      <td>[]</td>\n",
       "      <td>https://www.snopes.com/tachyon/2019/10/monica-...</td>\n",
       "      <td>NaN</td>\n",
       "      <td>Did Monica Lewinsky Offer to ‘Take One For (th...</td>\n",
       "      <td>False</td>\n",
       "    </tr>\n",
       "    <tr>\n",
       "      <th>319</th>\n",
       "      <td>319</td>\n",
       "      <td>snopes</td>\n",
       "      <td>NASA and NOAA faked climate data in the GISTEM...</td>\n",
       "      <td>2019-10-03</td>\n",
       "      <td>snopes</td>\n",
       "      <td>https://www.snopes.com/fact-check/global-warmi...</td>\n",
       "      <td>Since 2014, climate-change deniers have squeez...</td>\n",
       "      <td>[]</td>\n",
       "      <td>[{\"id\" : 7529378\",\"\"begin\": 65,\"end\": 73,\"enti...</td>\n",
       "      <td>[{\"id\" : 18426568\",\"\"begin\": 0,\"end\": 4,\"entit...</td>\n",
       "      <td>[]</td>\n",
       "      <td>https://www.buzzfeednews.com/article/stephanie...</td>\n",
       "      <td>NaN</td>\n",
       "      <td>Was Global Warming Data ‘Faked’ to ‘Fit Climat...</td>\n",
       "      <td>False</td>\n",
       "    </tr>\n",
       "  </tbody>\n",
       "</table>\n",
       "</div>"
      ],
      "text/plain": [
       "         id lien_auteur                               reclamation_examinee  \\\n",
       "2083  12083      snopes  NASA and NOAA faked climate data in the GISTEM...   \n",
       "950    5950      snopes  Monica Lewinsky offered to \"\"take one for (the...   \n",
       "964    5964      snopes  \"\"Obamacare\"\" mandates that no one over 75 wil...   \n",
       "1433  16433      snopes  Monica Lewinsky offered to \"\"take one for (the...   \n",
       "319     319      snopes  NASA and NOAA faked climate data in the GISTEM...   \n",
       "\n",
       "     date_examination  source  \\\n",
       "2083       2019-10-03  snopes   \n",
       "950        2019-10-04  snopes   \n",
       "964        2012-01-03  snopes   \n",
       "1433       2019-10-04  snopes   \n",
       "319        2019-10-03  snopes   \n",
       "\n",
       "                                                   lien  \\\n",
       "2083  https://www.snopes.com/fact-check/global-warmi...   \n",
       "950   https://www.snopes.com/fact-check/monica-lewin...   \n",
       "964   https://www.snopes.com/fact-check/seniors-beware/   \n",
       "1433  https://www.snopes.com/fact-check/monica-lewin...   \n",
       "319   https://www.snopes.com/fact-check/global-warmi...   \n",
       "\n",
       "                                                contenu extra_auteur  \\\n",
       "2083  Since 2014, climate-change deniers have squeez...           []   \n",
       "950   On Oct. 3, 2019, an image supposedly showing a...           []   \n",
       "964   Long before the passage of the health care ref...           []   \n",
       "1433  On Oct. 3, 2019, an image supposedly showing a...           []   \n",
       "319   Since 2014, climate-change deniers have squeez...           []   \n",
       "\n",
       "                                          extra_contenu  \\\n",
       "2083  [{\"id\" : 7529378\",\"\"begin\": 65,\"end\": 73,\"enti...   \n",
       "950   [{\"id\" : 19948\",\"\"begin\": 55,\"end\": 70,\"entity...   \n",
       "964   [{\"id\" : 25226624\",\"\"begin\": 31,\"end\": 49,\"ent...   \n",
       "1433  [{\"id\" : 19948\",\"\"begin\": 55,\"end\": 70,\"entity...   \n",
       "319   [{\"id\" : 7529378\",\"\"begin\": 65,\"end\": 73,\"enti...   \n",
       "\n",
       "                             extra_publication_examinée extra_mot_cle  \\\n",
       "2083  [{\"id\" : 18426568\",\"\"begin\": 0,\"end\": 4,\"entit...            []   \n",
       "950   [{\"id\" : 19948\",\"\"begin\": 0,\"end\": 15,\"entity\"...            []   \n",
       "964                                                  []            []   \n",
       "1433  [{\"id\" : 19948\",\"\"begin\": 0,\"end\": 15,\"entity\"...            []   \n",
       "319   [{\"id\" : 18426568\",\"\"begin\": 0,\"end\": 4,\"entit...            []   \n",
       "\n",
       "                                   extra_lien_reference extra_tags  \\\n",
       "2083  https://www.buzzfeednews.com/article/stephanie...        NaN   \n",
       "950   https://www.snopes.com/tachyon/2019/10/monica-...        NaN   \n",
       "964   neurosurgery.asp,http://www.msha.com/hospitals...  obamacare   \n",
       "1433  https://www.snopes.com/tachyon/2019/10/monica-...        NaN   \n",
       "319   https://www.buzzfeednews.com/article/stephanie...        NaN   \n",
       "\n",
       "                                            extra_titre note_nom_alternatif  \n",
       "2083  Was Global Warming Data ‘Faked’ to ‘Fit Climat...               False  \n",
       "950   Did Monica Lewinsky Offer to ‘Take One For (th...               False  \n",
       "964                                      Seniors Beware               False  \n",
       "1433  Did Monica Lewinsky Offer to ‘Take One For (th...               False  \n",
       "319   Was Global Warming Data ‘Faked’ to ‘Fit Climat...               False  "
      ]
     },
     "metadata": {},
     "output_type": "display_data"
    }
   ],
   "source": [
    "display(df.sample(5))"
   ]
  },
  {
   "cell_type": "markdown",
   "metadata": {},
   "source": [
    "Nouveau nombre de lignes et colonnes "
   ]
  },
  {
   "cell_type": "code",
   "execution_count": 8,
   "metadata": {},
   "outputs": [
    {
     "data": {
      "text/plain": [
       "(20000, 15)"
      ]
     },
     "metadata": {},
     "output_type": "display_data"
    }
   ],
   "source": [
    "display(df.shape)"
   ]
  },
  {
   "cell_type": "code",
   "execution_count": 9,
   "metadata": {},
   "outputs": [
    {
     "name": "stdout",
     "output_type": "stream",
     "text": [
      "<class 'pandas.core.frame.DataFrame'>\n",
      "Int64Index: 20000 entries, 0 to 4999\n",
      "Data columns (total 15 columns):\n",
      " #   Column                      Non-Null Count  Dtype \n",
      "---  ------                      --------------  ----- \n",
      " 0   id                          20000 non-null  int64 \n",
      " 1   lien_auteur                 20000 non-null  object\n",
      " 2   reclamation_examinee        20000 non-null  object\n",
      " 3   date_examination            19598 non-null  object\n",
      " 4   source                      20000 non-null  object\n",
      " 5   lien                        20000 non-null  object\n",
      " 6   contenu                     19997 non-null  object\n",
      " 7   extra_auteur                20000 non-null  object\n",
      " 8   extra_contenu               20000 non-null  object\n",
      " 9   extra_publication_examinée  20000 non-null  object\n",
      " 10  extra_mot_cle               20000 non-null  object\n",
      " 11  extra_lien_reference        18632 non-null  object\n",
      " 12  extra_tags                  14175 non-null  object\n",
      " 13  extra_titre                 20000 non-null  object\n",
      " 14  note_nom_alternatif         19992 non-null  object\n",
      "dtypes: int64(1), object(14)\n",
      "memory usage: 1.4+ MB\n",
      "None\n"
     ]
    }
   ],
   "source": [
    "print(df.info())"
   ]
  },
  {
   "cell_type": "code",
   "execution_count": 10,
   "metadata": {},
   "outputs": [
    {
     "data": {
      "text/plain": [
       "count     20000\n",
       "unique      657\n",
       "top          []\n",
       "freq      18696\n",
       "Name: extra_auteur, dtype: object"
      ]
     },
     "metadata": {},
     "output_type": "display_data"
    }
   ],
   "source": [
    "display(df[\"extra_auteur\"].describe())"
   ]
  },
  {
   "cell_type": "code",
   "execution_count": 11,
   "metadata": {},
   "outputs": [],
   "source": [
    "del df[\"extra_auteur\"]"
   ]
  },
  {
   "cell_type": "code",
   "execution_count": 12,
   "metadata": {},
   "outputs": [
    {
     "name": "stdout",
     "output_type": "stream",
     "text": [
      "id\n"
     ]
    },
    {
     "data": {
      "text/plain": [
       "count    20000.000000\n",
       "mean      8590.781250\n",
       "std       5599.143886\n",
       "min          0.000000\n",
       "25%       3474.750000\n",
       "50%       8474.500000\n",
       "75%      13474.250000\n",
       "max      18474.000000\n",
       "Name: id, dtype: float64"
      ]
     },
     "metadata": {},
     "output_type": "display_data"
    },
    {
     "name": "stdout",
     "output_type": "stream",
     "text": [
      "___________________\n",
      "lien_auteur\n"
     ]
    },
    {
     "data": {
      "text/plain": [
       "count      20000\n",
       "unique         2\n",
       "top       snopes\n",
       "freq       18475\n",
       "Name: lien_auteur, dtype: object"
      ]
     },
     "metadata": {},
     "output_type": "display_data"
    },
    {
     "name": "stdout",
     "output_type": "stream",
     "text": [
      "___________________\n",
      "reclamation_examinee\n"
     ]
    },
    {
     "data": {
      "text/plain": [
       "count                                                 20000\n",
       "unique                                                14297\n",
       "top       TV host Bill Nye \"\"the Science Guy\"\" was arres...\n",
       "freq                                                   1132\n",
       "Name: reclamation_examinee, dtype: object"
      ]
     },
     "metadata": {},
     "output_type": "display_data"
    },
    {
     "name": "stdout",
     "output_type": "stream",
     "text": [
      "___________________\n",
      "date_examination\n"
     ]
    },
    {
     "data": {
      "text/plain": [
       "count          19598\n",
       "unique          4331\n",
       "top       2019-10-04\n",
       "freq            2267\n",
       "Name: date_examination, dtype: object"
      ]
     },
     "metadata": {},
     "output_type": "display_data"
    },
    {
     "name": "stdout",
     "output_type": "stream",
     "text": [
      "___________________\n",
      "source\n"
     ]
    },
    {
     "data": {
      "text/plain": [
       "count      20000\n",
       "unique         2\n",
       "top       snopes\n",
       "freq       18475\n",
       "Name: source, dtype: object"
      ]
     },
     "metadata": {},
     "output_type": "display_data"
    },
    {
     "name": "stdout",
     "output_type": "stream",
     "text": [
      "___________________\n",
      "lien\n"
     ]
    },
    {
     "data": {
      "text/plain": [
       "count                                                 20000\n",
       "unique                                                14336\n",
       "top       https://www.snopes.com/fact-check/babies-clima...\n",
       "freq                                                   1132\n",
       "Name: lien, dtype: object"
      ]
     },
     "metadata": {},
     "output_type": "display_data"
    },
    {
     "name": "stdout",
     "output_type": "stream",
     "text": [
      "___________________\n",
      "contenu\n"
     ]
    },
    {
     "data": {
      "text/plain": [
       "count                                                 19997\n",
       "unique                                                14317\n",
       "top       On Oct. 3, 2019, an image supposedly showing a...\n",
       "freq                                                   1132\n",
       "Name: contenu, dtype: object"
      ]
     },
     "metadata": {},
     "output_type": "display_data"
    },
    {
     "name": "stdout",
     "output_type": "stream",
     "text": [
      "___________________\n",
      "extra_contenu\n"
     ]
    },
    {
     "data": {
      "text/plain": [
       "count                                                 20000\n",
       "unique                                                14264\n",
       "top       [{\"id\" : 717037\",\"\"begin\": 90,\"end\": 114,\"enti...\n",
       "freq                                                   1132\n",
       "Name: extra_contenu, dtype: object"
      ]
     },
     "metadata": {},
     "output_type": "display_data"
    },
    {
     "name": "stdout",
     "output_type": "stream",
     "text": [
      "___________________\n",
      "extra_publication_examinée\n"
     ]
    },
    {
     "data": {
      "text/plain": [
       "count     20000\n",
       "unique     9806\n",
       "top          []\n",
       "freq       5420\n",
       "Name: extra_publication_examinée, dtype: object"
      ]
     },
     "metadata": {},
     "output_type": "display_data"
    },
    {
     "name": "stdout",
     "output_type": "stream",
     "text": [
      "___________________\n",
      "extra_mot_cle\n"
     ]
    },
    {
     "data": {
      "text/plain": [
       "count     20000\n",
       "unique     5039\n",
       "top          []\n",
       "freq      13516\n",
       "Name: extra_mot_cle, dtype: object"
      ]
     },
     "metadata": {},
     "output_type": "display_data"
    },
    {
     "name": "stdout",
     "output_type": "stream",
     "text": [
      "___________________\n",
      "extra_lien_reference\n"
     ]
    },
    {
     "data": {
      "text/plain": [
       "count                                                 18632\n",
       "unique                                                12875\n",
       "top       http://www.latinospost.com/articles/58418/2015...\n",
       "freq                                                   1132\n",
       "Name: extra_lien_reference, dtype: object"
      ]
     },
     "metadata": {},
     "output_type": "display_data"
    },
    {
     "name": "stdout",
     "output_type": "stream",
     "text": [
      "___________________\n",
      "extra_tags\n"
     ]
    },
    {
     "data": {
      "text/plain": [
       "count           14175\n",
       "unique           7187\n",
       "top       ASP Article\n",
       "freq             1511\n",
       "Name: extra_tags, dtype: object"
      ]
     },
     "metadata": {},
     "output_type": "display_data"
    },
    {
     "name": "stdout",
     "output_type": "stream",
     "text": [
      "___________________\n",
      "extra_titre\n"
     ]
    },
    {
     "data": {
      "text/plain": [
       "count                                                 20000\n",
       "unique                                                14279\n",
       "top       Did Monica Lewinsky Offer to ‘Take One For (th...\n",
       "freq                                                   1132\n",
       "Name: extra_titre, dtype: object"
      ]
     },
     "metadata": {},
     "output_type": "display_data"
    },
    {
     "name": "stdout",
     "output_type": "stream",
     "text": [
      "___________________\n",
      "note_nom_alternatif\n"
     ]
    },
    {
     "data": {
      "text/plain": [
       "count     19992\n",
       "unique      128\n",
       "top       False\n",
       "freq       7250\n",
       "Name: note_nom_alternatif, dtype: object"
      ]
     },
     "metadata": {},
     "output_type": "display_data"
    },
    {
     "name": "stdout",
     "output_type": "stream",
     "text": [
      "___________________\n"
     ]
    }
   ],
   "source": [
    "for column in df :\n",
    "    print(column)\n",
    "    display(df[column].describe())\n",
    "    print(\"___________________\")\n",
    "    "
   ]
  },
  {
   "cell_type": "code",
   "execution_count": 13,
   "metadata": {},
   "outputs": [],
   "source": [
    "df.drop_duplicates(subset=[\"lien_auteur\",\"contenu\"],keep='first', inplace=True)"
   ]
  },
  {
   "cell_type": "code",
   "execution_count": 14,
   "metadata": {
    "scrolled": true
   },
   "outputs": [
    {
     "name": "stdout",
     "output_type": "stream",
     "text": [
      "id\n"
     ]
    },
    {
     "data": {
      "text/plain": [
       "count    14318.000000\n",
       "mean      8287.070610\n",
       "std       5687.421288\n",
       "min          0.000000\n",
       "25%       2911.250000\n",
       "50%       7990.500000\n",
       "75%      13291.750000\n",
       "max      18454.000000\n",
       "Name: id, dtype: float64"
      ]
     },
     "metadata": {},
     "output_type": "display_data"
    },
    {
     "name": "stdout",
     "output_type": "stream",
     "text": [
      "___________________\n",
      "lien_auteur\n"
     ]
    },
    {
     "data": {
      "text/plain": [
       "count      14318\n",
       "unique         2\n",
       "top       snopes\n",
       "freq       12796\n",
       "Name: lien_auteur, dtype: object"
      ]
     },
     "metadata": {},
     "output_type": "display_data"
    },
    {
     "name": "stdout",
     "output_type": "stream",
     "text": [
      "___________________\n",
      "reclamation_examinee\n"
     ]
    },
    {
     "data": {
      "text/plain": [
       "count                                                 14318\n",
       "unique                                                14295\n",
       "top       The Allman Brothers Band’s album title Eat a P...\n",
       "freq                                                      3\n",
       "Name: reclamation_examinee, dtype: object"
      ]
     },
     "metadata": {},
     "output_type": "display_data"
    },
    {
     "name": "stdout",
     "output_type": "stream",
     "text": [
      "___________________\n",
      "date_examination\n"
     ]
    },
    {
     "data": {
      "text/plain": [
       "count          13917\n",
       "unique          4331\n",
       "top       2019-10-11\n",
       "freq             156\n",
       "Name: date_examination, dtype: object"
      ]
     },
     "metadata": {},
     "output_type": "display_data"
    },
    {
     "name": "stdout",
     "output_type": "stream",
     "text": [
      "___________________\n",
      "source\n"
     ]
    },
    {
     "data": {
      "text/plain": [
       "count      14318\n",
       "unique         2\n",
       "top       snopes\n",
       "freq       12796\n",
       "Name: source, dtype: object"
      ]
     },
     "metadata": {},
     "output_type": "display_data"
    },
    {
     "name": "stdout",
     "output_type": "stream",
     "text": [
      "___________________\n",
      "lien\n"
     ]
    },
    {
     "data": {
      "text/plain": [
       "count                                                 14318\n",
       "unique                                                14318\n",
       "top       https://www.snopes.com/fact-check/after-school...\n",
       "freq                                                      1\n",
       "Name: lien, dtype: object"
      ]
     },
     "metadata": {},
     "output_type": "display_data"
    },
    {
     "name": "stdout",
     "output_type": "stream",
     "text": [
      "___________________\n",
      "contenu\n"
     ]
    },
    {
     "data": {
      "text/plain": [
       "count                                                 14317\n",
       "unique                                                14317\n",
       "top       In the wake of revelations that President Dona...\n",
       "freq                                                      1\n",
       "Name: contenu, dtype: object"
      ]
     },
     "metadata": {},
     "output_type": "display_data"
    },
    {
     "name": "stdout",
     "output_type": "stream",
     "text": [
      "___________________\n",
      "extra_contenu\n"
     ]
    },
    {
     "data": {
      "text/plain": [
       "count     14318\n",
       "unique    14264\n",
       "top          []\n",
       "freq         54\n",
       "Name: extra_contenu, dtype: object"
      ]
     },
     "metadata": {},
     "output_type": "display_data"
    },
    {
     "name": "stdout",
     "output_type": "stream",
     "text": [
      "___________________\n",
      "extra_publication_examinée\n"
     ]
    },
    {
     "data": {
      "text/plain": [
       "count     14318\n",
       "unique     9804\n",
       "top          []\n",
       "freq       4284\n",
       "Name: extra_publication_examinée, dtype: object"
      ]
     },
     "metadata": {},
     "output_type": "display_data"
    },
    {
     "name": "stdout",
     "output_type": "stream",
     "text": [
      "___________________\n",
      "extra_mot_cle\n"
     ]
    },
    {
     "data": {
      "text/plain": [
       "count     14318\n",
       "unique     5038\n",
       "top          []\n",
       "freq       7842\n",
       "Name: extra_mot_cle, dtype: object"
      ]
     },
     "metadata": {},
     "output_type": "display_data"
    },
    {
     "name": "stdout",
     "output_type": "stream",
     "text": [
      "___________________\n",
      "extra_lien_reference\n"
     ]
    },
    {
     "data": {
      "text/plain": [
       "count                            12955\n",
       "unique                           12875\n",
       "top       /sources/language/oxford.htm\n",
       "freq                                 8\n",
       "Name: extra_lien_reference, dtype: object"
      ]
     },
     "metadata": {},
     "output_type": "display_data"
    },
    {
     "name": "stdout",
     "output_type": "stream",
     "text": [
      "___________________\n",
      "extra_tags\n"
     ]
    },
    {
     "data": {
      "text/plain": [
       "count           13020\n",
       "unique           7186\n",
       "top       ASP Article\n",
       "freq             1503\n",
       "Name: extra_tags, dtype: object"
      ]
     },
     "metadata": {},
     "output_type": "display_data"
    },
    {
     "name": "stdout",
     "output_type": "stream",
     "text": [
      "___________________\n",
      "extra_titre\n"
     ]
    },
    {
     "data": {
      "text/plain": [
       "count                       14318\n",
       "unique                      14276\n",
       "top       Adam Sandler Death Hoax\n",
       "freq                            3\n",
       "Name: extra_titre, dtype: object"
      ]
     },
     "metadata": {},
     "output_type": "display_data"
    },
    {
     "name": "stdout",
     "output_type": "stream",
     "text": [
      "___________________\n",
      "note_nom_alternatif\n"
     ]
    },
    {
     "data": {
      "text/plain": [
       "count     14311\n",
       "unique      128\n",
       "top       False\n",
       "freq       4979\n",
       "Name: note_nom_alternatif, dtype: object"
      ]
     },
     "metadata": {},
     "output_type": "display_data"
    },
    {
     "name": "stdout",
     "output_type": "stream",
     "text": [
      "___________________\n"
     ]
    }
   ],
   "source": [
    "for column in df :\n",
    "    print(column)\n",
    "    display(df[column].describe())\n",
    "    print(\"___________________\")"
   ]
  },
  {
   "cell_type": "code",
   "execution_count": 15,
   "metadata": {},
   "outputs": [
    {
     "data": {
      "text/html": [
       "<div>\n",
       "<style scoped>\n",
       "    .dataframe tbody tr th:only-of-type {\n",
       "        vertical-align: middle;\n",
       "    }\n",
       "\n",
       "    .dataframe tbody tr th {\n",
       "        vertical-align: top;\n",
       "    }\n",
       "\n",
       "    .dataframe thead th {\n",
       "        text-align: right;\n",
       "    }\n",
       "</style>\n",
       "<table border=\"1\" class=\"dataframe\">\n",
       "  <thead>\n",
       "    <tr style=\"text-align: right;\">\n",
       "      <th></th>\n",
       "      <th>id</th>\n",
       "      <th>lien_auteur</th>\n",
       "      <th>reclamation_examinee</th>\n",
       "      <th>date_examination</th>\n",
       "      <th>source</th>\n",
       "      <th>lien</th>\n",
       "      <th>contenu</th>\n",
       "      <th>extra_contenu</th>\n",
       "      <th>extra_publication_examinée</th>\n",
       "      <th>extra_mot_cle</th>\n",
       "      <th>extra_lien_reference</th>\n",
       "      <th>extra_tags</th>\n",
       "      <th>extra_titre</th>\n",
       "      <th>note_nom_alternatif</th>\n",
       "    </tr>\n",
       "  </thead>\n",
       "  <tbody>\n",
       "    <tr>\n",
       "      <th>1594</th>\n",
       "      <td>16594</td>\n",
       "      <td>snopes</td>\n",
       "      <td>Voters with outstanding warrants or unpaid tra...</td>\n",
       "      <td>2008-10-05</td>\n",
       "      <td>snopes</td>\n",
       "      <td>https://www.snopes.com/fact-check/warrant-offi...</td>\n",
       "      <td>Claim:   Voters with outstanding warrants or u...</td>\n",
       "      <td>[{\"id\" : 17727\",\"\"begin\": 207,\"end\": 219,\"enti...</td>\n",
       "      <td>[]</td>\n",
       "      <td>[]</td>\n",
       "      <td>/politics/humor/voting.asp</td>\n",
       "      <td>ASP Article</td>\n",
       "      <td>Police Arresting Voters with Outstanding Warrants</td>\n",
       "      <td>False</td>\n",
       "    </tr>\n",
       "    <tr>\n",
       "      <th>840</th>\n",
       "      <td>840</td>\n",
       "      <td>snopes</td>\n",
       "      <td>In 2019, Brunei confirmed their intention to i...</td>\n",
       "      <td>2019-04-03</td>\n",
       "      <td>snopes</td>\n",
       "      <td>https://www.snopes.com/fact-check/brunei-stoni...</td>\n",
       "      <td>In the spring of 2019, reports emerged claimin...</td>\n",
       "      <td>[{\"id\" : 3466\",\"\"begin\": 70,\"end\": 76,\"entity\"...</td>\n",
       "      <td>[{\"id\" : 3466\",\"\"begin\": 8,\"end\": 14,\"entity\":...</td>\n",
       "      <td>[]</td>\n",
       "      <td>http://archive.is/VRjd9,https://twitter.com/ha...</td>\n",
       "      <td>NaN</td>\n",
       "      <td>Did Brunei Announce a Law to Punish ‘Gay Sex’ ...</td>\n",
       "      <td>True</td>\n",
       "    </tr>\n",
       "    <tr>\n",
       "      <th>4251</th>\n",
       "      <td>4251</td>\n",
       "      <td>snopes</td>\n",
       "      <td>A photograph shows a 30-foot wave from Hurrica...</td>\n",
       "      <td>2017-09-19</td>\n",
       "      <td>snopes</td>\n",
       "      <td>https://www.snopes.com/fact-check/hurricane-jo...</td>\n",
       "      <td>A photograph purportedly showing a 30-foot wav...</td>\n",
       "      <td>[{\"id\" : 127861\",\"\"begin\": 83,\"end\": 107,\"enti...</td>\n",
       "      <td>[{\"id\" : 55180779\",\"\"begin\": 38,\"end\": 52,\"ent...</td>\n",
       "      <td>[{\"id\" : 55180779\",\"\"begin\": 12,\"end\": 26,\"ent...</td>\n",
       "      <td>https://www.reddit.com/r/thalassophobia/commen...</td>\n",
       "      <td>fake photos, hurricane jose, jennette's pier, ...</td>\n",
       "      <td>Hurricane Jose Causes 30-Foot Waves At Jennett...</td>\n",
       "      <td>False</td>\n",
       "    </tr>\n",
       "    <tr>\n",
       "      <th>4467</th>\n",
       "      <td>4467</td>\n",
       "      <td>snopes</td>\n",
       "      <td>Green Bay Packers coach Mike McCarthy put some...</td>\n",
       "      <td>2017-08-23</td>\n",
       "      <td>snopes</td>\n",
       "      <td>https://www.snopes.com/fact-check/green-bay-co...</td>\n",
       "      <td>In mid-August 2017, the disreputable web site ...</td>\n",
       "      <td>[{\"id\" : 41271012\",\"\"begin\": 85,\"end\": 94,\"ent...</td>\n",
       "      <td>[{\"id\" : 12663\",\"\"begin\": 0,\"end\": 17,\"entity\"...</td>\n",
       "      <td>[{\"id\" : 44751865\",\"\"begin\": 0,\"end\": 18,\"enti...</td>\n",
       "      <td>https://archive.is/R4ifE,https://www.cbssports...</td>\n",
       "      <td>black lives matter, colin kaepernick, freedom ...</td>\n",
       "      <td>Did the Green Bay Packers Coach Just ‘Piss Off...</td>\n",
       "      <td>False</td>\n",
       "    </tr>\n",
       "    <tr>\n",
       "      <th>4906</th>\n",
       "      <td>1431</td>\n",
       "      <td>politifact</td>\n",
       "      <td>\"\"The national debt is equal to $48,700 for ev...</td>\n",
       "      <td>2019-10-11</td>\n",
       "      <td>politifact</td>\n",
       "      <td>http://www.politifact.com/virginia/statements/...</td>\n",
       "      <td>U.S. Rep. Randy Forbes is sounding the alarm o...</td>\n",
       "      <td>[{\"id\" : 7866895\",\"\"begin\": 7,\"end\": 19,\"entit...</td>\n",
       "      <td>[]</td>\n",
       "      <td>[]</td>\n",
       "      <td>NaN</td>\n",
       "      <td>Deficit</td>\n",
       "      <td>Rep. Randy Forbes says national debt comes to ...</td>\n",
       "      <td>True</td>\n",
       "    </tr>\n",
       "  </tbody>\n",
       "</table>\n",
       "</div>"
      ],
      "text/plain": [
       "         id lien_auteur                               reclamation_examinee  \\\n",
       "1594  16594      snopes  Voters with outstanding warrants or unpaid tra...   \n",
       "840     840      snopes  In 2019, Brunei confirmed their intention to i...   \n",
       "4251   4251      snopes  A photograph shows a 30-foot wave from Hurrica...   \n",
       "4467   4467      snopes  Green Bay Packers coach Mike McCarthy put some...   \n",
       "4906   1431  politifact  \"\"The national debt is equal to $48,700 for ev...   \n",
       "\n",
       "     date_examination      source  \\\n",
       "1594       2008-10-05      snopes   \n",
       "840        2019-04-03      snopes   \n",
       "4251       2017-09-19      snopes   \n",
       "4467       2017-08-23      snopes   \n",
       "4906       2019-10-11  politifact   \n",
       "\n",
       "                                                   lien  \\\n",
       "1594  https://www.snopes.com/fact-check/warrant-offi...   \n",
       "840   https://www.snopes.com/fact-check/brunei-stoni...   \n",
       "4251  https://www.snopes.com/fact-check/hurricane-jo...   \n",
       "4467  https://www.snopes.com/fact-check/green-bay-co...   \n",
       "4906  http://www.politifact.com/virginia/statements/...   \n",
       "\n",
       "                                                contenu  \\\n",
       "1594  Claim:   Voters with outstanding warrants or u...   \n",
       "840   In the spring of 2019, reports emerged claimin...   \n",
       "4251  A photograph purportedly showing a 30-foot wav...   \n",
       "4467  In mid-August 2017, the disreputable web site ...   \n",
       "4906  U.S. Rep. Randy Forbes is sounding the alarm o...   \n",
       "\n",
       "                                          extra_contenu  \\\n",
       "1594  [{\"id\" : 17727\",\"\"begin\": 207,\"end\": 219,\"enti...   \n",
       "840   [{\"id\" : 3466\",\"\"begin\": 70,\"end\": 76,\"entity\"...   \n",
       "4251  [{\"id\" : 127861\",\"\"begin\": 83,\"end\": 107,\"enti...   \n",
       "4467  [{\"id\" : 41271012\",\"\"begin\": 85,\"end\": 94,\"ent...   \n",
       "4906  [{\"id\" : 7866895\",\"\"begin\": 7,\"end\": 19,\"entit...   \n",
       "\n",
       "                             extra_publication_examinée  \\\n",
       "1594                                                 []   \n",
       "840   [{\"id\" : 3466\",\"\"begin\": 8,\"end\": 14,\"entity\":...   \n",
       "4251  [{\"id\" : 55180779\",\"\"begin\": 38,\"end\": 52,\"ent...   \n",
       "4467  [{\"id\" : 12663\",\"\"begin\": 0,\"end\": 17,\"entity\"...   \n",
       "4906                                                 []   \n",
       "\n",
       "                                          extra_mot_cle  \\\n",
       "1594                                                 []   \n",
       "840                                                  []   \n",
       "4251  [{\"id\" : 55180779\",\"\"begin\": 12,\"end\": 26,\"ent...   \n",
       "4467  [{\"id\" : 44751865\",\"\"begin\": 0,\"end\": 18,\"enti...   \n",
       "4906                                                 []   \n",
       "\n",
       "                                   extra_lien_reference  \\\n",
       "1594                         /politics/humor/voting.asp   \n",
       "840   http://archive.is/VRjd9,https://twitter.com/ha...   \n",
       "4251  https://www.reddit.com/r/thalassophobia/commen...   \n",
       "4467  https://archive.is/R4ifE,https://www.cbssports...   \n",
       "4906                                                NaN   \n",
       "\n",
       "                                             extra_tags  \\\n",
       "1594                                        ASP Article   \n",
       "840                                                 NaN   \n",
       "4251  fake photos, hurricane jose, jennette's pier, ...   \n",
       "4467  black lives matter, colin kaepernick, freedom ...   \n",
       "4906                                            Deficit   \n",
       "\n",
       "                                            extra_titre note_nom_alternatif  \n",
       "1594  Police Arresting Voters with Outstanding Warrants               False  \n",
       "840   Did Brunei Announce a Law to Punish ‘Gay Sex’ ...                True  \n",
       "4251  Hurricane Jose Causes 30-Foot Waves At Jennett...               False  \n",
       "4467  Did the Green Bay Packers Coach Just ‘Piss Off...               False  \n",
       "4906  Rep. Randy Forbes says national debt comes to ...                True  "
      ]
     },
     "metadata": {},
     "output_type": "display_data"
    }
   ],
   "source": [
    "display(df.sample(5))"
   ]
  },
  {
   "cell_type": "code",
   "execution_count": 16,
   "metadata": {
    "scrolled": true
   },
   "outputs": [],
   "source": [
    "pd.options.display.max_colwidth = 100\n"
   ]
  },
  {
   "cell_type": "code",
   "execution_count": 17,
   "metadata": {},
   "outputs": [],
   "source": [
    "df = df.drop([\"extra_contenu\",\"extra_publication_examinée\",\"extra_mot_cle\"], axis=1)"
   ]
  },
  {
   "cell_type": "code",
   "execution_count": 18,
   "metadata": {},
   "outputs": [
    {
     "data": {
      "text/html": [
       "<div>\n",
       "<style scoped>\n",
       "    .dataframe tbody tr th:only-of-type {\n",
       "        vertical-align: middle;\n",
       "    }\n",
       "\n",
       "    .dataframe tbody tr th {\n",
       "        vertical-align: top;\n",
       "    }\n",
       "\n",
       "    .dataframe thead th {\n",
       "        text-align: right;\n",
       "    }\n",
       "</style>\n",
       "<table border=\"1\" class=\"dataframe\">\n",
       "  <thead>\n",
       "    <tr style=\"text-align: right;\">\n",
       "      <th></th>\n",
       "      <th>id</th>\n",
       "      <th>lien_auteur</th>\n",
       "      <th>reclamation_examinee</th>\n",
       "      <th>date_examination</th>\n",
       "      <th>source</th>\n",
       "      <th>lien</th>\n",
       "      <th>contenu</th>\n",
       "      <th>extra_lien_reference</th>\n",
       "      <th>extra_tags</th>\n",
       "      <th>extra_titre</th>\n",
       "      <th>note_nom_alternatif</th>\n",
       "    </tr>\n",
       "  </thead>\n",
       "  <tbody>\n",
       "    <tr>\n",
       "      <th>3184</th>\n",
       "      <td>13184</td>\n",
       "      <td>snopes</td>\n",
       "      <td>In 1941, newsman Edward R. Murrow penned a piece about the need for restraint in the U.S. respon...</td>\n",
       "      <td>2013-05-31</td>\n",
       "      <td>snopes</td>\n",
       "      <td>https://www.snopes.com/fact-check/what-if/</td>\n",
       "      <td>Claim:   In 1941, newsman Edward R. Murrow penned a piece about the need for restraint in the U....</td>\n",
       "      <td>http://www.otr.com/murrow.html,http://www.nationalreview.com/hanson/hanson092701.shtml</td>\n",
       "      <td>ASP Article, controversy</td>\n",
       "      <td>Edward R. Murrow on Restraint</td>\n",
       "      <td>FALSE</td>\n",
       "    </tr>\n",
       "    <tr>\n",
       "      <th>2945</th>\n",
       "      <td>2945</td>\n",
       "      <td>snopes</td>\n",
       "      <td>Tilapia is a boneless, skinless, \"\"mutant\"\" fish that is full of cancer-causing dioxins, is wors...</td>\n",
       "      <td>2018-04-12</td>\n",
       "      <td>snopes</td>\n",
       "      <td>https://www.snopes.com/fact-check/tilapia-mutant-fish/</td>\n",
       "      <td>“Tilapia” is the market name of a variety of mild-flavored, inexpensive freshwater fish species ...</td>\n",
       "      <td>https://www.seafoodhealthfacts.org/description-top-commercial-seafood-items/tilapia,https://www....</td>\n",
       "      <td>bad science memes, fish, tilapia</td>\n",
       "      <td>Is Tilapia a Boneless, Skinless ‘Mutant’ Fish That Is Unsafe to Eat?</td>\n",
       "      <td>Mostly False</td>\n",
       "    </tr>\n",
       "    <tr>\n",
       "      <th>2739</th>\n",
       "      <td>12739</td>\n",
       "      <td>snopes</td>\n",
       "      <td>A 5-year-old girl named Nijaey Hilton is missing from her New York home.</td>\n",
       "      <td>2013-12-06</td>\n",
       "      <td>snopes</td>\n",
       "      <td>https://www.snopes.com/fact-check/nijaey-hilton/</td>\n",
       "      <td>Claim:   A 5-year-old girl named Nijaey Hilton is missing from her New York home.Claim:Claim:OUT...</td>\n",
       "      <td>NaN</td>\n",
       "      <td>ASP Article</td>\n",
       "      <td>Missing Person: Nijaey Hilton</td>\n",
       "      <td>OUTDATED</td>\n",
       "    </tr>\n",
       "    <tr>\n",
       "      <th>104</th>\n",
       "      <td>10104</td>\n",
       "      <td>snopes</td>\n",
       "      <td>The \"\"giant head\"\" moai statues on Easter Island actually have bodies as well.</td>\n",
       "      <td>2012-05-12</td>\n",
       "      <td>snopes</td>\n",
       "      <td>https://www.snopes.com/fact-check/head-case/</td>\n",
       "      <td>The 887 monolithic human figures carved from rock on Easter Island (known as moai) are familiar ...</td>\n",
       "      <td>http://upload.wikimedia.org/wikipedia/commons/a/a2/Moai_Rano_raraku.jpg,http://www.dailymail.co....</td>\n",
       "      <td>archaeology, stephanie cegielski</td>\n",
       "      <td>Do Easter Island Heads Have Bodies?</td>\n",
       "      <td>True</td>\n",
       "    </tr>\n",
       "    <tr>\n",
       "      <th>2924</th>\n",
       "      <td>2924</td>\n",
       "      <td>snopes</td>\n",
       "      <td>In a leaked e-mail, Hillary Clinton said \"\"we must destroy Syria for Israel.\"\"</td>\n",
       "      <td>2018-04-16</td>\n",
       "      <td>snopes</td>\n",
       "      <td>https://www.snopes.com/fact-check/did-clinton-say-syria-israel-leaked-e-mail/</td>\n",
       "      <td>Following controversial airstrikes on Syria in April 2018, a 2017 article published by repeat of...</td>\n",
       "      <td>https://www.cnn.com/2018/04/15/middleeast/syria-us-uk-french-airstrikes-npw-analysis-intl/index....</td>\n",
       "      <td>clinton e-mail controversy, hillary clinton, israel, Syria, wikileaks</td>\n",
       "      <td>Did Hillary Clinton Say ‘We Must Destroy Syria for Israel’ in a Leaked E-Mail?</td>\n",
       "      <td>False</td>\n",
       "    </tr>\n",
       "  </tbody>\n",
       "</table>\n",
       "</div>"
      ],
      "text/plain": [
       "         id lien_auteur  \\\n",
       "3184  13184      snopes   \n",
       "2945   2945      snopes   \n",
       "2739  12739      snopes   \n",
       "104   10104      snopes   \n",
       "2924   2924      snopes   \n",
       "\n",
       "                                                                                     reclamation_examinee  \\\n",
       "3184  In 1941, newsman Edward R. Murrow penned a piece about the need for restraint in the U.S. respon...   \n",
       "2945  Tilapia is a boneless, skinless, \"\"mutant\"\" fish that is full of cancer-causing dioxins, is wors...   \n",
       "2739                             A 5-year-old girl named Nijaey Hilton is missing from her New York home.   \n",
       "104                        The \"\"giant head\"\" moai statues on Easter Island actually have bodies as well.   \n",
       "2924                       In a leaked e-mail, Hillary Clinton said \"\"we must destroy Syria for Israel.\"\"   \n",
       "\n",
       "     date_examination  source  \\\n",
       "3184       2013-05-31  snopes   \n",
       "2945       2018-04-12  snopes   \n",
       "2739       2013-12-06  snopes   \n",
       "104        2012-05-12  snopes   \n",
       "2924       2018-04-16  snopes   \n",
       "\n",
       "                                                                               lien  \\\n",
       "3184                                     https://www.snopes.com/fact-check/what-if/   \n",
       "2945                         https://www.snopes.com/fact-check/tilapia-mutant-fish/   \n",
       "2739                               https://www.snopes.com/fact-check/nijaey-hilton/   \n",
       "104                                    https://www.snopes.com/fact-check/head-case/   \n",
       "2924  https://www.snopes.com/fact-check/did-clinton-say-syria-israel-leaked-e-mail/   \n",
       "\n",
       "                                                                                                  contenu  \\\n",
       "3184  Claim:   In 1941, newsman Edward R. Murrow penned a piece about the need for restraint in the U....   \n",
       "2945  “Tilapia” is the market name of a variety of mild-flavored, inexpensive freshwater fish species ...   \n",
       "2739  Claim:   A 5-year-old girl named Nijaey Hilton is missing from her New York home.Claim:Claim:OUT...   \n",
       "104   The 887 monolithic human figures carved from rock on Easter Island (known as moai) are familiar ...   \n",
       "2924  Following controversial airstrikes on Syria in April 2018, a 2017 article published by repeat of...   \n",
       "\n",
       "                                                                                     extra_lien_reference  \\\n",
       "3184               http://www.otr.com/murrow.html,http://www.nationalreview.com/hanson/hanson092701.shtml   \n",
       "2945  https://www.seafoodhealthfacts.org/description-top-commercial-seafood-items/tilapia,https://www....   \n",
       "2739                                                                                                  NaN   \n",
       "104   http://upload.wikimedia.org/wikipedia/commons/a/a2/Moai_Rano_raraku.jpg,http://www.dailymail.co....   \n",
       "2924  https://www.cnn.com/2018/04/15/middleeast/syria-us-uk-french-airstrikes-npw-analysis-intl/index....   \n",
       "\n",
       "                                                                 extra_tags  \\\n",
       "3184                                               ASP Article, controversy   \n",
       "2945                                       bad science memes, fish, tilapia   \n",
       "2739                                                            ASP Article   \n",
       "104                                        archaeology, stephanie cegielski   \n",
       "2924  clinton e-mail controversy, hillary clinton, israel, Syria, wikileaks   \n",
       "\n",
       "                                                                         extra_titre  \\\n",
       "3184                                                   Edward R. Murrow on Restraint   \n",
       "2945            Is Tilapia a Boneless, Skinless ‘Mutant’ Fish That Is Unsafe to Eat?   \n",
       "2739                                                   Missing Person: Nijaey Hilton   \n",
       "104                                              Do Easter Island Heads Have Bodies?   \n",
       "2924  Did Hillary Clinton Say ‘We Must Destroy Syria for Israel’ in a Leaked E-Mail?   \n",
       "\n",
       "     note_nom_alternatif  \n",
       "3184               FALSE  \n",
       "2945        Mostly False  \n",
       "2739            OUTDATED  \n",
       "104                 True  \n",
       "2924               False  "
      ]
     },
     "metadata": {},
     "output_type": "display_data"
    }
   ],
   "source": [
    "display(df.sample(5))"
   ]
  },
  {
   "cell_type": "code",
   "execution_count": 28,
   "metadata": {},
   "outputs": [
    {
     "data": {
      "text/plain": [
       "<matplotlib.axes._subplots.AxesSubplot at 0x1af64760>"
      ]
     },
     "execution_count": 28,
     "metadata": {},
     "output_type": "execute_result"
    },
    {
     "data": {
      "image/png": "[encoded data removed]",
      "text/plain": [
       "<Figure size 432x288 with 1 Axes>"
      ]
     },
     "metadata": {
      "needs_background": "light"
     },
     "output_type": "display_data"
    }
   ],
   "source": [
    "sns.countplot(x='note_nom_alternatif', data=df)"
   ]
  },
  {
   "cell_type": "code",
   "execution_count": 29,
   "metadata": {},
   "outputs": [
    {
     "name": "stderr",
     "output_type": "stream",
     "text": [
      "d:\\docs\\cours\\m1\\hmin232\\env\\lib\\site-packages\\seaborn\\categorical.py:3666: UserWarning: The `factorplot` function has been renamed to `catplot`. The original name will be removed in a future release. Please update your code. Note that the default `kind` in `factorplot` (`'point'`) has changed `'strip'` in `catplot`.\n",
      "  warnings.warn(msg)\n"
     ]
    },
    {
     "data": {
      "text/plain": [
       "<seaborn.axisgrid.FacetGrid at 0x1b057c28>"
      ]
     },
     "execution_count": 29,
     "metadata": {},
     "output_type": "execute_result"
    },
    {
     "data": {
      "image/png": "[encoded data removed]",
      "text/plain": [
       "<Figure size 720x360 with 2 Axes>"
      ]
     },
     "metadata": {
      "needs_background": "light"
     },
     "output_type": "display_data"
    }
   ],
   "source": [
    "sns.factorplot(x='note_nom_alternatif', col='source', kind='count', data=df)"
   ]
  },
  {
   "cell_type": "code",
   "execution_count": 30,
   "metadata": {},
   "outputs": [
    {
     "data": {
      "text/plain": [
       "<seaborn.axisgrid.FacetGrid at 0x139931a8>"
      ]
     },
     "execution_count": 30,
     "metadata": {},
     "output_type": "execute_result"
    },
    {
     "data": {
      "image/png": "[encoded data removed]",
      "text/plain": [
       "<Figure size 720x360 with 2 Axes>"
      ]
     },
     "metadata": {
      "needs_background": "light"
     },
     "output_type": "display_data"
    }
   ],
   "source": [
    "sns.factorplot(x='note_nom_alternatif', col='lien_auteur', kind='count', data=df)"
   ]
  },
  {
   "cell_type": "code",
   "execution_count": 25,
   "metadata": {},
   "outputs": [],
   "source": [
    "def toLower(mot) :\n",
    "    return str(mot).lower()"
   ]
  },
  {
   "cell_type": "code",
   "execution_count": 26,
   "metadata": {},
   "outputs": [],
   "source": [
    "df[\"note_nom_alternatif\"] = df[\"note_nom_alternatif\"].apply(toLower)"
   ]
  },
  {
   "cell_type": "code",
   "execution_count": 27,
   "metadata": {},
   "outputs": [
    {
     "data": {
      "text/html": [
       "<div>\n",
       "<style scoped>\n",
       "    .dataframe tbody tr th:only-of-type {\n",
       "        vertical-align: middle;\n",
       "    }\n",
       "\n",
       "    .dataframe tbody tr th {\n",
       "        vertical-align: top;\n",
       "    }\n",
       "\n",
       "    .dataframe thead th {\n",
       "        text-align: right;\n",
       "    }\n",
       "</style>\n",
       "<table border=\"1\" class=\"dataframe\">\n",
       "  <thead>\n",
       "    <tr style=\"text-align: right;\">\n",
       "      <th></th>\n",
       "      <th>id</th>\n",
       "      <th>lien_auteur</th>\n",
       "      <th>reclamation_examinee</th>\n",
       "      <th>date_examination</th>\n",
       "      <th>source</th>\n",
       "      <th>lien</th>\n",
       "      <th>contenu</th>\n",
       "      <th>extra_lien_reference</th>\n",
       "      <th>extra_tags</th>\n",
       "      <th>extra_titre</th>\n",
       "      <th>note_nom_alternatif</th>\n",
       "    </tr>\n",
       "  </thead>\n",
       "  <tbody>\n",
       "    <tr>\n",
       "      <th>922</th>\n",
       "      <td>5922</td>\n",
       "      <td>snopes</td>\n",
       "      <td>The state of California ignored structural issues with the Oroville dam and paid for programs to...</td>\n",
       "      <td>2017-02-16</td>\n",
       "      <td>snopes</td>\n",
       "      <td>https://www.snopes.com/fact-check/california-divert-dam-repair-funds/</td>\n",
       "      <td>On 15 February 2017, the web site ConservativeDailyPost.com published an inaccurate story bearin...</td>\n",
       "      <td>http://www.fairus.org/DocServer/research-pub/CaliforniaCostStudy_2014-v3.pdf,https://www.snopes....</td>\n",
       "      <td>california, disasters, flooding, undocumented immigrants</td>\n",
       "      <td>Did California Divert Dam Repair Funds to Programs for ‘Illegals’?</td>\n",
       "      <td>mostly false</td>\n",
       "    </tr>\n",
       "    <tr>\n",
       "      <th>3602</th>\n",
       "      <td>13602</td>\n",
       "      <td>snopes</td>\n",
       "      <td>A cyber-security bill passed by Congress will violate constitutional protections.</td>\n",
       "      <td>2013-04-22</td>\n",
       "      <td>snopes</td>\n",
       "      <td>https://www.snopes.com/fact-check/cispa/</td>\n",
       "      <td>Claim:   A cyber-security bill passed by Congress will violate constitutional protections.Claim:...</td>\n",
       "      <td>http://democrats.intelligence.house.gov/sites/democrats.intelligence.house.gov/files/documents/C...</td>\n",
       "      <td>ASP Article, Audi R8</td>\n",
       "      <td>Cyber Intelligence Sharing and Protection Act (CISPA).</td>\n",
       "      <td>mixture</td>\n",
       "    </tr>\n",
       "    <tr>\n",
       "      <th>1803</th>\n",
       "      <td>1803</td>\n",
       "      <td>snopes</td>\n",
       "      <td>Laws in some areas limit trick-or-treating to children 12 and younger.</td>\n",
       "      <td>2018-10-11</td>\n",
       "      <td>snopes</td>\n",
       "      <td>https://www.snopes.com/fact-check/trick-or-treat-age-limit/</td>\n",
       "      <td>One of the common elements of the Halloween night trick-or-treat tradition is adults’ grumbling ...</td>\n",
       "      <td>https://library.municode.com/va/chesapeake/codes/code_of_ordinances?nodeId=PTIICOOR_CH46OFMIPR_A...</td>\n",
       "      <td>halloween</td>\n",
       "      <td>Does a Municipal Code Limit Trick-or-Treating to Children 12 and Younger?</td>\n",
       "      <td>mixture</td>\n",
       "    </tr>\n",
       "    <tr>\n",
       "      <th>2365</th>\n",
       "      <td>7365</td>\n",
       "      <td>snopes</td>\n",
       "      <td>Officials at Ramapo College forced students to change an \"\"offensive\"\" patriotic barbecue event.</td>\n",
       "      <td>2016-09-23</td>\n",
       "      <td>snopes</td>\n",
       "      <td>https://www.snopes.com/fact-check/college-threatened-to-cancel-offensive-america-themed-bbq-event/</td>\n",
       "      <td>On 20 September 2016, a college-themed publication called Campus Reform published a story report...</td>\n",
       "      <td>http://www.campusreform.org/?ID=8153,https://www.facebook.com/RamapoCollege/posts/10154050598029426</td>\n",
       "      <td>college, education, fake outrage, patriotism</td>\n",
       "      <td>College Threatened to Cancel ‘Offensive’ America-Themed BBQ Event?</td>\n",
       "      <td>unproven</td>\n",
       "    </tr>\n",
       "    <tr>\n",
       "      <th>387</th>\n",
       "      <td>10387</td>\n",
       "      <td>snopes</td>\n",
       "      <td>Artesa Vineyards and Winery is planning to cut down 154 acres of California Redwoods in order to...</td>\n",
       "      <td>2015-04-28</td>\n",
       "      <td>snopes</td>\n",
       "      <td>https://www.snopes.com/fact-check/redwood-whinery/</td>\n",
       "      <td>Claim:   Artesa Vineyards and Winery is planning to cut down 154 acres of California Redwoods in...</td>\n",
       "      <td>http://www.winespectator.com/webfeature/show/id/49378,http://www.winespectator.com/webfeature/sh...</td>\n",
       "      <td>ASP Article</td>\n",
       "      <td>Spanish Winemaker Obtains Permission to Cut Down 154 Acres of California Redwoods</td>\n",
       "      <td>outdated</td>\n",
       "    </tr>\n",
       "  </tbody>\n",
       "</table>\n",
       "</div>"
      ],
      "text/plain": [
       "         id lien_auteur  \\\n",
       "922    5922      snopes   \n",
       "3602  13602      snopes   \n",
       "1803   1803      snopes   \n",
       "2365   7365      snopes   \n",
       "387   10387      snopes   \n",
       "\n",
       "                                                                                     reclamation_examinee  \\\n",
       "922   The state of California ignored structural issues with the Oroville dam and paid for programs to...   \n",
       "3602                    A cyber-security bill passed by Congress will violate constitutional protections.   \n",
       "1803                               Laws in some areas limit trick-or-treating to children 12 and younger.   \n",
       "2365     Officials at Ramapo College forced students to change an \"\"offensive\"\" patriotic barbecue event.   \n",
       "387   Artesa Vineyards and Winery is planning to cut down 154 acres of California Redwoods in order to...   \n",
       "\n",
       "     date_examination  source  \\\n",
       "922        2017-02-16  snopes   \n",
       "3602       2013-04-22  snopes   \n",
       "1803       2018-10-11  snopes   \n",
       "2365       2016-09-23  snopes   \n",
       "387        2015-04-28  snopes   \n",
       "\n",
       "                                                                                                    lien  \\\n",
       "922                                https://www.snopes.com/fact-check/california-divert-dam-repair-funds/   \n",
       "3602                                                            https://www.snopes.com/fact-check/cispa/   \n",
       "1803                                         https://www.snopes.com/fact-check/trick-or-treat-age-limit/   \n",
       "2365  https://www.snopes.com/fact-check/college-threatened-to-cancel-offensive-america-themed-bbq-event/   \n",
       "387                                                   https://www.snopes.com/fact-check/redwood-whinery/   \n",
       "\n",
       "                                                                                                  contenu  \\\n",
       "922   On 15 February 2017, the web site ConservativeDailyPost.com published an inaccurate story bearin...   \n",
       "3602  Claim:   A cyber-security bill passed by Congress will violate constitutional protections.Claim:...   \n",
       "1803  One of the common elements of the Halloween night trick-or-treat tradition is adults’ grumbling ...   \n",
       "2365  On 20 September 2016, a college-themed publication called Campus Reform published a story report...   \n",
       "387   Claim:   Artesa Vineyards and Winery is planning to cut down 154 acres of California Redwoods in...   \n",
       "\n",
       "                                                                                     extra_lien_reference  \\\n",
       "922   http://www.fairus.org/DocServer/research-pub/CaliforniaCostStudy_2014-v3.pdf,https://www.snopes....   \n",
       "3602  http://democrats.intelligence.house.gov/sites/democrats.intelligence.house.gov/files/documents/C...   \n",
       "1803  https://library.municode.com/va/chesapeake/codes/code_of_ordinances?nodeId=PTIICOOR_CH46OFMIPR_A...   \n",
       "2365  http://www.campusreform.org/?ID=8153,https://www.facebook.com/RamapoCollege/posts/10154050598029426   \n",
       "387   http://www.winespectator.com/webfeature/show/id/49378,http://www.winespectator.com/webfeature/sh...   \n",
       "\n",
       "                                                    extra_tags  \\\n",
       "922   california, disasters, flooding, undocumented immigrants   \n",
       "3602                                      ASP Article, Audi R8   \n",
       "1803                                                 halloween   \n",
       "2365              college, education, fake outrage, patriotism   \n",
       "387                                                ASP Article   \n",
       "\n",
       "                                                                            extra_titre  \\\n",
       "922                  Did California Divert Dam Repair Funds to Programs for ‘Illegals’?   \n",
       "3602                             Cyber Intelligence Sharing and Protection Act (CISPA).   \n",
       "1803          Does a Municipal Code Limit Trick-or-Treating to Children 12 and Younger?   \n",
       "2365                 College Threatened to Cancel ‘Offensive’ America-Themed BBQ Event?   \n",
       "387   Spanish Winemaker Obtains Permission to Cut Down 154 Acres of California Redwoods   \n",
       "\n",
       "     note_nom_alternatif  \n",
       "922         mostly false  \n",
       "3602             mixture  \n",
       "1803             mixture  \n",
       "2365            unproven  \n",
       "387             outdated  "
      ]
     },
     "metadata": {},
     "output_type": "display_data"
    }
   ],
   "source": [
    "display(df.sample(5))"
   ]
  },
  {
   "cell_type": "code",
   "execution_count": 31,
   "metadata": {},
   "outputs": [
    {
     "data": {
      "text/plain": [
       "<matplotlib.axes._subplots.AxesSubplot at 0x28223cd0>"
      ]
     },
     "execution_count": 31,
     "metadata": {},
     "output_type": "execute_result"
    },
    {
     "data": {
      "image/png": "[encoded data removed]",
      "text/plain": [
       "<Figure size 432x288 with 1 Axes>"
      ]
     },
     "metadata": {
      "needs_background": "light"
     },
     "output_type": "display_data"
    }
   ],
   "source": [
    "sns.countplot(x='note_nom_alternatif', data=df)"
   ]
  },
  {
   "cell_type": "code",
   "execution_count": 32,
   "metadata": {},
   "outputs": [
    {
     "data": {
      "text/plain": [
       "<seaborn.axisgrid.FacetGrid at 0x1b1a69e8>"
      ]
     },
     "execution_count": 32,
     "metadata": {},
     "output_type": "execute_result"
    },
    {
     "data": {
      "image/png": "[encoded data removed]",
      "text/plain": [
       "<Figure size 1077.75x360 with 2 Axes>"
      ]
     },
     "metadata": {
      "needs_background": "light"
     },
     "output_type": "display_data"
    }
   ],
   "source": [
    "sns.factorplot('lien_auteur',\n",
    "data=df,\n",
    "kind='count',\n",
    "hue='note_nom_alternatif',\n",
    "col='source')"
   ]
  },
  {
   "cell_type": "code",
   "execution_count": 33,
   "metadata": {},
   "outputs": [],
   "source": [
    "df2=df.copy()"
   ]
  },
  {
   "cell_type": "code",
   "execution_count": 35,
   "metadata": {},
   "outputs": [
    {
     "data": {
      "text/html": [
       "<div>\n",
       "<style scoped>\n",
       "    .dataframe tbody tr th:only-of-type {\n",
       "        vertical-align: middle;\n",
       "    }\n",
       "\n",
       "    .dataframe tbody tr th {\n",
       "        vertical-align: top;\n",
       "    }\n",
       "\n",
       "    .dataframe thead th {\n",
       "        text-align: right;\n",
       "    }\n",
       "</style>\n",
       "<table border=\"1\" class=\"dataframe\">\n",
       "  <thead>\n",
       "    <tr style=\"text-align: right;\">\n",
       "      <th></th>\n",
       "      <th>id</th>\n",
       "      <th>lien_auteur</th>\n",
       "      <th>reclamation_examinee</th>\n",
       "      <th>date_examination</th>\n",
       "      <th>source</th>\n",
       "      <th>lien</th>\n",
       "      <th>contenu</th>\n",
       "      <th>extra_lien_reference</th>\n",
       "      <th>extra_tags</th>\n",
       "      <th>extra_titre</th>\n",
       "      <th>note_nom_alternatif</th>\n",
       "    </tr>\n",
       "  </thead>\n",
       "  <tbody>\n",
       "    <tr>\n",
       "      <th>2450</th>\n",
       "      <td>17450</td>\n",
       "      <td>snopes</td>\n",
       "      <td>Letter of resignation submitted to Secretary of State Colin L. Powell by a U.S. diplomat.</td>\n",
       "      <td>2007-09-13</td>\n",
       "      <td>snopes</td>\n",
       "      <td>https://www.snopes.com/fact-check/us-diplomats-letter-of-resignation/</td>\n",
       "      <td>Claim:   Letter of resignation submitted to Secretary of State Colin L. Powell by a U.S. diploma...</td>\n",
       "      <td>http://www.nytimes.com/2003/02/27/international/27WEB-TNAT.html?pagewanted=1</td>\n",
       "      <td>ASP Article</td>\n",
       "      <td>U.S. Diplomat’s Letter of Resignation</td>\n",
       "      <td>true</td>\n",
       "    </tr>\n",
       "    <tr>\n",
       "      <th>3973</th>\n",
       "      <td>8973</td>\n",
       "      <td>snopes</td>\n",
       "      <td>Students at Bowdoin College in Maine were offered counseling because a party involved mini sombr...</td>\n",
       "      <td>2016-03-08</td>\n",
       "      <td>snopes</td>\n",
       "      <td>https://www.snopes.com/fact-check/bowdoin-mini-sombrero-controversy/</td>\n",
       "      <td>On 6 March 2016, British web site The Independent published an article that reported students at...</td>\n",
       "      <td>http://www.independent.co.uk/news/world/americas/students-offered-counselling-over-small-sombrer...</td>\n",
       "      <td>bowdoin college, counseling, imaginary offended people, mini sombreros, political correctness, s...</td>\n",
       "      <td>Bowdoin Mini Sombrero Controversy</td>\n",
       "      <td>mostly false</td>\n",
       "    </tr>\n",
       "    <tr>\n",
       "      <th>2071</th>\n",
       "      <td>12071</td>\n",
       "      <td>snopes</td>\n",
       "      <td>Former President George H.W. Bush has died of food poisoning.</td>\n",
       "      <td>2014-07-23</td>\n",
       "      <td>snopes</td>\n",
       "      <td>https://www.snopes.com/fact-check/george-hw-bush-death-hoax/</td>\n",
       "      <td>Claim:   Former President George H.W. Bush has died of food poisoning.Claim:Claim:FALSEFALSEFALS...</td>\n",
       "      <td>http://www.today.com/news/george-h-w-bush-skydive-thats-one-way-celebrate-90-2D79795298,http://w...</td>\n",
       "      <td>ASP Article, hoaxes</td>\n",
       "      <td>George H.W. Bush Death Hoax</td>\n",
       "      <td>false</td>\n",
       "    </tr>\n",
       "    <tr>\n",
       "      <th>3924</th>\n",
       "      <td>8924</td>\n",
       "      <td>snopes</td>\n",
       "      <td>Donald Trump said in the good old days, protesters were harshly dealt with and carried away on s...</td>\n",
       "      <td>2016-03-14</td>\n",
       "      <td>snopes</td>\n",
       "      <td>https://www.snopes.com/fact-check/donald-trump-kent-state/</td>\n",
       "      <td>On 11 March 2016, the campaign of Republican presidential candidate Donald Trump was jarred when...</td>\n",
       "      <td>http://www.chicagotribune.com/news/local/politics/ct-illinois-primary-election-south-side-irish-...</td>\n",
       "      <td>donald trump</td>\n",
       "      <td>Donald Trump ‘Protester’ Quote/Kent State Comparison</td>\n",
       "      <td>mostly true</td>\n",
       "    </tr>\n",
       "    <tr>\n",
       "      <th>426</th>\n",
       "      <td>10426</td>\n",
       "      <td>snopes</td>\n",
       "      <td>Kristen Bell is the most tattooed actress in Hollywood, with more than 200 facial and body tattoos.</td>\n",
       "      <td>2015-02-10</td>\n",
       "      <td>snopes</td>\n",
       "      <td>https://www.snopes.com/fact-check/a-body-of-lies/</td>\n",
       "      <td>Claim:   Kristen Bell is the most tattooed actress in Hollywood, with more than 200 facial and b...</td>\n",
       "      <td>http://963theblaze.com/kristen-bell-covered-in-tattoos-video/,http://www.funnyordie.com/videos/d...</td>\n",
       "      <td>ASP Article, Not Necessarily The News</td>\n",
       "      <td>Kristen Bell: Most Tattooed Actress?</td>\n",
       "      <td>false</td>\n",
       "    </tr>\n",
       "  </tbody>\n",
       "</table>\n",
       "</div>"
      ],
      "text/plain": [
       "         id lien_auteur  \\\n",
       "2450  17450      snopes   \n",
       "3973   8973      snopes   \n",
       "2071  12071      snopes   \n",
       "3924   8924      snopes   \n",
       "426   10426      snopes   \n",
       "\n",
       "                                                                                     reclamation_examinee  \\\n",
       "2450            Letter of resignation submitted to Secretary of State Colin L. Powell by a U.S. diplomat.   \n",
       "3973  Students at Bowdoin College in Maine were offered counseling because a party involved mini sombr...   \n",
       "2071                                        Former President George H.W. Bush has died of food poisoning.   \n",
       "3924  Donald Trump said in the good old days, protesters were harshly dealt with and carried away on s...   \n",
       "426   Kristen Bell is the most tattooed actress in Hollywood, with more than 200 facial and body tattoos.   \n",
       "\n",
       "     date_examination  source  \\\n",
       "2450       2007-09-13  snopes   \n",
       "3973       2016-03-08  snopes   \n",
       "2071       2014-07-23  snopes   \n",
       "3924       2016-03-14  snopes   \n",
       "426        2015-02-10  snopes   \n",
       "\n",
       "                                                                       lien  \\\n",
       "2450  https://www.snopes.com/fact-check/us-diplomats-letter-of-resignation/   \n",
       "3973   https://www.snopes.com/fact-check/bowdoin-mini-sombrero-controversy/   \n",
       "2071           https://www.snopes.com/fact-check/george-hw-bush-death-hoax/   \n",
       "3924             https://www.snopes.com/fact-check/donald-trump-kent-state/   \n",
       "426                       https://www.snopes.com/fact-check/a-body-of-lies/   \n",
       "\n",
       "                                                                                                  contenu  \\\n",
       "2450  Claim:   Letter of resignation submitted to Secretary of State Colin L. Powell by a U.S. diploma...   \n",
       "3973  On 6 March 2016, British web site The Independent published an article that reported students at...   \n",
       "2071  Claim:   Former President George H.W. Bush has died of food poisoning.Claim:Claim:FALSEFALSEFALS...   \n",
       "3924  On 11 March 2016, the campaign of Republican presidential candidate Donald Trump was jarred when...   \n",
       "426   Claim:   Kristen Bell is the most tattooed actress in Hollywood, with more than 200 facial and b...   \n",
       "\n",
       "                                                                                     extra_lien_reference  \\\n",
       "2450                         http://www.nytimes.com/2003/02/27/international/27WEB-TNAT.html?pagewanted=1   \n",
       "3973  http://www.independent.co.uk/news/world/americas/students-offered-counselling-over-small-sombrer...   \n",
       "2071  http://www.today.com/news/george-h-w-bush-skydive-thats-one-way-celebrate-90-2D79795298,http://w...   \n",
       "3924  http://www.chicagotribune.com/news/local/politics/ct-illinois-primary-election-south-side-irish-...   \n",
       "426   http://963theblaze.com/kristen-bell-covered-in-tattoos-video/,http://www.funnyordie.com/videos/d...   \n",
       "\n",
       "                                                                                               extra_tags  \\\n",
       "2450                                                                                          ASP Article   \n",
       "3973  bowdoin college, counseling, imaginary offended people, mini sombreros, political correctness, s...   \n",
       "2071                                                                                  ASP Article, hoaxes   \n",
       "3924                                                                                         donald trump   \n",
       "426                                                                 ASP Article, Not Necessarily The News   \n",
       "\n",
       "                                               extra_titre note_nom_alternatif  \n",
       "2450                 U.S. Diplomat’s Letter of Resignation                true  \n",
       "3973                     Bowdoin Mini Sombrero Controversy        mostly false  \n",
       "2071                           George H.W. Bush Death Hoax               false  \n",
       "3924  Donald Trump ‘Protester’ Quote/Kent State Comparison         mostly true  \n",
       "426                   Kristen Bell: Most Tattooed Actress?               false  "
      ]
     },
     "metadata": {},
     "output_type": "display_data"
    },
    {
     "name": "stdout",
     "output_type": "stream",
     "text": [
      "<class 'pandas.core.frame.DataFrame'>\n",
      "Int64Index: 11361 entries, 8 to 4998\n",
      "Data columns (total 11 columns):\n",
      " #   Column                Non-Null Count  Dtype \n",
      "---  ------                --------------  ----- \n",
      " 0   id                    11361 non-null  int64 \n",
      " 1   lien_auteur           11361 non-null  object\n",
      " 2   reclamation_examinee  11361 non-null  object\n",
      " 3   date_examination      11361 non-null  object\n",
      " 4   source                11361 non-null  object\n",
      " 5   lien                  11361 non-null  object\n",
      " 6   contenu               11361 non-null  object\n",
      " 7   extra_lien_reference  11361 non-null  object\n",
      " 8   extra_tags            11361 non-null  object\n",
      " 9   extra_titre           11361 non-null  object\n",
      " 10  note_nom_alternatif   11361 non-null  object\n",
      "dtypes: int64(1), object(10)\n",
      "memory usage: 621.3+ KB\n"
     ]
    },
    {
     "data": {
      "text/plain": [
       "None"
      ]
     },
     "metadata": {},
     "output_type": "display_data"
    },
    {
     "data": {
      "text/plain": [
       "(11361, 11)"
      ]
     },
     "metadata": {},
     "output_type": "display_data"
    }
   ],
   "source": [
    "df2=df2.dropna()\n",
    "display(df2.sample(5))\n",
    "display(df2.info())\n",
    "display(df2.shape)"
   ]
  },
  {
   "cell_type": "code",
   "execution_count": 40,
   "metadata": {},
   "outputs": [],
   "source": [
    "df21 = df2[df2.note_nom_alternatif == 'false']\n",
    "df22 = df2[df2.note_nom_alternatif == 'true']\n",
    "df23 = df2[df2.note_nom_alternatif == 'mixture']\n",
    "\n",
    "df3 = pd.concat([df21, df22])\n",
    "df3 = pd.concat([df3,df23])"
   ]
  },
  {
   "cell_type": "code",
   "execution_count": 41,
   "metadata": {},
   "outputs": [
    {
     "data": {
      "text/html": [
       "<div>\n",
       "<style scoped>\n",
       "    .dataframe tbody tr th:only-of-type {\n",
       "        vertical-align: middle;\n",
       "    }\n",
       "\n",
       "    .dataframe tbody tr th {\n",
       "        vertical-align: top;\n",
       "    }\n",
       "\n",
       "    .dataframe thead th {\n",
       "        text-align: right;\n",
       "    }\n",
       "</style>\n",
       "<table border=\"1\" class=\"dataframe\">\n",
       "  <thead>\n",
       "    <tr style=\"text-align: right;\">\n",
       "      <th></th>\n",
       "      <th>id</th>\n",
       "      <th>lien_auteur</th>\n",
       "      <th>reclamation_examinee</th>\n",
       "      <th>date_examination</th>\n",
       "      <th>source</th>\n",
       "      <th>lien</th>\n",
       "      <th>contenu</th>\n",
       "      <th>extra_lien_reference</th>\n",
       "      <th>extra_tags</th>\n",
       "      <th>extra_titre</th>\n",
       "      <th>note_nom_alternatif</th>\n",
       "    </tr>\n",
       "  </thead>\n",
       "  <tbody>\n",
       "    <tr>\n",
       "      <th>3260</th>\n",
       "      <td>3260</td>\n",
       "      <td>snopes</td>\n",
       "      <td>A set of images show President Barack Obama and President Donald Trump in the aftermath of vario...</td>\n",
       "      <td>2018-02-19</td>\n",
       "      <td>snopes</td>\n",
       "      <td>https://www.snopes.com/fact-check/presidential-responses-school-shootings/</td>\n",
       "      <td>A photograph is worth a thousand words, or so the saying goes. Unfortunately, in the disinformat...</td>\n",
       "      <td>https://www.snopes.com/2018/02/15/parkland-high-rumors-hoaxes-conspiracy-theories/,https://www.n...</td>\n",
       "      <td>connecticut, florida, mass shootings, obama administration, parkland shooting, sandy hook, schoo...</td>\n",
       "      <td>Presidential Responses to School Shootings?</td>\n",
       "      <td>mixture</td>\n",
       "    </tr>\n",
       "    <tr>\n",
       "      <th>2388</th>\n",
       "      <td>12388</td>\n",
       "      <td>snopes</td>\n",
       "      <td>The sap of the giant hogweed plant can cause severe skin and eye irritation.</td>\n",
       "      <td>2014-04-17</td>\n",
       "      <td>snopes</td>\n",
       "      <td>https://www.snopes.com/fact-check/giant-hogweed-toxicity-warning/</td>\n",
       "      <td>In July 2013, many in the online world became aware of the hazard posed by the giant hogweed via...</td>\n",
       "      <td>/horrors/poison/oleander.asp,/critters/crusader/sagopalm.asp,http://www.dec.ny.gov/animals/39809...</td>\n",
       "      <td>Toxin Du Jour</td>\n",
       "      <td>Giant Hogweed Toxicity Warning</td>\n",
       "      <td>true</td>\n",
       "    </tr>\n",
       "    <tr>\n",
       "      <th>3873</th>\n",
       "      <td>8873</td>\n",
       "      <td>snopes</td>\n",
       "      <td>A video shows the \"\"moment the explosion\"\" of a terrorist attack occurred in the Brussels airpor...</td>\n",
       "      <td>2016-03-22</td>\n",
       "      <td>snopes</td>\n",
       "      <td>https://www.snopes.com/fact-check/brussels-attack-video-fake/</td>\n",
       "      <td>On 22 March 2016, a terrorist attack involving explosives detonated at an airport and a subway s...</td>\n",
       "      <td>http://www.msn.com/en-us/news/world/attacks-on-brussels-airport-metro-kill-26/ar-BBqLxXn?ocid=an...</td>\n",
       "      <td>brussels attack</td>\n",
       "      <td>Misidentified Footage Circulated as ‘Brussels Attack Video’</td>\n",
       "      <td>false</td>\n",
       "    </tr>\n",
       "    <tr>\n",
       "      <th>4121</th>\n",
       "      <td>14121</td>\n",
       "      <td>snopes</td>\n",
       "      <td>A photograph shows a horse whose coat spells out the word 'horse.'</td>\n",
       "      <td>2012-05-22</td>\n",
       "      <td>snopes</td>\n",
       "      <td>https://www.snopes.com/fact-check/horse-horse/</td>\n",
       "      <td>Patterns in the colors of various animals’ hair or fur can sometimes form what humans perceive a...</td>\n",
       "      <td>/photos/animals/heartkun.asp,http://www.worth1000.com/,graphics/horsehorse2.jpg</td>\n",
       "      <td>animals, designcrowd, worth1000</td>\n",
       "      <td>Does This Horse Spell ‘Horse’?</td>\n",
       "      <td>false</td>\n",
       "    </tr>\n",
       "    <tr>\n",
       "      <th>2870</th>\n",
       "      <td>17870</td>\n",
       "      <td>snopes</td>\n",
       "      <td>Truck driver involved in capture of sniper suspects prayed with other truckers that the sniper w...</td>\n",
       "      <td>2007-03-09</td>\n",
       "      <td>snopes</td>\n",
       "      <td>https://www.snopes.com/fact-check/gun-prey/</td>\n",
       "      <td>Claim:   Truck driver involved in capture of sniper suspects prayed with other truckers that the...</td>\n",
       "      <td>http://www.foxnews.com/story/0,2933,66702,00.html</td>\n",
       "      <td>ASP Article</td>\n",
       "      <td>Gun Prey</td>\n",
       "      <td>true</td>\n",
       "    </tr>\n",
       "  </tbody>\n",
       "</table>\n",
       "</div>"
      ],
      "text/plain": [
       "         id lien_auteur  \\\n",
       "3260   3260      snopes   \n",
       "2388  12388      snopes   \n",
       "3873   8873      snopes   \n",
       "4121  14121      snopes   \n",
       "2870  17870      snopes   \n",
       "\n",
       "                                                                                     reclamation_examinee  \\\n",
       "3260  A set of images show President Barack Obama and President Donald Trump in the aftermath of vario...   \n",
       "2388                         The sap of the giant hogweed plant can cause severe skin and eye irritation.   \n",
       "3873  A video shows the \"\"moment the explosion\"\" of a terrorist attack occurred in the Brussels airpor...   \n",
       "4121                                   A photograph shows a horse whose coat spells out the word 'horse.'   \n",
       "2870  Truck driver involved in capture of sniper suspects prayed with other truckers that the sniper w...   \n",
       "\n",
       "     date_examination  source  \\\n",
       "3260       2018-02-19  snopes   \n",
       "2388       2014-04-17  snopes   \n",
       "3873       2016-03-22  snopes   \n",
       "4121       2012-05-22  snopes   \n",
       "2870       2007-03-09  snopes   \n",
       "\n",
       "                                                                            lien  \\\n",
       "3260  https://www.snopes.com/fact-check/presidential-responses-school-shootings/   \n",
       "2388           https://www.snopes.com/fact-check/giant-hogweed-toxicity-warning/   \n",
       "3873               https://www.snopes.com/fact-check/brussels-attack-video-fake/   \n",
       "4121                              https://www.snopes.com/fact-check/horse-horse/   \n",
       "2870                                 https://www.snopes.com/fact-check/gun-prey/   \n",
       "\n",
       "                                                                                                  contenu  \\\n",
       "3260  A photograph is worth a thousand words, or so the saying goes. Unfortunately, in the disinformat...   \n",
       "2388  In July 2013, many in the online world became aware of the hazard posed by the giant hogweed via...   \n",
       "3873  On 22 March 2016, a terrorist attack involving explosives detonated at an airport and a subway s...   \n",
       "4121  Patterns in the colors of various animals’ hair or fur can sometimes form what humans perceive a...   \n",
       "2870  Claim:   Truck driver involved in capture of sniper suspects prayed with other truckers that the...   \n",
       "\n",
       "                                                                                     extra_lien_reference  \\\n",
       "3260  https://www.snopes.com/2018/02/15/parkland-high-rumors-hoaxes-conspiracy-theories/,https://www.n...   \n",
       "2388  /horrors/poison/oleander.asp,/critters/crusader/sagopalm.asp,http://www.dec.ny.gov/animals/39809...   \n",
       "3873  http://www.msn.com/en-us/news/world/attacks-on-brussels-airport-metro-kill-26/ar-BBqLxXn?ocid=an...   \n",
       "4121                      /photos/animals/heartkun.asp,http://www.worth1000.com/,graphics/horsehorse2.jpg   \n",
       "2870                                                    http://www.foxnews.com/story/0,2933,66702,00.html   \n",
       "\n",
       "                                                                                               extra_tags  \\\n",
       "3260  connecticut, florida, mass shootings, obama administration, parkland shooting, sandy hook, schoo...   \n",
       "2388                                                                                        Toxin Du Jour   \n",
       "3873                                                                                      brussels attack   \n",
       "4121                                                                      animals, designcrowd, worth1000   \n",
       "2870                                                                                          ASP Article   \n",
       "\n",
       "                                                      extra_titre  \\\n",
       "3260                  Presidential Responses to School Shootings?   \n",
       "2388                               Giant Hogweed Toxicity Warning   \n",
       "3873  Misidentified Footage Circulated as ‘Brussels Attack Video’   \n",
       "4121                               Does This Horse Spell ‘Horse’?   \n",
       "2870                                                     Gun Prey   \n",
       "\n",
       "     note_nom_alternatif  \n",
       "3260             mixture  \n",
       "2388                true  \n",
       "3873               false  \n",
       "4121               false  \n",
       "2870                true  "
      ]
     },
     "execution_count": 41,
     "metadata": {},
     "output_type": "execute_result"
    }
   ],
   "source": [
    "df3.sample(5)"
   ]
  },
  {
   "cell_type": "code",
   "execution_count": 42,
   "metadata": {},
   "outputs": [
    {
     "data": {
      "text/plain": [
       "<matplotlib.axes._subplots.AxesSubplot at 0x30bf1ce8>"
      ]
     },
     "execution_count": 42,
     "metadata": {},
     "output_type": "execute_result"
    },
    {
     "data": {
      "image/png": "[encoded data removed]",
      "text/plain": [
       "<Figure size 432x288 with 1 Axes>"
      ]
     },
     "metadata": {
      "needs_background": "light"
     },
     "output_type": "display_data"
    }
   ],
   "source": [
    "sns.countplot(x='note_nom_alternatif', data=df3)\n"
   ]
  },
  {
   "cell_type": "code",
   "execution_count": 44,
   "metadata": {},
   "outputs": [
    {
     "data": {
      "text/plain": [
       "<seaborn.axisgrid.FacetGrid at 0x30c7e6d0>"
      ]
     },
     "execution_count": 44,
     "metadata": {},
     "output_type": "execute_result"
    },
    {
     "data": {
      "image/png": "[encoded data removed]",
      "text/plain": [
       "<Figure size 468.25x360 with 1 Axes>"
      ]
     },
     "metadata": {
      "needs_background": "light"
     },
     "output_type": "display_data"
    }
   ],
   "source": [
    "sns.factorplot('source',\n",
    "data=df3,\n",
    "kind='count',\n",
    "hue='note_nom_alternatif')"
   ]
  },
  {
   "cell_type": "code",
   "execution_count": 65,
   "metadata": {},
   "outputs": [],
   "source": [
    "class_label_encoder = LabelEncoder()\n",
    "# transformation\n",
    "\n",
    "df3[\"source\"]=class_label_encoder.fit_transform(df3[\"source\"])"
   ]
  },
  {
   "cell_type": "code",
   "execution_count": 66,
   "metadata": {},
   "outputs": [
    {
     "data": {
      "text/html": [
       "<div>\n",
       "<style scoped>\n",
       "    .dataframe tbody tr th:only-of-type {\n",
       "        vertical-align: middle;\n",
       "    }\n",
       "\n",
       "    .dataframe tbody tr th {\n",
       "        vertical-align: top;\n",
       "    }\n",
       "\n",
       "    .dataframe thead th {\n",
       "        text-align: right;\n",
       "    }\n",
       "</style>\n",
       "<table border=\"1\" class=\"dataframe\">\n",
       "  <thead>\n",
       "    <tr style=\"text-align: right;\">\n",
       "      <th></th>\n",
       "      <th>id</th>\n",
       "      <th>lien_auteur</th>\n",
       "      <th>reclamation_examinee</th>\n",
       "      <th>date_examination</th>\n",
       "      <th>source</th>\n",
       "      <th>lien</th>\n",
       "      <th>contenu</th>\n",
       "      <th>extra_lien_reference</th>\n",
       "      <th>extra_tags</th>\n",
       "      <th>extra_titre</th>\n",
       "      <th>note_nom_alternatif</th>\n",
       "    </tr>\n",
       "  </thead>\n",
       "  <tbody>\n",
       "    <tr>\n",
       "      <th>4773</th>\n",
       "      <td>1298</td>\n",
       "      <td>politifact</td>\n",
       "      <td>Ronald Reagan \"\"raised taxes in 1982, 1984, 1985, 1986 and 1987.\"\"</td>\n",
       "      <td>2019-10-14</td>\n",
       "      <td>0</td>\n",
       "      <td>http://www.politifact.com/virginia/statements/2012/jun/25/gerry-connolly/rep-gerry-connolly-says...</td>\n",
       "      <td>U.S. Rep. Gerry Connolly, D-11th, recently invoked the name of Ronald Reagan to drum up support ...</td>\n",
       "      <td>https://www.youtube.com/watch?feature=player_embedded&amp;v=jrYJp1IVAmU,https://www.politifact.com/t...</td>\n",
       "      <td>Deficit,Taxes</td>\n",
       "      <td>Rep. Gerry Connolly says Reagan raised taxes during five years of presidency</td>\n",
       "      <td>true</td>\n",
       "    </tr>\n",
       "    <tr>\n",
       "      <th>873</th>\n",
       "      <td>5873</td>\n",
       "      <td>snopes</td>\n",
       "      <td>Thousands of Marines applied for White House detail after Trump became president, and none appli...</td>\n",
       "      <td>2017-02-24</td>\n",
       "      <td>1</td>\n",
       "      <td>https://www.snopes.com/fact-check/marine-white-house-detail/</td>\n",
       "      <td>On 22 February 2017, the Facebook group “Conservative Veterans for America” shared an image macr...</td>\n",
       "      <td>https://archive.is/BgpRO,https://www.snopes.com/tachyon/2017/02/marines-white-house.jpg,http://f...</td>\n",
       "      <td>barack obama, donald trump</td>\n",
       "      <td>Did Thousands of Marines Apply for White House Detail After Trump Became President?</td>\n",
       "      <td>false</td>\n",
       "    </tr>\n",
       "    <tr>\n",
       "      <th>4582</th>\n",
       "      <td>14582</td>\n",
       "      <td>snopes</td>\n",
       "      <td>The drug Premarin is produced from the urine of pregnant horses.</td>\n",
       "      <td>2007-08-01</td>\n",
       "      <td>1</td>\n",
       "      <td>https://www.snopes.com/fact-check/premarin/</td>\n",
       "      <td>Claim:   The drug Premarin is produced from the urine of pregnant horses. Claim:Claim:Status:   ...</td>\n",
       "      <td>http://www.menopause-online.com/,http://web.archive.org/web/20020124075843/http://www.aoa.gov/ao...</td>\n",
       "      <td>ASP Article, drugs</td>\n",
       "      <td>Premarin</td>\n",
       "      <td>true</td>\n",
       "    </tr>\n",
       "    <tr>\n",
       "      <th>3401</th>\n",
       "      <td>18401</td>\n",
       "      <td>snopes</td>\n",
       "      <td>Bodies of workmen are entombed in Hoover Dam.</td>\n",
       "      <td>1999-10-01</td>\n",
       "      <td>1</td>\n",
       "      <td>https://www.snopes.com/fact-check/hoover-dam-bodies/</td>\n",
       "      <td>Although a startling number of workmen were killed in the construction of Hoover Dam (1931-36), ...</td>\n",
       "      <td>https://www.usbr.gov/lc/hooverdam/history/essays/fatal.html,http://www.fortpeckdam.com/historypa...</td>\n",
       "      <td>freakish fatalities</td>\n",
       "      <td>Hoover Dam Entombments</td>\n",
       "      <td>false</td>\n",
       "    </tr>\n",
       "    <tr>\n",
       "      <th>3606</th>\n",
       "      <td>3606</td>\n",
       "      <td>snopes</td>\n",
       "      <td>Former Presidents Barack Obama, Bill Clinton, and George W. Bush mocked President Trump on Twitt...</td>\n",
       "      <td>2018-01-09</td>\n",
       "      <td>1</td>\n",
       "      <td>https://www.snopes.com/fact-check/former-presidents-mocked-trump-about-his-first-try-tweet/</td>\n",
       "      <td>In January 2018, shortly after the publication of the book Fire and Fury: Inside the Trump White...</td>\n",
       "      <td>https://twitter.com/realDonaldTrump/status/949618475877765120?ref_src=twsrc%5Etfw,https://twitte...</td>\n",
       "      <td>bush, clinton, Obama, president trump, presidential campaign</td>\n",
       "      <td>Three Former Presidents Mocked Trump on Twitter?</td>\n",
       "      <td>false</td>\n",
       "    </tr>\n",
       "  </tbody>\n",
       "</table>\n",
       "</div>"
      ],
      "text/plain": [
       "         id lien_auteur  \\\n",
       "4773   1298  politifact   \n",
       "873    5873      snopes   \n",
       "4582  14582      snopes   \n",
       "3401  18401      snopes   \n",
       "3606   3606      snopes   \n",
       "\n",
       "                                                                                     reclamation_examinee  \\\n",
       "4773                                   Ronald Reagan \"\"raised taxes in 1982, 1984, 1985, 1986 and 1987.\"\"   \n",
       "873   Thousands of Marines applied for White House detail after Trump became president, and none appli...   \n",
       "4582                                     The drug Premarin is produced from the urine of pregnant horses.   \n",
       "3401                                                        Bodies of workmen are entombed in Hoover Dam.   \n",
       "3606  Former Presidents Barack Obama, Bill Clinton, and George W. Bush mocked President Trump on Twitt...   \n",
       "\n",
       "     date_examination  source  \\\n",
       "4773       2019-10-14       0   \n",
       "873        2017-02-24       1   \n",
       "4582       2007-08-01       1   \n",
       "3401       1999-10-01       1   \n",
       "3606       2018-01-09       1   \n",
       "\n",
       "                                                                                                     lien  \\\n",
       "4773  http://www.politifact.com/virginia/statements/2012/jun/25/gerry-connolly/rep-gerry-connolly-says...   \n",
       "873                                          https://www.snopes.com/fact-check/marine-white-house-detail/   \n",
       "4582                                                          https://www.snopes.com/fact-check/premarin/   \n",
       "3401                                                 https://www.snopes.com/fact-check/hoover-dam-bodies/   \n",
       "3606          https://www.snopes.com/fact-check/former-presidents-mocked-trump-about-his-first-try-tweet/   \n",
       "\n",
       "                                                                                                  contenu  \\\n",
       "4773  U.S. Rep. Gerry Connolly, D-11th, recently invoked the name of Ronald Reagan to drum up support ...   \n",
       "873   On 22 February 2017, the Facebook group “Conservative Veterans for America” shared an image macr...   \n",
       "4582  Claim:   The drug Premarin is produced from the urine of pregnant horses. Claim:Claim:Status:   ...   \n",
       "3401  Although a startling number of workmen were killed in the construction of Hoover Dam (1931-36), ...   \n",
       "3606  In January 2018, shortly after the publication of the book Fire and Fury: Inside the Trump White...   \n",
       "\n",
       "                                                                                     extra_lien_reference  \\\n",
       "4773  https://www.youtube.com/watch?feature=player_embedded&v=jrYJp1IVAmU,https://www.politifact.com/t...   \n",
       "873   https://archive.is/BgpRO,https://www.snopes.com/tachyon/2017/02/marines-white-house.jpg,http://f...   \n",
       "4582  http://www.menopause-online.com/,http://web.archive.org/web/20020124075843/http://www.aoa.gov/ao...   \n",
       "3401  https://www.usbr.gov/lc/hooverdam/history/essays/fatal.html,http://www.fortpeckdam.com/historypa...   \n",
       "3606  https://twitter.com/realDonaldTrump/status/949618475877765120?ref_src=twsrc%5Etfw,https://twitte...   \n",
       "\n",
       "                                                        extra_tags  \\\n",
       "4773                                                 Deficit,Taxes   \n",
       "873                                     barack obama, donald trump   \n",
       "4582                                            ASP Article, drugs   \n",
       "3401                                           freakish fatalities   \n",
       "3606  bush, clinton, Obama, president trump, presidential campaign   \n",
       "\n",
       "                                                                              extra_titre  \\\n",
       "4773         Rep. Gerry Connolly says Reagan raised taxes during five years of presidency   \n",
       "873   Did Thousands of Marines Apply for White House Detail After Trump Became President?   \n",
       "4582                                                                             Premarin   \n",
       "3401                                                               Hoover Dam Entombments   \n",
       "3606                                     Three Former Presidents Mocked Trump on Twitter?   \n",
       "\n",
       "     note_nom_alternatif  \n",
       "4773                true  \n",
       "873                false  \n",
       "4582                true  \n",
       "3401               false  \n",
       "3606               false  "
      ]
     },
     "metadata": {},
     "output_type": "display_data"
    }
   ],
   "source": [
    "display(df3.sample(5))"
   ]
  },
  {
   "cell_type": "code",
   "execution_count": 67,
   "metadata": {},
   "outputs": [
    {
     "name": "stderr",
     "output_type": "stream",
     "text": [
      "d:\\docs\\cours\\m1\\hmin232\\env\\lib\\site-packages\\seaborn\\categorical.py:3666: UserWarning: The `factorplot` function has been renamed to `catplot`. The original name will be removed in a future release. Please update your code. Note that the default `kind` in `factorplot` (`'point'`) has changed `'strip'` in `catplot`.\n",
      "  warnings.warn(msg)\n"
     ]
    },
    {
     "data": {
      "text/plain": [
       "<seaborn.axisgrid.FacetGrid at 0x30c798f8>"
      ]
     },
     "execution_count": 67,
     "metadata": {},
     "output_type": "execute_result"
    },
    {
     "data": {
      "image/png": "[encoded data removed]",
      "text/plain": [
       "<Figure size 468.25x360 with 1 Axes>"
      ]
     },
     "metadata": {
      "needs_background": "light"
     },
     "output_type": "display_data"
    }
   ],
   "source": [
    "sns.factorplot('source',\n",
    "data=df3,\n",
    "kind='count',\n",
    "hue='note_nom_alternatif')"
   ]
  },
  {
   "cell_type": "code",
   "execution_count": 68,
   "metadata": {},
   "outputs": [],
   "source": [
    "del df3[\"lien_auteur\"]\n",
    "del df3[\"id\"]\n",
    "del df3[\"lien\"]\n",
    "del df3[\"extra_lien_reference\"]"
   ]
  },
  {
   "cell_type": "code",
   "execution_count": 69,
   "metadata": {},
   "outputs": [
    {
     "data": {
      "text/html": [
       "<div>\n",
       "<style scoped>\n",
       "    .dataframe tbody tr th:only-of-type {\n",
       "        vertical-align: middle;\n",
       "    }\n",
       "\n",
       "    .dataframe tbody tr th {\n",
       "        vertical-align: top;\n",
       "    }\n",
       "\n",
       "    .dataframe thead th {\n",
       "        text-align: right;\n",
       "    }\n",
       "</style>\n",
       "<table border=\"1\" class=\"dataframe\">\n",
       "  <thead>\n",
       "    <tr style=\"text-align: right;\">\n",
       "      <th></th>\n",
       "      <th>reclamation_examinee</th>\n",
       "      <th>date_examination</th>\n",
       "      <th>source</th>\n",
       "      <th>contenu</th>\n",
       "      <th>extra_tags</th>\n",
       "      <th>extra_titre</th>\n",
       "      <th>note_nom_alternatif</th>\n",
       "    </tr>\n",
       "  </thead>\n",
       "  <tbody>\n",
       "    <tr>\n",
       "      <th>3916</th>\n",
       "      <td>Under Donald Trump's tax plan, \"\"the top 0.1 percent of taxpayers -- people earning multiple mil...</td>\n",
       "      <td>2019-10-11</td>\n",
       "      <td>0</td>\n",
       "      <td>For being Hillary Clinton surrogates, two Wisconsin lawmakers sounded rather like Bernie Sanders...</td>\n",
       "      <td>Income,Taxes,Wealth</td>\n",
       "      <td>Top 0.1% would be big winner under Donald Trump's tax plan, Wisconsin Hillary Clinton supporter ...</td>\n",
       "      <td>true</td>\n",
       "    </tr>\n",
       "    <tr>\n",
       "      <th>2634</th>\n",
       "      <td>A Muslim man named \"\"Mike Alig-Juzfahrted\"\" was appointed superintendent of Atlanta Public Schools.</td>\n",
       "      <td>2018-05-24</td>\n",
       "      <td>1</td>\n",
       "      <td>In May 2018, “satirical” blog America’s Last Line of Defense seized on a picture from an actual ...</td>\n",
       "      <td>america's last line of defense, last line of defense</td>\n",
       "      <td>Was a Muslim Educator Named Superintendent of Atlanta’s Schools?</td>\n",
       "      <td>false</td>\n",
       "    </tr>\n",
       "    <tr>\n",
       "      <th>1273</th>\n",
       "      <td>A serial killer/rapist is luring women with $5 bills they’ve ‘dropped.’</td>\n",
       "      <td>2009-03-17</td>\n",
       "      <td>1</td>\n",
       "      <td>Claim:   A serial killer/rapist is luring women with $5 bills they’ve ‘dropped.’ Claim:Claim:FAL...</td>\n",
       "      <td>ASP Article</td>\n",
       "      <td>Serial Killer/ Rapist Trick</td>\n",
       "      <td>false</td>\n",
       "    </tr>\n",
       "    <tr>\n",
       "      <th>619</th>\n",
       "      <td>Photographs show a collection of houses built in unusual places.</td>\n",
       "      <td>2007-06-25</td>\n",
       "      <td>1</td>\n",
       "      <td>Most e-mailed collections of unusual “Are these real?” type pictures usually consist of either a...</td>\n",
       "      <td>Architecture, photoshop</td>\n",
       "      <td>Are These Unusual Houses Real?</td>\n",
       "      <td>mixture</td>\n",
       "    </tr>\n",
       "    <tr>\n",
       "      <th>437</th>\n",
       "      <td>Actor Russell Johnson of Gilligan’s Island fame has been identified as the Zodiac Killer.</td>\n",
       "      <td>2015-04-22</td>\n",
       "      <td>1</td>\n",
       "      <td>Claim:   Actor Russell Johnson of Gilligan’s Island fame has been identified as the Zodiac Kille...</td>\n",
       "      <td>ASP Article, Not Necessarily The News</td>\n",
       "      <td>Hollywood Shocker: ‘Gilligan’s Island’ Star Turns Out to Be Zodiac Killer</td>\n",
       "      <td>false</td>\n",
       "    </tr>\n",
       "  </tbody>\n",
       "</table>\n",
       "</div>"
      ],
      "text/plain": [
       "                                                                                     reclamation_examinee  \\\n",
       "3916  Under Donald Trump's tax plan, \"\"the top 0.1 percent of taxpayers -- people earning multiple mil...   \n",
       "2634  A Muslim man named \"\"Mike Alig-Juzfahrted\"\" was appointed superintendent of Atlanta Public Schools.   \n",
       "1273                              A serial killer/rapist is luring women with $5 bills they’ve ‘dropped.’   \n",
       "619                                      Photographs show a collection of houses built in unusual places.   \n",
       "437             Actor Russell Johnson of Gilligan’s Island fame has been identified as the Zodiac Killer.   \n",
       "\n",
       "     date_examination  source  \\\n",
       "3916       2019-10-11       0   \n",
       "2634       2018-05-24       1   \n",
       "1273       2009-03-17       1   \n",
       "619        2007-06-25       1   \n",
       "437        2015-04-22       1   \n",
       "\n",
       "                                                                                                  contenu  \\\n",
       "3916  For being Hillary Clinton surrogates, two Wisconsin lawmakers sounded rather like Bernie Sanders...   \n",
       "2634  In May 2018, “satirical” blog America’s Last Line of Defense seized on a picture from an actual ...   \n",
       "1273  Claim:   A serial killer/rapist is luring women with $5 bills they’ve ‘dropped.’ Claim:Claim:FAL...   \n",
       "619   Most e-mailed collections of unusual “Are these real?” type pictures usually consist of either a...   \n",
       "437   Claim:   Actor Russell Johnson of Gilligan’s Island fame has been identified as the Zodiac Kille...   \n",
       "\n",
       "                                                extra_tags  \\\n",
       "3916                                   Income,Taxes,Wealth   \n",
       "2634  america's last line of defense, last line of defense   \n",
       "1273                                           ASP Article   \n",
       "619                                Architecture, photoshop   \n",
       "437                  ASP Article, Not Necessarily The News   \n",
       "\n",
       "                                                                                              extra_titre  \\\n",
       "3916  Top 0.1% would be big winner under Donald Trump's tax plan, Wisconsin Hillary Clinton supporter ...   \n",
       "2634                                     Was a Muslim Educator Named Superintendent of Atlanta’s Schools?   \n",
       "1273                                                                          Serial Killer/ Rapist Trick   \n",
       "619                                                                        Are These Unusual Houses Real?   \n",
       "437                             Hollywood Shocker: ‘Gilligan’s Island’ Star Turns Out to Be Zodiac Killer   \n",
       "\n",
       "     note_nom_alternatif  \n",
       "3916                true  \n",
       "2634               false  \n",
       "1273               false  \n",
       "619              mixture  \n",
       "437                false  "
      ]
     },
     "metadata": {},
     "output_type": "display_data"
    }
   ],
   "source": [
    "display(df3.sample(5))"
   ]
  },
  {
   "cell_type": "raw",
   "metadata": {},
   "source": [
    "to do : mettre date dans des catégories genre : mois-année ; puis appliquer le labelEncoder sur la colonne\n",
    "ensuite go classifieur"
   ]
  },
  {
   "cell_type": "code",
   "execution_count": null,
   "metadata": {},
   "outputs": [],
   "source": []
  },
  {
   "cell_type": "code",
   "execution_count": null,
   "metadata": {},
   "outputs": [],
   "source": []
  },
  {
   "cell_type": "code",
   "execution_count": null,
   "metadata": {},
   "outputs": [],
   "source": []
  },
  {
   "cell_type": "code",
   "execution_count": null,
   "metadata": {},
   "outputs": [],
   "source": []
  },
  {
   "cell_type": "code",
   "execution_count": null,
   "metadata": {},
   "outputs": [],
   "source": []
  },
  {
   "cell_type": "code",
   "execution_count": null,
   "metadata": {},
   "outputs": [],
   "source": []
  },
  {
   "cell_type": "code",
   "execution_count": null,
   "metadata": {},
   "outputs": [],
   "source": []
  },
  {
   "cell_type": "code",
   "execution_count": null,
   "metadata": {},
   "outputs": [],
   "source": []
  },
  {
   "cell_type": "code",
   "execution_count": null,
   "metadata": {},
   "outputs": [],
   "source": []
  },
  {
   "cell_type": "code",
   "execution_count": null,
   "metadata": {},
   "outputs": [],
   "source": []
  },
  {
   "cell_type": "code",
   "execution_count": 45,
   "metadata": {},
   "outputs": [],
   "source": [
    "array = df3.values\n",
    "X = array[:,3:4]\n",
    "y = array[:,10]"
   ]
  },
  {
   "cell_type": "code",
   "execution_count": 51,
   "metadata": {},
   "outputs": [],
   "source": [
    "validation_size=0.3 #30% du jeu de données pour le test\n",
    "testsize= 1-validation_size\n",
    "seed=30\n",
    "X_train, X_test, y_train, y_test = train_test_split(X, y,\n",
    "train_size=validation_size,\n",
    "random_state=seed,test_size=testsize)"
   ]
  },
  {
   "cell_type": "code",
   "execution_count": 55,
   "metadata": {},
   "outputs": [
    {
     "ename": "ValueError",
     "evalue": "could not convert string to float: 'snopes'",
     "output_type": "error",
     "traceback": [
      "\u001b[1;31m---------------------------------------------------------------------------\u001b[0m",
      "\u001b[1;31mValueError\u001b[0m                                Traceback (most recent call last)",
      "\u001b[1;32m<ipython-input-55-0d3992ff158c>\u001b[0m in \u001b[0;36m<module>\u001b[1;34m\u001b[0m\n\u001b[0;32m      1\u001b[0m \u001b[0mclf\u001b[0m \u001b[1;33m=\u001b[0m \u001b[0mGaussianNB\u001b[0m\u001b[1;33m(\u001b[0m\u001b[1;33m)\u001b[0m\u001b[1;33m\u001b[0m\u001b[1;33m\u001b[0m\u001b[0m\n\u001b[1;32m----> 2\u001b[1;33m \u001b[0mclf\u001b[0m\u001b[1;33m.\u001b[0m\u001b[0mfit\u001b[0m\u001b[1;33m(\u001b[0m\u001b[0mX_train\u001b[0m\u001b[1;33m,\u001b[0m \u001b[0my_train\u001b[0m\u001b[1;33m)\u001b[0m\u001b[1;33m\u001b[0m\u001b[1;33m\u001b[0m\u001b[0m\n\u001b[0m\u001b[0;32m      3\u001b[0m \u001b[0mresult\u001b[0m \u001b[1;33m=\u001b[0m \u001b[0mclf\u001b[0m\u001b[1;33m.\u001b[0m\u001b[0mpredict\u001b[0m\u001b[1;33m(\u001b[0m\u001b[0mX_test\u001b[0m\u001b[1;33m)\u001b[0m\u001b[1;33m\u001b[0m\u001b[1;33m\u001b[0m\u001b[0m\n\u001b[0;32m      4\u001b[0m print('\\n accuracy :',\n\u001b[0;32m      5\u001b[0m accuracy_score(result, y_test),'\\n')\n",
      "\u001b[1;32md:\\docs\\cours\\m1\\hmin232\\env\\lib\\site-packages\\sklearn\\naive_bayes.py\u001b[0m in \u001b[0;36mfit\u001b[1;34m(self, X, y, sample_weight)\u001b[0m\n\u001b[0;32m    205\u001b[0m         \"\"\"\n\u001b[0;32m    206\u001b[0m         \u001b[0my\u001b[0m \u001b[1;33m=\u001b[0m \u001b[0mcolumn_or_1d\u001b[0m\u001b[1;33m(\u001b[0m\u001b[0my\u001b[0m\u001b[1;33m,\u001b[0m \u001b[0mwarn\u001b[0m\u001b[1;33m=\u001b[0m\u001b[1;32mTrue\u001b[0m\u001b[1;33m)\u001b[0m\u001b[1;33m\u001b[0m\u001b[1;33m\u001b[0m\u001b[0m\n\u001b[1;32m--> 207\u001b[1;33m         return self._partial_fit(X, y, np.unique(y), _refit=True,\n\u001b[0m\u001b[0;32m    208\u001b[0m                                  sample_weight=sample_weight)\n\u001b[0;32m    209\u001b[0m \u001b[1;33m\u001b[0m\u001b[0m\n",
      "\u001b[1;32md:\\docs\\cours\\m1\\hmin232\\env\\lib\\site-packages\\sklearn\\naive_bayes.py\u001b[0m in \u001b[0;36m_partial_fit\u001b[1;34m(self, X, y, classes, _refit, sample_weight)\u001b[0m\n\u001b[0;32m    357\u001b[0m         \u001b[0mself\u001b[0m \u001b[1;33m:\u001b[0m \u001b[0mobject\u001b[0m\u001b[1;33m\u001b[0m\u001b[1;33m\u001b[0m\u001b[0m\n\u001b[0;32m    358\u001b[0m         \"\"\"\n\u001b[1;32m--> 359\u001b[1;33m         \u001b[0mX\u001b[0m\u001b[1;33m,\u001b[0m \u001b[0my\u001b[0m \u001b[1;33m=\u001b[0m \u001b[0mcheck_X_y\u001b[0m\u001b[1;33m(\u001b[0m\u001b[0mX\u001b[0m\u001b[1;33m,\u001b[0m \u001b[0my\u001b[0m\u001b[1;33m)\u001b[0m\u001b[1;33m\u001b[0m\u001b[1;33m\u001b[0m\u001b[0m\n\u001b[0m\u001b[0;32m    360\u001b[0m         \u001b[1;32mif\u001b[0m \u001b[0msample_weight\u001b[0m \u001b[1;32mis\u001b[0m \u001b[1;32mnot\u001b[0m \u001b[1;32mNone\u001b[0m\u001b[1;33m:\u001b[0m\u001b[1;33m\u001b[0m\u001b[1;33m\u001b[0m\u001b[0m\n\u001b[0;32m    361\u001b[0m             \u001b[0msample_weight\u001b[0m \u001b[1;33m=\u001b[0m \u001b[0m_check_sample_weight\u001b[0m\u001b[1;33m(\u001b[0m\u001b[0msample_weight\u001b[0m\u001b[1;33m,\u001b[0m \u001b[0mX\u001b[0m\u001b[1;33m)\u001b[0m\u001b[1;33m\u001b[0m\u001b[1;33m\u001b[0m\u001b[0m\n",
      "\u001b[1;32md:\\docs\\cours\\m1\\hmin232\\env\\lib\\site-packages\\sklearn\\utils\\validation.py\u001b[0m in \u001b[0;36mcheck_X_y\u001b[1;34m(X, y, accept_sparse, accept_large_sparse, dtype, order, copy, force_all_finite, ensure_2d, allow_nd, multi_output, ensure_min_samples, ensure_min_features, y_numeric, warn_on_dtype, estimator)\u001b[0m\n\u001b[0;32m    745\u001b[0m         \u001b[1;32mraise\u001b[0m \u001b[0mValueError\u001b[0m\u001b[1;33m(\u001b[0m\u001b[1;34m\"y cannot be None\"\u001b[0m\u001b[1;33m)\u001b[0m\u001b[1;33m\u001b[0m\u001b[1;33m\u001b[0m\u001b[0m\n\u001b[0;32m    746\u001b[0m \u001b[1;33m\u001b[0m\u001b[0m\n\u001b[1;32m--> 747\u001b[1;33m     X = check_array(X, accept_sparse=accept_sparse,\n\u001b[0m\u001b[0;32m    748\u001b[0m                     \u001b[0maccept_large_sparse\u001b[0m\u001b[1;33m=\u001b[0m\u001b[0maccept_large_sparse\u001b[0m\u001b[1;33m,\u001b[0m\u001b[1;33m\u001b[0m\u001b[1;33m\u001b[0m\u001b[0m\n\u001b[0;32m    749\u001b[0m                     \u001b[0mdtype\u001b[0m\u001b[1;33m=\u001b[0m\u001b[0mdtype\u001b[0m\u001b[1;33m,\u001b[0m \u001b[0morder\u001b[0m\u001b[1;33m=\u001b[0m\u001b[0morder\u001b[0m\u001b[1;33m,\u001b[0m \u001b[0mcopy\u001b[0m\u001b[1;33m=\u001b[0m\u001b[0mcopy\u001b[0m\u001b[1;33m,\u001b[0m\u001b[1;33m\u001b[0m\u001b[1;33m\u001b[0m\u001b[0m\n",
      "\u001b[1;32md:\\docs\\cours\\m1\\hmin232\\env\\lib\\site-packages\\sklearn\\utils\\validation.py\u001b[0m in \u001b[0;36mcheck_array\u001b[1;34m(array, accept_sparse, accept_large_sparse, dtype, order, copy, force_all_finite, ensure_2d, allow_nd, ensure_min_samples, ensure_min_features, warn_on_dtype, estimator)\u001b[0m\n\u001b[0;32m    529\u001b[0m                     \u001b[0marray\u001b[0m \u001b[1;33m=\u001b[0m \u001b[0marray\u001b[0m\u001b[1;33m.\u001b[0m\u001b[0mastype\u001b[0m\u001b[1;33m(\u001b[0m\u001b[0mdtype\u001b[0m\u001b[1;33m,\u001b[0m \u001b[0mcasting\u001b[0m\u001b[1;33m=\u001b[0m\u001b[1;34m\"unsafe\"\u001b[0m\u001b[1;33m,\u001b[0m \u001b[0mcopy\u001b[0m\u001b[1;33m=\u001b[0m\u001b[1;32mFalse\u001b[0m\u001b[1;33m)\u001b[0m\u001b[1;33m\u001b[0m\u001b[1;33m\u001b[0m\u001b[0m\n\u001b[0;32m    530\u001b[0m                 \u001b[1;32melse\u001b[0m\u001b[1;33m:\u001b[0m\u001b[1;33m\u001b[0m\u001b[1;33m\u001b[0m\u001b[0m\n\u001b[1;32m--> 531\u001b[1;33m                     \u001b[0marray\u001b[0m \u001b[1;33m=\u001b[0m \u001b[0mnp\u001b[0m\u001b[1;33m.\u001b[0m\u001b[0masarray\u001b[0m\u001b[1;33m(\u001b[0m\u001b[0marray\u001b[0m\u001b[1;33m,\u001b[0m \u001b[0morder\u001b[0m\u001b[1;33m=\u001b[0m\u001b[0morder\u001b[0m\u001b[1;33m,\u001b[0m \u001b[0mdtype\u001b[0m\u001b[1;33m=\u001b[0m\u001b[0mdtype\u001b[0m\u001b[1;33m)\u001b[0m\u001b[1;33m\u001b[0m\u001b[1;33m\u001b[0m\u001b[0m\n\u001b[0m\u001b[0;32m    532\u001b[0m             \u001b[1;32mexcept\u001b[0m \u001b[0mComplexWarning\u001b[0m\u001b[1;33m:\u001b[0m\u001b[1;33m\u001b[0m\u001b[1;33m\u001b[0m\u001b[0m\n\u001b[0;32m    533\u001b[0m                 raise ValueError(\"Complex data not supported\\n\"\n",
      "\u001b[1;32md:\\docs\\cours\\m1\\hmin232\\env\\lib\\site-packages\\numpy\\core\\_asarray.py\u001b[0m in \u001b[0;36masarray\u001b[1;34m(a, dtype, order)\u001b[0m\n\u001b[0;32m     83\u001b[0m \u001b[1;33m\u001b[0m\u001b[0m\n\u001b[0;32m     84\u001b[0m     \"\"\"\n\u001b[1;32m---> 85\u001b[1;33m     \u001b[1;32mreturn\u001b[0m \u001b[0marray\u001b[0m\u001b[1;33m(\u001b[0m\u001b[0ma\u001b[0m\u001b[1;33m,\u001b[0m \u001b[0mdtype\u001b[0m\u001b[1;33m,\u001b[0m \u001b[0mcopy\u001b[0m\u001b[1;33m=\u001b[0m\u001b[1;32mFalse\u001b[0m\u001b[1;33m,\u001b[0m \u001b[0morder\u001b[0m\u001b[1;33m=\u001b[0m\u001b[0morder\u001b[0m\u001b[1;33m)\u001b[0m\u001b[1;33m\u001b[0m\u001b[1;33m\u001b[0m\u001b[0m\n\u001b[0m\u001b[0;32m     86\u001b[0m \u001b[1;33m\u001b[0m\u001b[0m\n\u001b[0;32m     87\u001b[0m \u001b[1;33m\u001b[0m\u001b[0m\n",
      "\u001b[1;31mValueError\u001b[0m: could not convert string to float: 'snopes'"
     ]
    }
   ],
   "source": [
    "clf = GaussianNB()\n",
    "clf.fit(X_train, y_train)\n",
    "result = clf.predict(X_test)\n",
    "print('\\n accuracy :',\n",
    "accuracy_score(result, y_test),'\\n')"
   ]
  },
  {
   "cell_type": "code",
   "execution_count": null,
   "metadata": {},
   "outputs": [],
   "source": []
  },
  {
   "cell_type": "code",
   "execution_count": null,
   "metadata": {},
   "outputs": [],
   "source": []
  },
  {
   "cell_type": "code",
   "execution_count": 62,
   "metadata": {},
   "outputs": [],
   "source": [
    "seed = 7\n",
    "scoring = 'accuracy'\n",
    "models = []\n",
    "models.append(('KNN', KNeighborsClassifier()))\n",
    "models.append(('CART', DecisionTreeClassifier()))\n",
    "models.append(('NB', GaussianNB()))\n",
    "models.append(('SVM', SVC(gamma='auto')))\n",
    "models.append(('RFO', RandomForestClassifier()))"
   ]
  },
  {
   "cell_type": "code",
   "execution_count": 63,
   "metadata": {},
   "outputs": [
    {
     "name": "stdout",
     "output_type": "stream",
     "text": [
      "KNN: nan (nan)\n",
      "CART: nan (nan)\n",
      "NB: nan (nan)\n",
      "SVM: nan (nan)\n",
      "RFO: nan (nan)\n"
     ]
    },
    {
     "name": "stderr",
     "output_type": "stream",
     "text": [
      "d:\\docs\\cours\\m1\\hmin232\\env\\lib\\site-packages\\sklearn\\model_selection\\_validation.py:532: FitFailedWarning: Estimator fit failed. The score on this train-test partition for these parameters will be set to nan. Details: \n",
      "ValueError: could not convert string to float: 'snopes'\n",
      "\n",
      "  warnings.warn(\"Estimator fit failed. The score on this train-test\"\n",
      "d:\\docs\\cours\\m1\\hmin232\\env\\lib\\site-packages\\sklearn\\model_selection\\_validation.py:532: FitFailedWarning: Estimator fit failed. The score on this train-test partition for these parameters will be set to nan. Details: \n",
      "ValueError: could not convert string to float: 'snopes'\n",
      "\n",
      "  warnings.warn(\"Estimator fit failed. The score on this train-test\"\n",
      "d:\\docs\\cours\\m1\\hmin232\\env\\lib\\site-packages\\sklearn\\model_selection\\_validation.py:532: FitFailedWarning: Estimator fit failed. The score on this train-test partition for these parameters will be set to nan. Details: \n",
      "ValueError: could not convert string to float: 'snopes'\n",
      "\n",
      "  warnings.warn(\"Estimator fit failed. The score on this train-test\"\n",
      "d:\\docs\\cours\\m1\\hmin232\\env\\lib\\site-packages\\sklearn\\model_selection\\_validation.py:532: FitFailedWarning: Estimator fit failed. The score on this train-test partition for these parameters will be set to nan. Details: \n",
      "ValueError: could not convert string to float: 'snopes'\n",
      "\n",
      "  warnings.warn(\"Estimator fit failed. The score on this train-test\"\n",
      "d:\\docs\\cours\\m1\\hmin232\\env\\lib\\site-packages\\sklearn\\model_selection\\_validation.py:532: FitFailedWarning: Estimator fit failed. The score on this train-test partition for these parameters will be set to nan. Details: \n",
      "ValueError: could not convert string to float: 'snopes'\n",
      "\n",
      "  warnings.warn(\"Estimator fit failed. The score on this train-test\"\n",
      "d:\\docs\\cours\\m1\\hmin232\\env\\lib\\site-packages\\sklearn\\model_selection\\_validation.py:532: FitFailedWarning: Estimator fit failed. The score on this train-test partition for these parameters will be set to nan. Details: \n",
      "ValueError: could not convert string to float: 'snopes'\n",
      "\n",
      "  warnings.warn(\"Estimator fit failed. The score on this train-test\"\n",
      "d:\\docs\\cours\\m1\\hmin232\\env\\lib\\site-packages\\sklearn\\model_selection\\_validation.py:532: FitFailedWarning: Estimator fit failed. The score on this train-test partition for these parameters will be set to nan. Details: \n",
      "ValueError: could not convert string to float: 'snopes'\n",
      "\n",
      "  warnings.warn(\"Estimator fit failed. The score on this train-test\"\n",
      "d:\\docs\\cours\\m1\\hmin232\\env\\lib\\site-packages\\sklearn\\model_selection\\_validation.py:532: FitFailedWarning: Estimator fit failed. The score on this train-test partition for these parameters will be set to nan. Details: \n",
      "ValueError: could not convert string to float: 'snopes'\n",
      "\n",
      "  warnings.warn(\"Estimator fit failed. The score on this train-test\"\n",
      "d:\\docs\\cours\\m1\\hmin232\\env\\lib\\site-packages\\sklearn\\model_selection\\_validation.py:532: FitFailedWarning: Estimator fit failed. The score on this train-test partition for these parameters will be set to nan. Details: \n",
      "ValueError: could not convert string to float: 'snopes'\n",
      "\n",
      "  warnings.warn(\"Estimator fit failed. The score on this train-test\"\n",
      "d:\\docs\\cours\\m1\\hmin232\\env\\lib\\site-packages\\sklearn\\model_selection\\_validation.py:532: FitFailedWarning: Estimator fit failed. The score on this train-test partition for these parameters will be set to nan. Details: \n",
      "ValueError: could not convert string to float: 'snopes'\n",
      "\n",
      "  warnings.warn(\"Estimator fit failed. The score on this train-test\"\n",
      "d:\\docs\\cours\\m1\\hmin232\\env\\lib\\site-packages\\sklearn\\model_selection\\_validation.py:532: FitFailedWarning: Estimator fit failed. The score on this train-test partition for these parameters will be set to nan. Details: \n",
      "ValueError: could not convert string to float: 'snopes'\n",
      "\n",
      "  warnings.warn(\"Estimator fit failed. The score on this train-test\"\n",
      "d:\\docs\\cours\\m1\\hmin232\\env\\lib\\site-packages\\sklearn\\model_selection\\_validation.py:532: FitFailedWarning: Estimator fit failed. The score on this train-test partition for these parameters will be set to nan. Details: \n",
      "ValueError: could not convert string to float: 'snopes'\n",
      "\n",
      "  warnings.warn(\"Estimator fit failed. The score on this train-test\"\n",
      "d:\\docs\\cours\\m1\\hmin232\\env\\lib\\site-packages\\sklearn\\model_selection\\_validation.py:532: FitFailedWarning: Estimator fit failed. The score on this train-test partition for these parameters will be set to nan. Details: \n",
      "ValueError: could not convert string to float: 'snopes'\n",
      "\n",
      "  warnings.warn(\"Estimator fit failed. The score on this train-test\"\n",
      "d:\\docs\\cours\\m1\\hmin232\\env\\lib\\site-packages\\sklearn\\model_selection\\_validation.py:532: FitFailedWarning: Estimator fit failed. The score on this train-test partition for these parameters will be set to nan. Details: \n",
      "ValueError: could not convert string to float: 'snopes'\n",
      "\n",
      "  warnings.warn(\"Estimator fit failed. The score on this train-test\"\n",
      "d:\\docs\\cours\\m1\\hmin232\\env\\lib\\site-packages\\sklearn\\model_selection\\_validation.py:532: FitFailedWarning: Estimator fit failed. The score on this train-test partition for these parameters will be set to nan. Details: \n",
      "ValueError: could not convert string to float: 'snopes'\n",
      "\n",
      "  warnings.warn(\"Estimator fit failed. The score on this train-test\"\n",
      "d:\\docs\\cours\\m1\\hmin232\\env\\lib\\site-packages\\sklearn\\model_selection\\_validation.py:532: FitFailedWarning: Estimator fit failed. The score on this train-test partition for these parameters will be set to nan. Details: \n",
      "ValueError: could not convert string to float: 'snopes'\n",
      "\n",
      "  warnings.warn(\"Estimator fit failed. The score on this train-test\"\n",
      "d:\\docs\\cours\\m1\\hmin232\\env\\lib\\site-packages\\sklearn\\model_selection\\_validation.py:532: FitFailedWarning: Estimator fit failed. The score on this train-test partition for these parameters will be set to nan. Details: \n",
      "ValueError: could not convert string to float: 'snopes'\n",
      "\n",
      "  warnings.warn(\"Estimator fit failed. The score on this train-test\"\n",
      "d:\\docs\\cours\\m1\\hmin232\\env\\lib\\site-packages\\sklearn\\model_selection\\_validation.py:532: FitFailedWarning: Estimator fit failed. The score on this train-test partition for these parameters will be set to nan. Details: \n",
      "ValueError: could not convert string to float: 'snopes'\n",
      "\n",
      "  warnings.warn(\"Estimator fit failed. The score on this train-test\"\n",
      "d:\\docs\\cours\\m1\\hmin232\\env\\lib\\site-packages\\sklearn\\model_selection\\_validation.py:532: FitFailedWarning: Estimator fit failed. The score on this train-test partition for these parameters will be set to nan. Details: \n",
      "ValueError: could not convert string to float: 'snopes'\n",
      "\n",
      "  warnings.warn(\"Estimator fit failed. The score on this train-test\"\n",
      "d:\\docs\\cours\\m1\\hmin232\\env\\lib\\site-packages\\sklearn\\model_selection\\_validation.py:532: FitFailedWarning: Estimator fit failed. The score on this train-test partition for these parameters will be set to nan. Details: \n",
      "ValueError: could not convert string to float: 'snopes'\n",
      "\n",
      "  warnings.warn(\"Estimator fit failed. The score on this train-test\"\n",
      "d:\\docs\\cours\\m1\\hmin232\\env\\lib\\site-packages\\sklearn\\model_selection\\_validation.py:532: FitFailedWarning: Estimator fit failed. The score on this train-test partition for these parameters will be set to nan. Details: \n",
      "ValueError: could not convert string to float: 'snopes'\n",
      "\n",
      "  warnings.warn(\"Estimator fit failed. The score on this train-test\"\n",
      "d:\\docs\\cours\\m1\\hmin232\\env\\lib\\site-packages\\sklearn\\model_selection\\_validation.py:532: FitFailedWarning: Estimator fit failed. The score on this train-test partition for these parameters will be set to nan. Details: \n",
      "ValueError: could not convert string to float: 'snopes'\n",
      "\n",
      "  warnings.warn(\"Estimator fit failed. The score on this train-test\"\n",
      "d:\\docs\\cours\\m1\\hmin232\\env\\lib\\site-packages\\sklearn\\model_selection\\_validation.py:532: FitFailedWarning: Estimator fit failed. The score on this train-test partition for these parameters will be set to nan. Details: \n",
      "ValueError: could not convert string to float: 'snopes'\n",
      "\n",
      "  warnings.warn(\"Estimator fit failed. The score on this train-test\"\n",
      "d:\\docs\\cours\\m1\\hmin232\\env\\lib\\site-packages\\sklearn\\model_selection\\_validation.py:532: FitFailedWarning: Estimator fit failed. The score on this train-test partition for these parameters will be set to nan. Details: \n",
      "ValueError: could not convert string to float: 'snopes'\n",
      "\n",
      "  warnings.warn(\"Estimator fit failed. The score on this train-test\"\n",
      "d:\\docs\\cours\\m1\\hmin232\\env\\lib\\site-packages\\sklearn\\model_selection\\_validation.py:532: FitFailedWarning: Estimator fit failed. The score on this train-test partition for these parameters will be set to nan. Details: \n",
      "ValueError: could not convert string to float: 'snopes'\n",
      "\n",
      "  warnings.warn(\"Estimator fit failed. The score on this train-test\"\n",
      "d:\\docs\\cours\\m1\\hmin232\\env\\lib\\site-packages\\sklearn\\model_selection\\_validation.py:532: FitFailedWarning: Estimator fit failed. The score on this train-test partition for these parameters will be set to nan. Details: \n",
      "ValueError: could not convert string to float: 'snopes'\n",
      "\n",
      "  warnings.warn(\"Estimator fit failed. The score on this train-test\"\n",
      "d:\\docs\\cours\\m1\\hmin232\\env\\lib\\site-packages\\sklearn\\model_selection\\_validation.py:532: FitFailedWarning: Estimator fit failed. The score on this train-test partition for these parameters will be set to nan. Details: \n",
      "ValueError: could not convert string to float: 'snopes'\n",
      "\n",
      "  warnings.warn(\"Estimator fit failed. The score on this train-test\"\n",
      "d:\\docs\\cours\\m1\\hmin232\\env\\lib\\site-packages\\sklearn\\model_selection\\_validation.py:532: FitFailedWarning: Estimator fit failed. The score on this train-test partition for these parameters will be set to nan. Details: \n",
      "ValueError: could not convert string to float: 'snopes'\n",
      "\n",
      "  warnings.warn(\"Estimator fit failed. The score on this train-test\"\n",
      "d:\\docs\\cours\\m1\\hmin232\\env\\lib\\site-packages\\sklearn\\model_selection\\_validation.py:532: FitFailedWarning: Estimator fit failed. The score on this train-test partition for these parameters will be set to nan. Details: \n",
      "ValueError: could not convert string to float: 'snopes'\n",
      "\n",
      "  warnings.warn(\"Estimator fit failed. The score on this train-test\"\n",
      "d:\\docs\\cours\\m1\\hmin232\\env\\lib\\site-packages\\sklearn\\model_selection\\_validation.py:532: FitFailedWarning: Estimator fit failed. The score on this train-test partition for these parameters will be set to nan. Details: \n",
      "ValueError: could not convert string to float: 'snopes'\n",
      "\n",
      "  warnings.warn(\"Estimator fit failed. The score on this train-test\"\n",
      "d:\\docs\\cours\\m1\\hmin232\\env\\lib\\site-packages\\sklearn\\model_selection\\_validation.py:532: FitFailedWarning: Estimator fit failed. The score on this train-test partition for these parameters will be set to nan. Details: \n",
      "ValueError: could not convert string to float: 'snopes'\n",
      "\n",
      "  warnings.warn(\"Estimator fit failed. The score on this train-test\"\n",
      "d:\\docs\\cours\\m1\\hmin232\\env\\lib\\site-packages\\sklearn\\model_selection\\_validation.py:532: FitFailedWarning: Estimator fit failed. The score on this train-test partition for these parameters will be set to nan. Details: \n",
      "ValueError: could not convert string to float: 'snopes'\n",
      "\n",
      "  warnings.warn(\"Estimator fit failed. The score on this train-test\"\n",
      "d:\\docs\\cours\\m1\\hmin232\\env\\lib\\site-packages\\sklearn\\model_selection\\_validation.py:532: FitFailedWarning: Estimator fit failed. The score on this train-test partition for these parameters will be set to nan. Details: \n",
      "ValueError: could not convert string to float: 'snopes'\n",
      "\n",
      "  warnings.warn(\"Estimator fit failed. The score on this train-test\"\n",
      "d:\\docs\\cours\\m1\\hmin232\\env\\lib\\site-packages\\sklearn\\model_selection\\_validation.py:532: FitFailedWarning: Estimator fit failed. The score on this train-test partition for these parameters will be set to nan. Details: \n",
      "ValueError: could not convert string to float: 'snopes'\n",
      "\n",
      "  warnings.warn(\"Estimator fit failed. The score on this train-test\"\n",
      "d:\\docs\\cours\\m1\\hmin232\\env\\lib\\site-packages\\sklearn\\model_selection\\_validation.py:532: FitFailedWarning: Estimator fit failed. The score on this train-test partition for these parameters will be set to nan. Details: \n",
      "ValueError: could not convert string to float: 'snopes'\n",
      "\n",
      "  warnings.warn(\"Estimator fit failed. The score on this train-test\"\n",
      "d:\\docs\\cours\\m1\\hmin232\\env\\lib\\site-packages\\sklearn\\model_selection\\_validation.py:532: FitFailedWarning: Estimator fit failed. The score on this train-test partition for these parameters will be set to nan. Details: \n",
      "ValueError: could not convert string to float: 'snopes'\n",
      "\n",
      "  warnings.warn(\"Estimator fit failed. The score on this train-test\"\n",
      "d:\\docs\\cours\\m1\\hmin232\\env\\lib\\site-packages\\sklearn\\model_selection\\_validation.py:532: FitFailedWarning: Estimator fit failed. The score on this train-test partition for these parameters will be set to nan. Details: \n",
      "ValueError: could not convert string to float: 'snopes'\n",
      "\n",
      "  warnings.warn(\"Estimator fit failed. The score on this train-test\"\n",
      "d:\\docs\\cours\\m1\\hmin232\\env\\lib\\site-packages\\sklearn\\model_selection\\_validation.py:532: FitFailedWarning: Estimator fit failed. The score on this train-test partition for these parameters will be set to nan. Details: \n",
      "ValueError: could not convert string to float: 'snopes'\n",
      "\n",
      "  warnings.warn(\"Estimator fit failed. The score on this train-test\"\n",
      "d:\\docs\\cours\\m1\\hmin232\\env\\lib\\site-packages\\sklearn\\model_selection\\_validation.py:532: FitFailedWarning: Estimator fit failed. The score on this train-test partition for these parameters will be set to nan. Details: \n",
      "ValueError: could not convert string to float: 'snopes'\n",
      "\n",
      "  warnings.warn(\"Estimator fit failed. The score on this train-test\"\n",
      "d:\\docs\\cours\\m1\\hmin232\\env\\lib\\site-packages\\sklearn\\model_selection\\_validation.py:532: FitFailedWarning: Estimator fit failed. The score on this train-test partition for these parameters will be set to nan. Details: \n",
      "ValueError: could not convert string to float: 'snopes'\n",
      "\n",
      "  warnings.warn(\"Estimator fit failed. The score on this train-test\"\n",
      "d:\\docs\\cours\\m1\\hmin232\\env\\lib\\site-packages\\sklearn\\model_selection\\_validation.py:532: FitFailedWarning: Estimator fit failed. The score on this train-test partition for these parameters will be set to nan. Details: \n",
      "ValueError: could not convert string to float: 'snopes'\n",
      "\n",
      "  warnings.warn(\"Estimator fit failed. The score on this train-test\"\n",
      "d:\\docs\\cours\\m1\\hmin232\\env\\lib\\site-packages\\sklearn\\model_selection\\_validation.py:532: FitFailedWarning: Estimator fit failed. The score on this train-test partition for these parameters will be set to nan. Details: \n",
      "ValueError: could not convert string to float: 'snopes'\n",
      "\n",
      "  warnings.warn(\"Estimator fit failed. The score on this train-test\"\n",
      "d:\\docs\\cours\\m1\\hmin232\\env\\lib\\site-packages\\sklearn\\model_selection\\_validation.py:532: FitFailedWarning: Estimator fit failed. The score on this train-test partition for these parameters will be set to nan. Details: \n",
      "ValueError: could not convert string to float: 'snopes'\n",
      "\n",
      "  warnings.warn(\"Estimator fit failed. The score on this train-test\"\n",
      "d:\\docs\\cours\\m1\\hmin232\\env\\lib\\site-packages\\sklearn\\model_selection\\_validation.py:532: FitFailedWarning: Estimator fit failed. The score on this train-test partition for these parameters will be set to nan. Details: \n",
      "ValueError: could not convert string to float: 'snopes'\n",
      "\n",
      "  warnings.warn(\"Estimator fit failed. The score on this train-test\"\n",
      "d:\\docs\\cours\\m1\\hmin232\\env\\lib\\site-packages\\sklearn\\model_selection\\_validation.py:532: FitFailedWarning: Estimator fit failed. The score on this train-test partition for these parameters will be set to nan. Details: \n",
      "ValueError: could not convert string to float: 'snopes'\n",
      "\n",
      "  warnings.warn(\"Estimator fit failed. The score on this train-test\"\n",
      "d:\\docs\\cours\\m1\\hmin232\\env\\lib\\site-packages\\sklearn\\model_selection\\_validation.py:532: FitFailedWarning: Estimator fit failed. The score on this train-test partition for these parameters will be set to nan. Details: \n",
      "ValueError: could not convert string to float: 'snopes'\n",
      "\n",
      "  warnings.warn(\"Estimator fit failed. The score on this train-test\"\n",
      "d:\\docs\\cours\\m1\\hmin232\\env\\lib\\site-packages\\sklearn\\model_selection\\_validation.py:532: FitFailedWarning: Estimator fit failed. The score on this train-test partition for these parameters will be set to nan. Details: \n",
      "ValueError: could not convert string to float: 'snopes'\n",
      "\n",
      "  warnings.warn(\"Estimator fit failed. The score on this train-test\"\n",
      "d:\\docs\\cours\\m1\\hmin232\\env\\lib\\site-packages\\sklearn\\model_selection\\_validation.py:532: FitFailedWarning: Estimator fit failed. The score on this train-test partition for these parameters will be set to nan. Details: \n",
      "ValueError: could not convert string to float: 'snopes'\n",
      "\n",
      "  warnings.warn(\"Estimator fit failed. The score on this train-test\"\n",
      "d:\\docs\\cours\\m1\\hmin232\\env\\lib\\site-packages\\sklearn\\model_selection\\_validation.py:532: FitFailedWarning: Estimator fit failed. The score on this train-test partition for these parameters will be set to nan. Details: \n",
      "ValueError: could not convert string to float: 'snopes'\n",
      "\n",
      "  warnings.warn(\"Estimator fit failed. The score on this train-test\"\n",
      "d:\\docs\\cours\\m1\\hmin232\\env\\lib\\site-packages\\sklearn\\model_selection\\_validation.py:532: FitFailedWarning: Estimator fit failed. The score on this train-test partition for these parameters will be set to nan. Details: \n",
      "ValueError: could not convert string to float: 'snopes'\n",
      "\n",
      "  warnings.warn(\"Estimator fit failed. The score on this train-test\"\n"
     ]
    }
   ],
   "source": [
    "results = []\n",
    "names = []\n",
    "for name,model in models:\n",
    "    kfold = KFold(n_splits=10, random_state=seed)\n",
    "    cv_results = cross_val_score(model, X,y, cv=kfold, scoring=scoring)\n",
    "    results.append(cv_results)\n",
    "    names.append(name)\n",
    "    msg = \"%s: %f (%f)\" % (name, cv_results.mean(),cv_results.std())\n",
    "    print(msg)"
   ]
  },
  {
   "cell_type": "code",
   "execution_count": null,
   "metadata": {
    "scrolled": true
   },
   "outputs": [],
   "source": [
    "\n",
    "    \n",
    "    "
   ]
  },
  {
   "cell_type": "code",
   "execution_count": null,
   "metadata": {},
   "outputs": [],
   "source": []
  },
  {
   "cell_type": "code",
   "execution_count": null,
   "metadata": {},
   "outputs": [],
   "source": []
  },
  {
   "cell_type": "code",
   "execution_count": null,
   "metadata": {},
   "outputs": [],
   "source": []
  }
 ],
 "metadata": {
  "kernelspec": {
   "display_name": "Python 3",
   "language": "python",
   "name": "python3"
  },
  "language_info": {
   "codemirror_mode": {
    "name": "ipython",
    "version": 3
   },
   "file_extension": ".py",
   "mimetype": "text/x-python",
   "name": "python",
   "nbconvert_exporter": "python",
   "pygments_lexer": "ipython3",
   "version": "3.8.2"
  }
 },
 "nbformat": 4,
 "nbformat_minor": 4
}
