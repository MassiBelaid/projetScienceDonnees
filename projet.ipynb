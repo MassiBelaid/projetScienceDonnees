{
 "cells": [
  {
   "cell_type": "code",
   "execution_count": 1,
   "metadata": {},
   "outputs": [],
   "source": [
    "import pandas as pd\n",
    "\n"
   ]
  },
  {
   "cell_type": "code",
   "execution_count": 2,
   "metadata": {},
   "outputs": [],
   "source": [
    "names = [\"id\",\"auteur\",\"lien_auteur\",\"nom_auteur\",\"reclamation_examinee\",\"date_examination\",\"source\",\"lien\",\"pub_nom_auteur\",\"pub_lien_auteur\",\n",
    "         \"date_publication\",\"contenu\",\"extra_auteur\",\"extra_contenu\",\"extra_publication_examinée\",\n",
    "         \"extra_mot_cle\",\"extra_lien_reference\",\"extra_tags\",\"extra_titre\",\"note_nom_alternatif\",\"meilleure_note\",\n",
    "         \"valeur_note\",\"pire_note\"]\n",
    "df = pd.read_csv('../Dataset/claim.csv', sep=',', names = names, skiprows = 1, nrows = 5000)\n",
    "df2 = pd.read_csv('../Dataset/claim.csv', sep=',', names = names, skiprows = 5001, nrows = 5000)\n",
    "df3 = pd.read_csv('../Dataset/claim.csv', sep=',', names = names, skiprows = 10001, nrows = 5000)\n",
    "df4 = pd.read_csv('../Dataset/claim.csv', sep=',', names = names, skiprows = 15001, nrows = 5000)\n",
    "\n",
    "\n"
   ]
  },
  {
   "cell_type": "code",
   "execution_count": 3,
   "metadata": {},
   "outputs": [
    {
     "data": {
      "text/html": [
       "<div>\n",
       "<style scoped>\n",
       "    .dataframe tbody tr th:only-of-type {\n",
       "        vertical-align: middle;\n",
       "    }\n",
       "\n",
       "    .dataframe tbody tr th {\n",
       "        vertical-align: top;\n",
       "    }\n",
       "\n",
       "    .dataframe thead th {\n",
       "        text-align: right;\n",
       "    }\n",
       "</style>\n",
       "<table border=\"1\" class=\"dataframe\">\n",
       "  <thead>\n",
       "    <tr style=\"text-align: right;\">\n",
       "      <th></th>\n",
       "      <th>id</th>\n",
       "      <th>auteur</th>\n",
       "      <th>lien_auteur</th>\n",
       "      <th>nom_auteur</th>\n",
       "      <th>reclamation_examinee</th>\n",
       "      <th>date_examination</th>\n",
       "      <th>source</th>\n",
       "      <th>lien</th>\n",
       "      <th>pub_nom_auteur</th>\n",
       "      <th>pub_lien_auteur</th>\n",
       "      <th>...</th>\n",
       "      <th>extra_contenu</th>\n",
       "      <th>extra_publication_examinée</th>\n",
       "      <th>extra_mot_cle</th>\n",
       "      <th>extra_lien_reference</th>\n",
       "      <th>extra_tags</th>\n",
       "      <th>extra_titre</th>\n",
       "      <th>note_nom_alternatif</th>\n",
       "      <th>meilleure_note</th>\n",
       "      <th>valeur_note</th>\n",
       "      <th>pire_note</th>\n",
       "    </tr>\n",
       "  </thead>\n",
       "  <tbody>\n",
       "    <tr>\n",
       "      <th>3976</th>\n",
       "      <td>8976</td>\n",
       "      <td>NaN</td>\n",
       "      <td>snopes</td>\n",
       "      <td>NaN</td>\n",
       "      <td>A casting call for a Latina actress to play a ...</td>\n",
       "      <td>2016-03-08</td>\n",
       "      <td>snopes</td>\n",
       "      <td>https://www.snopes.com/fact-check/donald-trump...</td>\n",
       "      <td>NaN</td>\n",
       "      <td>NaN</td>\n",
       "      <td>...</td>\n",
       "      <td>[{\"id\" : 7529378\",\"\"begin\": 74,\"end\": 82,\"enti...</td>\n",
       "      <td>[{\"id\" : 4848272\",\"\"begin\": 46,\"end\": 58,\"enti...</td>\n",
       "      <td>[{\"id\" : 4848272\",\"\"begin\": 13,\"end\": 25,\"enti...</td>\n",
       "      <td>https://www.facebook.com/photo.php?fbid=101534...</td>\n",
       "      <td>casting call, donald trump, trump actor</td>\n",
       "      <td>Donald Trump Isn’t Hiring a Latina Actress to ...</td>\n",
       "      <td>Mixture</td>\n",
       "      <td>NaN</td>\n",
       "      <td>NaN</td>\n",
       "      <td>NaN</td>\n",
       "    </tr>\n",
       "    <tr>\n",
       "      <th>3812</th>\n",
       "      <td>8812</td>\n",
       "      <td>NaN</td>\n",
       "      <td>snopes</td>\n",
       "      <td>NaN</td>\n",
       "      <td>A video featuring the \"\"Best Volleyball Blocks...</td>\n",
       "      <td>2016-03-29</td>\n",
       "      <td>snopes</td>\n",
       "      <td>https://www.snopes.com/fact-check/volleyball-b...</td>\n",
       "      <td>NaN</td>\n",
       "      <td>NaN</td>\n",
       "      <td>...</td>\n",
       "      <td>[{\"id\" : 32558\",\"\"begin\": 293,\"end\": 303,\"enti...</td>\n",
       "      <td>[{\"id\" : 32558\",\"\"begin\": 27,\"end\": 37,\"entity...</td>\n",
       "      <td>[{\"id\" : 49991644\",\"\"begin\": 0,\"end\": 14,\"enti...</td>\n",
       "      <td>NaN</td>\n",
       "      <td>scott sterling, studio c</td>\n",
       "      <td>‘Best Volleyball Blocks Ever’</td>\n",
       "      <td>False</td>\n",
       "      <td>NaN</td>\n",
       "      <td>NaN</td>\n",
       "      <td>NaN</td>\n",
       "    </tr>\n",
       "    <tr>\n",
       "      <th>3616</th>\n",
       "      <td>13616</td>\n",
       "      <td>NaN</td>\n",
       "      <td>snopes</td>\n",
       "      <td>NaN</td>\n",
       "      <td>Italian wedding soup gained its name from bein...</td>\n",
       "      <td>2013-04-16</td>\n",
       "      <td>snopes</td>\n",
       "      <td>https://www.snopes.com/fact-check/italian-wedd...</td>\n",
       "      <td>NaN</td>\n",
       "      <td>NaN</td>\n",
       "      <td>...</td>\n",
       "      <td>[{\"id\" : 531674\",\"\"begin\": 6,\"end\": 26,\"entity...</td>\n",
       "      <td>[{\"id\" : 531674\",\"\"begin\": 0,\"end\": 20,\"entity...</td>\n",
       "      <td>[]</td>\n",
       "      <td>NaN</td>\n",
       "      <td>ASP Article, kiwi banana</td>\n",
       "      <td>Italian Wedding Soup Origins</td>\n",
       "      <td>FALSE</td>\n",
       "      <td>NaN</td>\n",
       "      <td>NaN</td>\n",
       "      <td>NaN</td>\n",
       "    </tr>\n",
       "    <tr>\n",
       "      <th>4513</th>\n",
       "      <td>4513</td>\n",
       "      <td>NaN</td>\n",
       "      <td>snopes</td>\n",
       "      <td>NaN</td>\n",
       "      <td>TV host Bill Nye \"\"the Science Guy\"\" was arres...</td>\n",
       "      <td>2019-09-12</td>\n",
       "      <td>snopes</td>\n",
       "      <td>https://www.snopes.com/fact-check/bill-nye-arr...</td>\n",
       "      <td>NaN</td>\n",
       "      <td>NaN</td>\n",
       "      <td>...</td>\n",
       "      <td>[{\"id\" : 717037\",\"\"begin\": 90,\"end\": 114,\"enti...</td>\n",
       "      <td>[{\"id\" : 717037\",\"\"begin\": 8,\"end\": 32,\"entity...</td>\n",
       "      <td>[]</td>\n",
       "      <td>https://www.snopes.com/tachyon/2019/09/nye-twe...</td>\n",
       "      <td>NaN</td>\n",
       "      <td>Was TV Host Bill Nye Arrested for Manufacturin...</td>\n",
       "      <td>Labeled Satire</td>\n",
       "      <td>NaN</td>\n",
       "      <td>NaN</td>\n",
       "      <td>NaN</td>\n",
       "    </tr>\n",
       "    <tr>\n",
       "      <th>3753</th>\n",
       "      <td>13753</td>\n",
       "      <td>NaN</td>\n",
       "      <td>snopes</td>\n",
       "      <td>NaN</td>\n",
       "      <td>Family of abortion clinic owner dies when plan...</td>\n",
       "      <td>2013-01-09</td>\n",
       "      <td>snopes</td>\n",
       "      <td>https://www.snopes.com/fact-check/feldkamp-pla...</td>\n",
       "      <td>NaN</td>\n",
       "      <td>NaN</td>\n",
       "      <td>...</td>\n",
       "      <td>[{\"id\" : 765\",\"\"begin\": 16,\"end\": 24,\"entity\":...</td>\n",
       "      <td>[{\"id\" : 765\",\"\"begin\": 10,\"end\": 18,\"entity\":...</td>\n",
       "      <td>[]</td>\n",
       "      <td>http://www.fpamg.net/,http://www.findagrave.co...</td>\n",
       "      <td>ASP Article</td>\n",
       "      <td>Feldkamp Plane Crash</td>\n",
       "      <td>MIXTURE</td>\n",
       "      <td>NaN</td>\n",
       "      <td>NaN</td>\n",
       "      <td>NaN</td>\n",
       "    </tr>\n",
       "  </tbody>\n",
       "</table>\n",
       "<p>5 rows × 23 columns</p>\n",
       "</div>"
      ],
      "text/plain": [
       "         id  auteur lien_auteur  nom_auteur  \\\n",
       "3976   8976     NaN      snopes         NaN   \n",
       "3812   8812     NaN      snopes         NaN   \n",
       "3616  13616     NaN      snopes         NaN   \n",
       "4513   4513     NaN      snopes         NaN   \n",
       "3753  13753     NaN      snopes         NaN   \n",
       "\n",
       "                                   reclamation_examinee date_examination  \\\n",
       "3976  A casting call for a Latina actress to play a ...       2016-03-08   \n",
       "3812  A video featuring the \"\"Best Volleyball Blocks...       2016-03-29   \n",
       "3616  Italian wedding soup gained its name from bein...       2013-04-16   \n",
       "4513  TV host Bill Nye \"\"the Science Guy\"\" was arres...       2019-09-12   \n",
       "3753  Family of abortion clinic owner dies when plan...       2013-01-09   \n",
       "\n",
       "      source                                               lien  \\\n",
       "3976  snopes  https://www.snopes.com/fact-check/donald-trump...   \n",
       "3812  snopes  https://www.snopes.com/fact-check/volleyball-b...   \n",
       "3616  snopes  https://www.snopes.com/fact-check/italian-wedd...   \n",
       "4513  snopes  https://www.snopes.com/fact-check/bill-nye-arr...   \n",
       "3753  snopes  https://www.snopes.com/fact-check/feldkamp-pla...   \n",
       "\n",
       "     pub_nom_auteur pub_lien_auteur  ...  \\\n",
       "3976            NaN             NaN  ...   \n",
       "3812            NaN             NaN  ...   \n",
       "3616            NaN             NaN  ...   \n",
       "4513            NaN             NaN  ...   \n",
       "3753            NaN             NaN  ...   \n",
       "\n",
       "                                          extra_contenu  \\\n",
       "3976  [{\"id\" : 7529378\",\"\"begin\": 74,\"end\": 82,\"enti...   \n",
       "3812  [{\"id\" : 32558\",\"\"begin\": 293,\"end\": 303,\"enti...   \n",
       "3616  [{\"id\" : 531674\",\"\"begin\": 6,\"end\": 26,\"entity...   \n",
       "4513  [{\"id\" : 717037\",\"\"begin\": 90,\"end\": 114,\"enti...   \n",
       "3753  [{\"id\" : 765\",\"\"begin\": 16,\"end\": 24,\"entity\":...   \n",
       "\n",
       "                             extra_publication_examinée  \\\n",
       "3976  [{\"id\" : 4848272\",\"\"begin\": 46,\"end\": 58,\"enti...   \n",
       "3812  [{\"id\" : 32558\",\"\"begin\": 27,\"end\": 37,\"entity...   \n",
       "3616  [{\"id\" : 531674\",\"\"begin\": 0,\"end\": 20,\"entity...   \n",
       "4513  [{\"id\" : 717037\",\"\"begin\": 8,\"end\": 32,\"entity...   \n",
       "3753  [{\"id\" : 765\",\"\"begin\": 10,\"end\": 18,\"entity\":...   \n",
       "\n",
       "                                          extra_mot_cle  \\\n",
       "3976  [{\"id\" : 4848272\",\"\"begin\": 13,\"end\": 25,\"enti...   \n",
       "3812  [{\"id\" : 49991644\",\"\"begin\": 0,\"end\": 14,\"enti...   \n",
       "3616                                                 []   \n",
       "4513                                                 []   \n",
       "3753                                                 []   \n",
       "\n",
       "                                   extra_lien_reference  \\\n",
       "3976  https://www.facebook.com/photo.php?fbid=101534...   \n",
       "3812                                                NaN   \n",
       "3616                                                NaN   \n",
       "4513  https://www.snopes.com/tachyon/2019/09/nye-twe...   \n",
       "3753  http://www.fpamg.net/,http://www.findagrave.co...   \n",
       "\n",
       "                                   extra_tags  \\\n",
       "3976  casting call, donald trump, trump actor   \n",
       "3812                 scott sterling, studio c   \n",
       "3616                 ASP Article, kiwi banana   \n",
       "4513                                      NaN   \n",
       "3753                              ASP Article   \n",
       "\n",
       "                                            extra_titre note_nom_alternatif  \\\n",
       "3976  Donald Trump Isn’t Hiring a Latina Actress to ...             Mixture   \n",
       "3812                      ‘Best Volleyball Blocks Ever’               False   \n",
       "3616                       Italian Wedding Soup Origins               FALSE   \n",
       "4513  Was TV Host Bill Nye Arrested for Manufacturin...      Labeled Satire   \n",
       "3753                               Feldkamp Plane Crash             MIXTURE   \n",
       "\n",
       "     meilleure_note valeur_note pire_note  \n",
       "3976            NaN         NaN       NaN  \n",
       "3812            NaN         NaN       NaN  \n",
       "3616            NaN         NaN       NaN  \n",
       "4513            NaN         NaN       NaN  \n",
       "3753            NaN         NaN       NaN  \n",
       "\n",
       "[5 rows x 23 columns]"
      ]
     },
     "metadata": {},
     "output_type": "display_data"
    }
   ],
   "source": [
    "df = pd.concat([df, df2])\n",
    "df = pd.concat([df, df3])\n",
    "df = pd.concat([df, df4])\n",
    "display(df.sample(5))\n"
   ]
  },
  {
   "cell_type": "code",
   "execution_count": 4,
   "metadata": {},
   "outputs": [
    {
     "data": {
      "text/plain": [
       "(20000, 23)"
      ]
     },
     "metadata": {},
     "output_type": "display_data"
    }
   ],
   "source": [
    "display(df.shape)"
   ]
  },
  {
   "cell_type": "code",
   "execution_count": 5,
   "metadata": {},
   "outputs": [
    {
     "name": "stdout",
     "output_type": "stream",
     "text": [
      "<class 'pandas.core.frame.DataFrame'>\n",
      "Int64Index: 20000 entries, 0 to 4999\n",
      "Data columns (total 23 columns):\n",
      " #   Column                      Non-Null Count  Dtype  \n",
      "---  ------                      --------------  -----  \n",
      " 0   id                          20000 non-null  int64  \n",
      " 1   auteur                      0 non-null      float64\n",
      " 2   lien_auteur                 20000 non-null  object \n",
      " 3   nom_auteur                  0 non-null      float64\n",
      " 4   reclamation_examinee        20000 non-null  object \n",
      " 5   date_examination            19598 non-null  object \n",
      " 6   source                      20000 non-null  object \n",
      " 7   lien                        20000 non-null  object \n",
      " 8   pub_nom_auteur              1525 non-null   object \n",
      " 9   pub_lien_auteur             113 non-null    object \n",
      " 10  date_publication            1525 non-null   object \n",
      " 11  contenu                     19997 non-null  object \n",
      " 12  extra_auteur                20000 non-null  object \n",
      " 13  extra_contenu               20000 non-null  object \n",
      " 14  extra_publication_examinée  20000 non-null  object \n",
      " 15  extra_mot_cle               20000 non-null  object \n",
      " 16  extra_lien_reference        18632 non-null  object \n",
      " 17  extra_tags                  14175 non-null  object \n",
      " 18  extra_titre                 20000 non-null  object \n",
      " 19  note_nom_alternatif         19992 non-null  object \n",
      " 20  meilleure_note              203 non-null    float64\n",
      " 21  valeur_note                 203 non-null    float64\n",
      " 22  pire_note                   175 non-null    float64\n",
      "dtypes: float64(5), int64(1), object(17)\n",
      "memory usage: 2.4+ MB\n"
     ]
    },
    {
     "data": {
      "text/plain": [
       "None"
      ]
     },
     "metadata": {},
     "output_type": "display_data"
    }
   ],
   "source": [
    "display(df.info())"
   ]
  },
  {
   "cell_type": "markdown",
   "metadata": {},
   "source": [
    "On supprime toutes les colonnes qui ou toutes les lignes sont Nan "
   ]
  },
  {
   "cell_type": "code",
   "execution_count": 6,
   "metadata": {},
   "outputs": [],
   "source": [
    "del df[\"auteur\"]\n",
    "del df[\"nom_auteur\"]\n",
    "del df[\"pub_nom_auteur\"]\n",
    "del df[\"pub_lien_auteur\"]\n",
    "del df[\"date_publication\"]\n",
    "del df[\"meilleure_note\"]\n",
    "del df[\"valeur_note\"]\n",
    "del df[\"pire_note\"]"
   ]
  },
  {
   "cell_type": "code",
   "execution_count": 10,
   "metadata": {},
   "outputs": [
    {
     "data": {
      "text/html": [
       "<div>\n",
       "<style scoped>\n",
       "    .dataframe tbody tr th:only-of-type {\n",
       "        vertical-align: middle;\n",
       "    }\n",
       "\n",
       "    .dataframe tbody tr th {\n",
       "        vertical-align: top;\n",
       "    }\n",
       "\n",
       "    .dataframe thead th {\n",
       "        text-align: right;\n",
       "    }\n",
       "</style>\n",
       "<table border=\"1\" class=\"dataframe\">\n",
       "  <thead>\n",
       "    <tr style=\"text-align: right;\">\n",
       "      <th></th>\n",
       "      <th>id</th>\n",
       "      <th>lien_auteur</th>\n",
       "      <th>reclamation_examinee</th>\n",
       "      <th>date_examination</th>\n",
       "      <th>source</th>\n",
       "      <th>lien</th>\n",
       "      <th>contenu</th>\n",
       "      <th>extra_auteur</th>\n",
       "      <th>extra_contenu</th>\n",
       "      <th>extra_publication_examinée</th>\n",
       "      <th>extra_mot_cle</th>\n",
       "      <th>extra_lien_reference</th>\n",
       "      <th>extra_tags</th>\n",
       "      <th>extra_titre</th>\n",
       "      <th>note_nom_alternatif</th>\n",
       "    </tr>\n",
       "  </thead>\n",
       "  <tbody>\n",
       "    <tr>\n",
       "      <th>2573</th>\n",
       "      <td>7573</td>\n",
       "      <td>snopes</td>\n",
       "      <td>Republican nominee Donald Trump called Preside...</td>\n",
       "      <td>2016-09-01</td>\n",
       "      <td>snopes</td>\n",
       "      <td>https://www.snopes.com/fact-check/donald-trump...</td>\n",
       "      <td>It is hardly a secret that Republican presiden...</td>\n",
       "      <td>[]</td>\n",
       "      <td>[{\"id\" : 32070\",\"\"begin\": 27,\"end\": 37,\"entity...</td>\n",
       "      <td>[{\"id\" : 772738\",\"\"begin\": 0,\"end\": 10,\"entity...</td>\n",
       "      <td>[{\"id\" : 21377251\",\"\"begin\": 0,\"end\": 13,\"enti...</td>\n",
       "      <td>https://www.youtube.com/watch?v=M6DSlUCe__4,ht...</td>\n",
       "      <td>2016 election, barack obama, donald trump, ele...</td>\n",
       "      <td>Donald Trump Called President Obama a ‘Lying N...</td>\n",
       "      <td>False</td>\n",
       "    </tr>\n",
       "    <tr>\n",
       "      <th>3925</th>\n",
       "      <td>450</td>\n",
       "      <td>politifact</td>\n",
       "      <td>\"\"In two years, Gov. McAuliffe has vetoed more...</td>\n",
       "      <td>2019-10-14</td>\n",
       "      <td>politifact</td>\n",
       "      <td>http://www.politifact.com/virginia/statements/...</td>\n",
       "      <td>Gov. Terry McAuliffe is way too heavy-handed w...</td>\n",
       "      <td>[{\"id\" : 20283924\",\"\"begin\": 0,\"end\": 8,\"entit...</td>\n",
       "      <td>[{\"id\" : 17878405\",\"\"begin\": 4,\"end\": 19,\"enti...</td>\n",
       "      <td>[]</td>\n",
       "      <td>[]</td>\n",
       "      <td>http://bluevirginia.us/2016/04/video-va-house-...</td>\n",
       "      <td>Voting Record</td>\n",
       "      <td>Kirk Cox says McAuliffe has vetoed more bills ...</td>\n",
       "      <td>True</td>\n",
       "    </tr>\n",
       "    <tr>\n",
       "      <th>2351</th>\n",
       "      <td>2351</td>\n",
       "      <td>snopes</td>\n",
       "      <td>A photograph documents a scary moment when a b...</td>\n",
       "      <td>2018-07-12</td>\n",
       "      <td>snopes</td>\n",
       "      <td>https://www.snopes.com/fact-check/bear-attack-...</td>\n",
       "      <td>Images purportedly showing the moment before a...</td>\n",
       "      <td>[]</td>\n",
       "      <td>[{\"id\" : 17727\",\"\"begin\": 135,\"end\": 147,\"enti...</td>\n",
       "      <td>[]</td>\n",
       "      <td>[{\"id\" : 43355202\",\"\"begin\": 0,\"end\": 11,\"enti...</td>\n",
       "      <td>https://www.snopes.com/fact-check/self-destruc...</td>\n",
       "      <td>designcrowd, worth1000</td>\n",
       "      <td>Was This Photograph Taken Moments Before a Bea...</td>\n",
       "      <td>False</td>\n",
       "    </tr>\n",
       "    <tr>\n",
       "      <th>1718</th>\n",
       "      <td>6718</td>\n",
       "      <td>snopes</td>\n",
       "      <td>TV host Bill Nye \"\"the Science Guy\"\" was arres...</td>\n",
       "      <td>2019-09-12</td>\n",
       "      <td>snopes</td>\n",
       "      <td>https://www.snopes.com/fact-check/bill-nye-arr...</td>\n",
       "      <td>In September 2019, a years-old rumor started s...</td>\n",
       "      <td>[]</td>\n",
       "      <td>[{\"id\" : 717037\",\"\"begin\": 90,\"end\": 114,\"enti...</td>\n",
       "      <td>[{\"id\" : 717037\",\"\"begin\": 8,\"end\": 32,\"entity...</td>\n",
       "      <td>[]</td>\n",
       "      <td>https://www.snopes.com/tachyon/2019/09/nye-twe...</td>\n",
       "      <td>NaN</td>\n",
       "      <td>Was TV Host Bill Nye Arrested for Manufacturin...</td>\n",
       "      <td>Labeled Satire</td>\n",
       "    </tr>\n",
       "    <tr>\n",
       "      <th>2599</th>\n",
       "      <td>2599</td>\n",
       "      <td>snopes</td>\n",
       "      <td>State Farm insurance will not offer insurance ...</td>\n",
       "      <td>2018-05-31</td>\n",
       "      <td>snopes</td>\n",
       "      <td>https://www.snopes.com/fact-check/is-state-far...</td>\n",
       "      <td>Though some gun owners have accused State Farm...</td>\n",
       "      <td>[]</td>\n",
       "      <td>[{\"id\" : 810859\",\"\"begin\": 36,\"end\": 56,\"entit...</td>\n",
       "      <td>[{\"id\" : 810859\",\"\"begin\": 0,\"end\": 20,\"entity...</td>\n",
       "      <td>[{\"id\" : 450957\",\"\"begin\": 0,\"end\": 10,\"entity...</td>\n",
       "      <td>https://www.snopes.com/tachyon/2018/05/State-F...</td>\n",
       "      <td>gun rights, guns, nra, state farm</td>\n",
       "      <td>Is State Farm Denying Insurance to Gun Owners?</td>\n",
       "      <td>Mostly False</td>\n",
       "    </tr>\n",
       "    <tr>\n",
       "      <th>4875</th>\n",
       "      <td>14875</td>\n",
       "      <td>snopes</td>\n",
       "      <td>NASA and NOAA faked climate data in the GISTEM...</td>\n",
       "      <td>2019-10-03</td>\n",
       "      <td>snopes</td>\n",
       "      <td>https://www.snopes.com/fact-check/global-warmi...</td>\n",
       "      <td>Since 2014, climate-change deniers have squeez...</td>\n",
       "      <td>[]</td>\n",
       "      <td>[{\"id\" : 7529378\",\"\"begin\": 65,\"end\": 73,\"enti...</td>\n",
       "      <td>[{\"id\" : 18426568\",\"\"begin\": 0,\"end\": 4,\"entit...</td>\n",
       "      <td>[]</td>\n",
       "      <td>https://www.buzzfeednews.com/article/stephanie...</td>\n",
       "      <td>NaN</td>\n",
       "      <td>Was Global Warming Data ‘Faked’ to ‘Fit Climat...</td>\n",
       "      <td>False</td>\n",
       "    </tr>\n",
       "    <tr>\n",
       "      <th>737</th>\n",
       "      <td>5737</td>\n",
       "      <td>snopes</td>\n",
       "      <td>President Donald Trump cut funding for the vet...</td>\n",
       "      <td>2017-03-13</td>\n",
       "      <td>snopes</td>\n",
       "      <td>https://www.snopes.com/fact-check/veterans-sui...</td>\n",
       "      <td>On 11 March 2017, the web site The Satira Trib...</td>\n",
       "      <td>[]</td>\n",
       "      <td>[{\"id\" : 4848272\",\"\"begin\": 95,\"end\": 107,\"ent...</td>\n",
       "      <td>[{\"id\" : 4848272\",\"\"begin\": 10,\"end\": 22,\"enti...</td>\n",
       "      <td>[{\"id\" : 4848272\",\"\"begin\": 0,\"end\": 12,\"entit...</td>\n",
       "      <td>http://www.snopes.com/2016/01/14/fake-news-sit...</td>\n",
       "      <td>donald trump, satira tribune</td>\n",
       "      <td>Trump Cuts Veteran Suicide Hotline Funding?</td>\n",
       "      <td>False</td>\n",
       "    </tr>\n",
       "    <tr>\n",
       "      <th>2701</th>\n",
       "      <td>12701</td>\n",
       "      <td>snopes</td>\n",
       "      <td>TV host Bill Nye \"\"the Science Guy\"\" was arres...</td>\n",
       "      <td>2019-09-12</td>\n",
       "      <td>snopes</td>\n",
       "      <td>https://www.snopes.com/fact-check/bill-nye-arr...</td>\n",
       "      <td>In September 2019, a years-old rumor started s...</td>\n",
       "      <td>[]</td>\n",
       "      <td>[{\"id\" : 717037\",\"\"begin\": 90,\"end\": 114,\"enti...</td>\n",
       "      <td>[{\"id\" : 717037\",\"\"begin\": 8,\"end\": 32,\"entity...</td>\n",
       "      <td>[]</td>\n",
       "      <td>https://www.snopes.com/tachyon/2019/09/nye-twe...</td>\n",
       "      <td>NaN</td>\n",
       "      <td>Was TV Host Bill Nye Arrested for Manufacturin...</td>\n",
       "      <td>Labeled Satire</td>\n",
       "    </tr>\n",
       "    <tr>\n",
       "      <th>895</th>\n",
       "      <td>15895</td>\n",
       "      <td>snopes</td>\n",
       "      <td>Car thieves at the Deerbrook Mall place basket...</td>\n",
       "      <td>2009-05-07</td>\n",
       "      <td>snopes</td>\n",
       "      <td>https://www.snopes.com/fact-check/basket-cases/</td>\n",
       "      <td>Claim:   Car thieves at the Deerbrook Mall pla...</td>\n",
       "      <td>[]</td>\n",
       "      <td>[{\"id\" : 20943264\",\"\"begin\": 25,\"end\": 39,\"ent...</td>\n",
       "      <td>[{\"id\" : 20943264\",\"\"begin\": 19,\"end\": 33,\"ent...</td>\n",
       "      <td>[]</td>\n",
       "      <td>/crime/warnings/puncture.asp,/crime/warnings/s...</td>\n",
       "      <td>ASP Article, crime warnings</td>\n",
       "      <td>Baskets Under Cars at Deerbrook Mall</td>\n",
       "      <td>FALSE</td>\n",
       "    </tr>\n",
       "    <tr>\n",
       "      <th>1802</th>\n",
       "      <td>16802</td>\n",
       "      <td>snopes</td>\n",
       "      <td>Monica Lewinsky offered to \"\"take one for (the...</td>\n",
       "      <td>2019-10-04</td>\n",
       "      <td>snopes</td>\n",
       "      <td>https://www.snopes.com/fact-check/monica-lewin...</td>\n",
       "      <td>On Oct. 3, 2019, an image supposedly showing a...</td>\n",
       "      <td>[]</td>\n",
       "      <td>[{\"id\" : 19948\",\"\"begin\": 55,\"end\": 70,\"entity...</td>\n",
       "      <td>[{\"id\" : 19948\",\"\"begin\": 0,\"end\": 15,\"entity\"...</td>\n",
       "      <td>[]</td>\n",
       "      <td>https://www.snopes.com/tachyon/2019/10/monica-...</td>\n",
       "      <td>NaN</td>\n",
       "      <td>Did Monica Lewinsky Offer to ‘Take One For (th...</td>\n",
       "      <td>False</td>\n",
       "    </tr>\n",
       "    <tr>\n",
       "      <th>3681</th>\n",
       "      <td>206</td>\n",
       "      <td>politifact</td>\n",
       "      <td>What Republicans call the \"\"death tax\"\" is the...</td>\n",
       "      <td>2019-10-11</td>\n",
       "      <td>politifact</td>\n",
       "      <td>http://www.politifact.com/wisconsin/statements...</td>\n",
       "      <td>Ripping the sweeping tax reforms pushed by Pre...</td>\n",
       "      <td>[{\"id\" : 6950063\",\"\"begin\": 0,\"end\": 10,\"entit...</td>\n",
       "      <td>[{\"id\" : 4848272\",\"\"begin\": 53,\"end\": 65,\"enti...</td>\n",
       "      <td>[{\"id\" : 19279011\",\"\"begin\": 26,\"end\": 35,\"ent...</td>\n",
       "      <td>[]</td>\n",
       "      <td>https://www.nytimes.com/2017/09/27/us/politics...</td>\n",
       "      <td>Income,Taxes,Wealth</td>\n",
       "      <td>'Death tax' that Republicans want to repeal is...</td>\n",
       "      <td>True</td>\n",
       "    </tr>\n",
       "    <tr>\n",
       "      <th>1358</th>\n",
       "      <td>1358</td>\n",
       "      <td>snopes</td>\n",
       "      <td>Videos have captured strange apocalyptic sound...</td>\n",
       "      <td>2015-04-30</td>\n",
       "      <td>snopes</td>\n",
       "      <td>https://www.snopes.com/fact-check/the-sound-of...</td>\n",
       "      <td>On 10 April 2015, the web site Latin Post shar...</td>\n",
       "      <td>[]</td>\n",
       "      <td>[{\"id\" : 3524766\",\"\"begin\": 205,\"end\": 212,\"en...</td>\n",
       "      <td>[]</td>\n",
       "      <td>[]</td>\n",
       "      <td>http://www.latinospost.com/articles/58418/2015...</td>\n",
       "      <td>supernatural</td>\n",
       "      <td>The Sound of Apocalypse</td>\n",
       "      <td>Mixture</td>\n",
       "    </tr>\n",
       "    <tr>\n",
       "      <th>2989</th>\n",
       "      <td>17989</td>\n",
       "      <td>snopes</td>\n",
       "      <td>A mother tiger at a California zoo nursed a gr...</td>\n",
       "      <td>2006-06-01</td>\n",
       "      <td>snopes</td>\n",
       "      <td>https://www.snopes.com/fact-check/tiger-and-pi...</td>\n",
       "      <td>As often happens, an item about a tiger’s nurs...</td>\n",
       "      <td>[]</td>\n",
       "      <td>[{\"id\" : 26121925\",\"\"begin\": 677,\"end\": 689,\"e...</td>\n",
       "      <td>[]</td>\n",
       "      <td>[]</td>\n",
       "      <td>http://www.tigerzoo.com/,http://www.awionline....</td>\n",
       "      <td>animals</td>\n",
       "      <td>Do These Photographs Show a Tiger Nursing Pigl...</td>\n",
       "      <td>Miscaptioned</td>\n",
       "    </tr>\n",
       "    <tr>\n",
       "      <th>3238</th>\n",
       "      <td>13238</td>\n",
       "      <td>snopes</td>\n",
       "      <td>The scene in which Brandon Lee was fatally wou...</td>\n",
       "      <td>2012-06-26</td>\n",
       "      <td>snopes</td>\n",
       "      <td>https://www.snopes.com/fact-check/brandon-lee/</td>\n",
       "      <td>Claim:   The scene in which Brandon Lee was fa...</td>\n",
       "      <td>[]</td>\n",
       "      <td>[{\"id\" : 208160\",\"\"begin\": 25,\"end\": 36,\"entit...</td>\n",
       "      <td>[{\"id\" : 208160\",\"\"begin\": 19,\"end\": 30,\"entit...</td>\n",
       "      <td>[]</td>\n",
       "      <td>http://us.imdb.com/title/tt0109506/combined</td>\n",
       "      <td>Actors, ASP Article, Movies</td>\n",
       "      <td>Brandon Lee’s Death in ‘The Crow’</td>\n",
       "      <td>FALSE</td>\n",
       "    </tr>\n",
       "    <tr>\n",
       "      <th>2246</th>\n",
       "      <td>12246</td>\n",
       "      <td>snopes</td>\n",
       "      <td>A Congressional bill sought to add FDR's D-Day...</td>\n",
       "      <td>2011-12-06</td>\n",
       "      <td>snopes</td>\n",
       "      <td>https://www.snopes.com/fact-check/d-day-prayer/</td>\n",
       "      <td>On the evening 5 June 1944, U.S. President Fra...</td>\n",
       "      <td>[]</td>\n",
       "      <td>[{\"id\" : 24807244\",\"\"begin\": 22,\"end\": 29,\"ent...</td>\n",
       "      <td>[{\"id\" : 252854\",\"\"begin\": 41,\"end\": 45,\"entit...</td>\n",
       "      <td>[{\"id\" : 534366\",\"\"begin\": 0,\"end\": 12,\"entity...</td>\n",
       "      <td>https://www.youtube.com/watch?v=8-weBUzQleo,ht...</td>\n",
       "      <td>barack obama, FDR, world war ii</td>\n",
       "      <td>Did Obama Prevent FDR’s D-Day Prayer from Bein...</td>\n",
       "      <td>Mixture</td>\n",
       "    </tr>\n",
       "    <tr>\n",
       "      <th>4146</th>\n",
       "      <td>671</td>\n",
       "      <td>politifact</td>\n",
       "      <td>\"\"There are countries in Africa where they hav...</td>\n",
       "      <td>2015-02-08</td>\n",
       "      <td>politifact</td>\n",
       "      <td>http://www.politifact.com/punditfact/statement...</td>\n",
       "      <td>Sunday show talking heads continued to debate ...</td>\n",
       "      <td>[{\"id\" : 11435717\",\"\"begin\": 0,\"end\": 9,\"entit...</td>\n",
       "      <td>[{\"id\" : 30456\",\"\"begin\": 12,\"end\": 25,\"entity...</td>\n",
       "      <td>[]</td>\n",
       "      <td>[{\"id\" : 261925\",\"\"begin\": 0,\"end\": 11,\"entity...</td>\n",
       "      <td>https://www.politifact.com/punditfact/statemen...</td>\n",
       "      <td>Health Care,Public Health</td>\n",
       "      <td>Katty Kay: Countries in Africa 'have higher va...</td>\n",
       "      <td>True</td>\n",
       "    </tr>\n",
       "    <tr>\n",
       "      <th>3713</th>\n",
       "      <td>8713</td>\n",
       "      <td>snopes</td>\n",
       "      <td>A supporter of U.S. Rep. Alexandria Ocasio-Cor...</td>\n",
       "      <td>2019-10-04</td>\n",
       "      <td>snopes</td>\n",
       "      <td>https://www.snopes.com/fact-check/babies-clima...</td>\n",
       "      <td>An Oct. 3, 2019, town hall event in New York C...</td>\n",
       "      <td>[]</td>\n",
       "      <td>[{\"id\" : 645042\",\"\"begin\": 33,\"end\": 46,\"entit...</td>\n",
       "      <td>[{\"id\" : 54885332\",\"\"begin\": 22,\"end\": 45,\"ent...</td>\n",
       "      <td>[]</td>\n",
       "      <td>https://twitter.com/redsteeze/status/117991491...</td>\n",
       "      <td>NaN</td>\n",
       "      <td>Did an AOC Supporter Suggest ‘Eating Babies’ t...</td>\n",
       "      <td>Mixture</td>\n",
       "    </tr>\n",
       "    <tr>\n",
       "      <th>4870</th>\n",
       "      <td>9870</td>\n",
       "      <td>snopes</td>\n",
       "      <td>A supporter of U.S. Rep. Alexandria Ocasio-Cor...</td>\n",
       "      <td>2019-10-04</td>\n",
       "      <td>snopes</td>\n",
       "      <td>https://www.snopes.com/fact-check/babies-clima...</td>\n",
       "      <td>An Oct. 3, 2019, town hall event in New York C...</td>\n",
       "      <td>[]</td>\n",
       "      <td>[{\"id\" : 645042\",\"\"begin\": 33,\"end\": 46,\"entit...</td>\n",
       "      <td>[{\"id\" : 54885332\",\"\"begin\": 22,\"end\": 45,\"ent...</td>\n",
       "      <td>[]</td>\n",
       "      <td>https://twitter.com/redsteeze/status/117991491...</td>\n",
       "      <td>NaN</td>\n",
       "      <td>Did an AOC Supporter Suggest ‘Eating Babies’ t...</td>\n",
       "      <td>Mixture</td>\n",
       "    </tr>\n",
       "    <tr>\n",
       "      <th>475</th>\n",
       "      <td>5475</td>\n",
       "      <td>snopes</td>\n",
       "      <td>Eric Trump said his father planned to \"\"cancel...</td>\n",
       "      <td>NaN</td>\n",
       "      <td>snopes</td>\n",
       "      <td>https://www.snopes.com/fact-check/eric-trump-c...</td>\n",
       "      <td>On 16 April 2017 Politicalo.com published an a...</td>\n",
       "      <td>[]</td>\n",
       "      <td>[{\"id\" : 8095589\",\"\"begin\": 89,\"end\": 99,\"enti...</td>\n",
       "      <td>[{\"id\" : 8095589\",\"\"begin\": 0,\"end\": 10,\"entit...</td>\n",
       "      <td>[{\"id\" : 8095589\",\"\"begin\": 16,\"end\": 26,\"enti...</td>\n",
       "      <td>http://www.snopes.com/tag/politicalo,https://a...</td>\n",
       "      <td>democratic moms, eric trump, newslo, political...</td>\n",
       "      <td>Did Eric Trump Say His Father Would Cancel Tax...</td>\n",
       "      <td>False</td>\n",
       "    </tr>\n",
       "    <tr>\n",
       "      <th>4533</th>\n",
       "      <td>1058</td>\n",
       "      <td>politifact</td>\n",
       "      <td>\"\"In 2011 alone, 269 New Jerseyans were killed...</td>\n",
       "      <td>2019-10-13</td>\n",
       "      <td>politifact</td>\n",
       "      <td>http://www.politifact.com/new-jersey/statement...</td>\n",
       "      <td>More than 250 people in New Jersey died in 201...</td>\n",
       "      <td>[{\"id\" : 2917700\",\"\"begin\": 0,\"end\": 13,\"entit...</td>\n",
       "      <td>[{\"id\" : 2917700\",\"\"begin\": 98,\"end\": 111,\"ent...</td>\n",
       "      <td>[]</td>\n",
       "      <td>[]</td>\n",
       "      <td>http://www.nj.com/news/index.ssf/2013/03/polit...</td>\n",
       "      <td>Guns</td>\n",
       "      <td>Sheila Oliver claims gun violence killed 269 p...</td>\n",
       "      <td>True</td>\n",
       "    </tr>\n",
       "  </tbody>\n",
       "</table>\n",
       "</div>"
      ],
      "text/plain": [
       "         id lien_auteur                               reclamation_examinee  \\\n",
       "2573   7573      snopes  Republican nominee Donald Trump called Preside...   \n",
       "3925    450  politifact  \"\"In two years, Gov. McAuliffe has vetoed more...   \n",
       "2351   2351      snopes  A photograph documents a scary moment when a b...   \n",
       "1718   6718      snopes  TV host Bill Nye \"\"the Science Guy\"\" was arres...   \n",
       "2599   2599      snopes  State Farm insurance will not offer insurance ...   \n",
       "4875  14875      snopes  NASA and NOAA faked climate data in the GISTEM...   \n",
       "737    5737      snopes  President Donald Trump cut funding for the vet...   \n",
       "2701  12701      snopes  TV host Bill Nye \"\"the Science Guy\"\" was arres...   \n",
       "895   15895      snopes  Car thieves at the Deerbrook Mall place basket...   \n",
       "1802  16802      snopes  Monica Lewinsky offered to \"\"take one for (the...   \n",
       "3681    206  politifact  What Republicans call the \"\"death tax\"\" is the...   \n",
       "1358   1358      snopes  Videos have captured strange apocalyptic sound...   \n",
       "2989  17989      snopes  A mother tiger at a California zoo nursed a gr...   \n",
       "3238  13238      snopes  The scene in which Brandon Lee was fatally wou...   \n",
       "2246  12246      snopes  A Congressional bill sought to add FDR's D-Day...   \n",
       "4146    671  politifact  \"\"There are countries in Africa where they hav...   \n",
       "3713   8713      snopes  A supporter of U.S. Rep. Alexandria Ocasio-Cor...   \n",
       "4870   9870      snopes  A supporter of U.S. Rep. Alexandria Ocasio-Cor...   \n",
       "475    5475      snopes  Eric Trump said his father planned to \"\"cancel...   \n",
       "4533   1058  politifact  \"\"In 2011 alone, 269 New Jerseyans were killed...   \n",
       "\n",
       "     date_examination      source  \\\n",
       "2573       2016-09-01      snopes   \n",
       "3925       2019-10-14  politifact   \n",
       "2351       2018-07-12      snopes   \n",
       "1718       2019-09-12      snopes   \n",
       "2599       2018-05-31      snopes   \n",
       "4875       2019-10-03      snopes   \n",
       "737        2017-03-13      snopes   \n",
       "2701       2019-09-12      snopes   \n",
       "895        2009-05-07      snopes   \n",
       "1802       2019-10-04      snopes   \n",
       "3681       2019-10-11  politifact   \n",
       "1358       2015-04-30      snopes   \n",
       "2989       2006-06-01      snopes   \n",
       "3238       2012-06-26      snopes   \n",
       "2246       2011-12-06      snopes   \n",
       "4146       2015-02-08  politifact   \n",
       "3713       2019-10-04      snopes   \n",
       "4870       2019-10-04      snopes   \n",
       "475               NaN      snopes   \n",
       "4533       2019-10-13  politifact   \n",
       "\n",
       "                                                   lien  \\\n",
       "2573  https://www.snopes.com/fact-check/donald-trump...   \n",
       "3925  http://www.politifact.com/virginia/statements/...   \n",
       "2351  https://www.snopes.com/fact-check/bear-attack-...   \n",
       "1718  https://www.snopes.com/fact-check/bill-nye-arr...   \n",
       "2599  https://www.snopes.com/fact-check/is-state-far...   \n",
       "4875  https://www.snopes.com/fact-check/global-warmi...   \n",
       "737   https://www.snopes.com/fact-check/veterans-sui...   \n",
       "2701  https://www.snopes.com/fact-check/bill-nye-arr...   \n",
       "895     https://www.snopes.com/fact-check/basket-cases/   \n",
       "1802  https://www.snopes.com/fact-check/monica-lewin...   \n",
       "3681  http://www.politifact.com/wisconsin/statements...   \n",
       "1358  https://www.snopes.com/fact-check/the-sound-of...   \n",
       "2989  https://www.snopes.com/fact-check/tiger-and-pi...   \n",
       "3238     https://www.snopes.com/fact-check/brandon-lee/   \n",
       "2246    https://www.snopes.com/fact-check/d-day-prayer/   \n",
       "4146  http://www.politifact.com/punditfact/statement...   \n",
       "3713  https://www.snopes.com/fact-check/babies-clima...   \n",
       "4870  https://www.snopes.com/fact-check/babies-clima...   \n",
       "475   https://www.snopes.com/fact-check/eric-trump-c...   \n",
       "4533  http://www.politifact.com/new-jersey/statement...   \n",
       "\n",
       "                                                contenu  \\\n",
       "2573  It is hardly a secret that Republican presiden...   \n",
       "3925  Gov. Terry McAuliffe is way too heavy-handed w...   \n",
       "2351  Images purportedly showing the moment before a...   \n",
       "1718  In September 2019, a years-old rumor started s...   \n",
       "2599  Though some gun owners have accused State Farm...   \n",
       "4875  Since 2014, climate-change deniers have squeez...   \n",
       "737   On 11 March 2017, the web site The Satira Trib...   \n",
       "2701  In September 2019, a years-old rumor started s...   \n",
       "895   Claim:   Car thieves at the Deerbrook Mall pla...   \n",
       "1802  On Oct. 3, 2019, an image supposedly showing a...   \n",
       "3681  Ripping the sweeping tax reforms pushed by Pre...   \n",
       "1358  On 10 April 2015, the web site Latin Post shar...   \n",
       "2989  As often happens, an item about a tiger’s nurs...   \n",
       "3238  Claim:   The scene in which Brandon Lee was fa...   \n",
       "2246  On the evening 5 June 1944, U.S. President Fra...   \n",
       "4146  Sunday show talking heads continued to debate ...   \n",
       "3713  An Oct. 3, 2019, town hall event in New York C...   \n",
       "4870  An Oct. 3, 2019, town hall event in New York C...   \n",
       "475   On 16 April 2017 Politicalo.com published an a...   \n",
       "4533  More than 250 people in New Jersey died in 201...   \n",
       "\n",
       "                                           extra_auteur  \\\n",
       "2573                                                 []   \n",
       "3925  [{\"id\" : 20283924\",\"\"begin\": 0,\"end\": 8,\"entit...   \n",
       "2351                                                 []   \n",
       "1718                                                 []   \n",
       "2599                                                 []   \n",
       "4875                                                 []   \n",
       "737                                                  []   \n",
       "2701                                                 []   \n",
       "895                                                  []   \n",
       "1802                                                 []   \n",
       "3681  [{\"id\" : 6950063\",\"\"begin\": 0,\"end\": 10,\"entit...   \n",
       "1358                                                 []   \n",
       "2989                                                 []   \n",
       "3238                                                 []   \n",
       "2246                                                 []   \n",
       "4146  [{\"id\" : 11435717\",\"\"begin\": 0,\"end\": 9,\"entit...   \n",
       "3713                                                 []   \n",
       "4870                                                 []   \n",
       "475                                                  []   \n",
       "4533  [{\"id\" : 2917700\",\"\"begin\": 0,\"end\": 13,\"entit...   \n",
       "\n",
       "                                          extra_contenu  \\\n",
       "2573  [{\"id\" : 32070\",\"\"begin\": 27,\"end\": 37,\"entity...   \n",
       "3925  [{\"id\" : 17878405\",\"\"begin\": 4,\"end\": 19,\"enti...   \n",
       "2351  [{\"id\" : 17727\",\"\"begin\": 135,\"end\": 147,\"enti...   \n",
       "1718  [{\"id\" : 717037\",\"\"begin\": 90,\"end\": 114,\"enti...   \n",
       "2599  [{\"id\" : 810859\",\"\"begin\": 36,\"end\": 56,\"entit...   \n",
       "4875  [{\"id\" : 7529378\",\"\"begin\": 65,\"end\": 73,\"enti...   \n",
       "737   [{\"id\" : 4848272\",\"\"begin\": 95,\"end\": 107,\"ent...   \n",
       "2701  [{\"id\" : 717037\",\"\"begin\": 90,\"end\": 114,\"enti...   \n",
       "895   [{\"id\" : 20943264\",\"\"begin\": 25,\"end\": 39,\"ent...   \n",
       "1802  [{\"id\" : 19948\",\"\"begin\": 55,\"end\": 70,\"entity...   \n",
       "3681  [{\"id\" : 4848272\",\"\"begin\": 53,\"end\": 65,\"enti...   \n",
       "1358  [{\"id\" : 3524766\",\"\"begin\": 205,\"end\": 212,\"en...   \n",
       "2989  [{\"id\" : 26121925\",\"\"begin\": 677,\"end\": 689,\"e...   \n",
       "3238  [{\"id\" : 208160\",\"\"begin\": 25,\"end\": 36,\"entit...   \n",
       "2246  [{\"id\" : 24807244\",\"\"begin\": 22,\"end\": 29,\"ent...   \n",
       "4146  [{\"id\" : 30456\",\"\"begin\": 12,\"end\": 25,\"entity...   \n",
       "3713  [{\"id\" : 645042\",\"\"begin\": 33,\"end\": 46,\"entit...   \n",
       "4870  [{\"id\" : 645042\",\"\"begin\": 33,\"end\": 46,\"entit...   \n",
       "475   [{\"id\" : 8095589\",\"\"begin\": 89,\"end\": 99,\"enti...   \n",
       "4533  [{\"id\" : 2917700\",\"\"begin\": 98,\"end\": 111,\"ent...   \n",
       "\n",
       "                             extra_publication_examinée  \\\n",
       "2573  [{\"id\" : 772738\",\"\"begin\": 0,\"end\": 10,\"entity...   \n",
       "3925                                                 []   \n",
       "2351                                                 []   \n",
       "1718  [{\"id\" : 717037\",\"\"begin\": 8,\"end\": 32,\"entity...   \n",
       "2599  [{\"id\" : 810859\",\"\"begin\": 0,\"end\": 20,\"entity...   \n",
       "4875  [{\"id\" : 18426568\",\"\"begin\": 0,\"end\": 4,\"entit...   \n",
       "737   [{\"id\" : 4848272\",\"\"begin\": 10,\"end\": 22,\"enti...   \n",
       "2701  [{\"id\" : 717037\",\"\"begin\": 8,\"end\": 32,\"entity...   \n",
       "895   [{\"id\" : 20943264\",\"\"begin\": 19,\"end\": 33,\"ent...   \n",
       "1802  [{\"id\" : 19948\",\"\"begin\": 0,\"end\": 15,\"entity\"...   \n",
       "3681  [{\"id\" : 19279011\",\"\"begin\": 26,\"end\": 35,\"ent...   \n",
       "1358                                                 []   \n",
       "2989                                                 []   \n",
       "3238  [{\"id\" : 208160\",\"\"begin\": 19,\"end\": 30,\"entit...   \n",
       "2246  [{\"id\" : 252854\",\"\"begin\": 41,\"end\": 45,\"entit...   \n",
       "4146                                                 []   \n",
       "3713  [{\"id\" : 54885332\",\"\"begin\": 22,\"end\": 45,\"ent...   \n",
       "4870  [{\"id\" : 54885332\",\"\"begin\": 22,\"end\": 45,\"ent...   \n",
       "475   [{\"id\" : 8095589\",\"\"begin\": 0,\"end\": 10,\"entit...   \n",
       "4533                                                 []   \n",
       "\n",
       "                                          extra_mot_cle  \\\n",
       "2573  [{\"id\" : 21377251\",\"\"begin\": 0,\"end\": 13,\"enti...   \n",
       "3925                                                 []   \n",
       "2351  [{\"id\" : 43355202\",\"\"begin\": 0,\"end\": 11,\"enti...   \n",
       "1718                                                 []   \n",
       "2599  [{\"id\" : 450957\",\"\"begin\": 0,\"end\": 10,\"entity...   \n",
       "4875                                                 []   \n",
       "737   [{\"id\" : 4848272\",\"\"begin\": 0,\"end\": 12,\"entit...   \n",
       "2701                                                 []   \n",
       "895                                                  []   \n",
       "1802                                                 []   \n",
       "3681                                                 []   \n",
       "1358                                                 []   \n",
       "2989                                                 []   \n",
       "3238                                                 []   \n",
       "2246  [{\"id\" : 534366\",\"\"begin\": 0,\"end\": 12,\"entity...   \n",
       "4146  [{\"id\" : 261925\",\"\"begin\": 0,\"end\": 11,\"entity...   \n",
       "3713                                                 []   \n",
       "4870                                                 []   \n",
       "475   [{\"id\" : 8095589\",\"\"begin\": 16,\"end\": 26,\"enti...   \n",
       "4533                                                 []   \n",
       "\n",
       "                                   extra_lien_reference  \\\n",
       "2573  https://www.youtube.com/watch?v=M6DSlUCe__4,ht...   \n",
       "3925  http://bluevirginia.us/2016/04/video-va-house-...   \n",
       "2351  https://www.snopes.com/fact-check/self-destruc...   \n",
       "1718  https://www.snopes.com/tachyon/2019/09/nye-twe...   \n",
       "2599  https://www.snopes.com/tachyon/2018/05/State-F...   \n",
       "4875  https://www.buzzfeednews.com/article/stephanie...   \n",
       "737   http://www.snopes.com/2016/01/14/fake-news-sit...   \n",
       "2701  https://www.snopes.com/tachyon/2019/09/nye-twe...   \n",
       "895   /crime/warnings/puncture.asp,/crime/warnings/s...   \n",
       "1802  https://www.snopes.com/tachyon/2019/10/monica-...   \n",
       "3681  https://www.nytimes.com/2017/09/27/us/politics...   \n",
       "1358  http://www.latinospost.com/articles/58418/2015...   \n",
       "2989  http://www.tigerzoo.com/,http://www.awionline....   \n",
       "3238        http://us.imdb.com/title/tt0109506/combined   \n",
       "2246  https://www.youtube.com/watch?v=8-weBUzQleo,ht...   \n",
       "4146  https://www.politifact.com/punditfact/statemen...   \n",
       "3713  https://twitter.com/redsteeze/status/117991491...   \n",
       "4870  https://twitter.com/redsteeze/status/117991491...   \n",
       "475   http://www.snopes.com/tag/politicalo,https://a...   \n",
       "4533  http://www.nj.com/news/index.ssf/2013/03/polit...   \n",
       "\n",
       "                                             extra_tags  \\\n",
       "2573  2016 election, barack obama, donald trump, ele...   \n",
       "3925                                      Voting Record   \n",
       "2351                             designcrowd, worth1000   \n",
       "1718                                                NaN   \n",
       "2599                  gun rights, guns, nra, state farm   \n",
       "4875                                                NaN   \n",
       "737                        donald trump, satira tribune   \n",
       "2701                                                NaN   \n",
       "895                         ASP Article, crime warnings   \n",
       "1802                                                NaN   \n",
       "3681                                Income,Taxes,Wealth   \n",
       "1358                                       supernatural   \n",
       "2989                                            animals   \n",
       "3238                        Actors, ASP Article, Movies   \n",
       "2246                    barack obama, FDR, world war ii   \n",
       "4146                          Health Care,Public Health   \n",
       "3713                                                NaN   \n",
       "4870                                                NaN   \n",
       "475   democratic moms, eric trump, newslo, political...   \n",
       "4533                                               Guns   \n",
       "\n",
       "                                            extra_titre note_nom_alternatif  \n",
       "2573  Donald Trump Called President Obama a ‘Lying N...               False  \n",
       "3925  Kirk Cox says McAuliffe has vetoed more bills ...                True  \n",
       "2351  Was This Photograph Taken Moments Before a Bea...               False  \n",
       "1718  Was TV Host Bill Nye Arrested for Manufacturin...      Labeled Satire  \n",
       "2599     Is State Farm Denying Insurance to Gun Owners?        Mostly False  \n",
       "4875  Was Global Warming Data ‘Faked’ to ‘Fit Climat...               False  \n",
       "737         Trump Cuts Veteran Suicide Hotline Funding?               False  \n",
       "2701  Was TV Host Bill Nye Arrested for Manufacturin...      Labeled Satire  \n",
       "895                Baskets Under Cars at Deerbrook Mall               FALSE  \n",
       "1802  Did Monica Lewinsky Offer to ‘Take One For (th...               False  \n",
       "3681  'Death tax' that Republicans want to repeal is...                True  \n",
       "1358                            The Sound of Apocalypse             Mixture  \n",
       "2989  Do These Photographs Show a Tiger Nursing Pigl...        Miscaptioned  \n",
       "3238                  Brandon Lee’s Death in ‘The Crow’               FALSE  \n",
       "2246  Did Obama Prevent FDR’s D-Day Prayer from Bein...             Mixture  \n",
       "4146  Katty Kay: Countries in Africa 'have higher va...                True  \n",
       "3713  Did an AOC Supporter Suggest ‘Eating Babies’ t...             Mixture  \n",
       "4870  Did an AOC Supporter Suggest ‘Eating Babies’ t...             Mixture  \n",
       "475   Did Eric Trump Say His Father Would Cancel Tax...               False  \n",
       "4533  Sheila Oliver claims gun violence killed 269 p...                True  "
      ]
     },
     "metadata": {},
     "output_type": "display_data"
    }
   ],
   "source": [
    "display(df.sample(5))"
   ]
  },
  {
   "cell_type": "markdown",
   "metadata": {},
   "source": [
    "Nouveau nombre de lignes et colonnes "
   ]
  },
  {
   "cell_type": "code",
   "execution_count": 8,
   "metadata": {},
   "outputs": [
    {
     "data": {
      "text/plain": [
       "(20000, 15)"
      ]
     },
     "metadata": {},
     "output_type": "display_data"
    }
   ],
   "source": [
    "display(df.shape)"
   ]
  },
  {
   "cell_type": "code",
   "execution_count": 9,
   "metadata": {},
   "outputs": [
    {
     "name": "stdout",
     "output_type": "stream",
     "text": [
      "<class 'pandas.core.frame.DataFrame'>\n",
      "Int64Index: 20000 entries, 0 to 4999\n",
      "Data columns (total 15 columns):\n",
      " #   Column                      Non-Null Count  Dtype \n",
      "---  ------                      --------------  ----- \n",
      " 0   id                          20000 non-null  int64 \n",
      " 1   lien_auteur                 20000 non-null  object\n",
      " 2   reclamation_examinee        20000 non-null  object\n",
      " 3   date_examination            19598 non-null  object\n",
      " 4   source                      20000 non-null  object\n",
      " 5   lien                        20000 non-null  object\n",
      " 6   contenu                     19997 non-null  object\n",
      " 7   extra_auteur                20000 non-null  object\n",
      " 8   extra_contenu               20000 non-null  object\n",
      " 9   extra_publication_examinée  20000 non-null  object\n",
      " 10  extra_mot_cle               20000 non-null  object\n",
      " 11  extra_lien_reference        18632 non-null  object\n",
      " 12  extra_tags                  14175 non-null  object\n",
      " 13  extra_titre                 20000 non-null  object\n",
      " 14  note_nom_alternatif         19992 non-null  object\n",
      "dtypes: int64(1), object(14)\n",
      "memory usage: 1.4+ MB\n",
      "None\n"
     ]
    }
   ],
   "source": [
    "print(df.info())"
   ]
  },
  {
   "cell_type": "code",
   "execution_count": 12,
   "metadata": {},
   "outputs": [
    {
     "data": {
      "text/plain": [
       "count     20000\n",
       "unique      657\n",
       "top          []\n",
       "freq      18696\n",
       "Name: extra_auteur, dtype: object"
      ]
     },
     "metadata": {},
     "output_type": "display_data"
    }
   ],
   "source": [
    "display(df[\"extra_auteur\"].describe())"
   ]
  },
  {
   "cell_type": "code",
   "execution_count": 13,
   "metadata": {},
   "outputs": [],
   "source": [
    "del df[\"extra_auteur\"]"
   ]
  },
  {
   "cell_type": "code",
   "execution_count": 16,
   "metadata": {},
   "outputs": [
    {
     "name": "stdout",
     "output_type": "stream",
     "text": [
      "id\n"
     ]
    },
    {
     "data": {
      "text/plain": [
       "count    20000.000000\n",
       "mean      8590.781250\n",
       "std       5599.143886\n",
       "min          0.000000\n",
       "25%       3474.750000\n",
       "50%       8474.500000\n",
       "75%      13474.250000\n",
       "max      18474.000000\n",
       "Name: id, dtype: float64"
      ]
     },
     "metadata": {},
     "output_type": "display_data"
    },
    {
     "name": "stdout",
     "output_type": "stream",
     "text": [
      "___________________\n",
      "lien_auteur\n"
     ]
    },
    {
     "data": {
      "text/plain": [
       "count      20000\n",
       "unique         2\n",
       "top       snopes\n",
       "freq       18475\n",
       "Name: lien_auteur, dtype: object"
      ]
     },
     "metadata": {},
     "output_type": "display_data"
    },
    {
     "name": "stdout",
     "output_type": "stream",
     "text": [
      "___________________\n",
      "reclamation_examinee\n"
     ]
    },
    {
     "data": {
      "text/plain": [
       "count                                                 20000\n",
       "unique                                                14297\n",
       "top       Monica Lewinsky offered to \"\"take one for (the...\n",
       "freq                                                   1132\n",
       "Name: reclamation_examinee, dtype: object"
      ]
     },
     "metadata": {},
     "output_type": "display_data"
    },
    {
     "name": "stdout",
     "output_type": "stream",
     "text": [
      "___________________\n",
      "date_examination\n"
     ]
    },
    {
     "data": {
      "text/plain": [
       "count          19598\n",
       "unique          4331\n",
       "top       2019-10-04\n",
       "freq            2267\n",
       "Name: date_examination, dtype: object"
      ]
     },
     "metadata": {},
     "output_type": "display_data"
    },
    {
     "name": "stdout",
     "output_type": "stream",
     "text": [
      "___________________\n",
      "source\n"
     ]
    },
    {
     "data": {
      "text/plain": [
       "count      20000\n",
       "unique         2\n",
       "top       snopes\n",
       "freq       18475\n",
       "Name: source, dtype: object"
      ]
     },
     "metadata": {},
     "output_type": "display_data"
    },
    {
     "name": "stdout",
     "output_type": "stream",
     "text": [
      "___________________\n",
      "lien\n"
     ]
    },
    {
     "data": {
      "text/plain": [
       "count                                                 20000\n",
       "unique                                                14336\n",
       "top       https://www.snopes.com/fact-check/the-sound-of...\n",
       "freq                                                   1132\n",
       "Name: lien, dtype: object"
      ]
     },
     "metadata": {},
     "output_type": "display_data"
    },
    {
     "name": "stdout",
     "output_type": "stream",
     "text": [
      "___________________\n",
      "contenu\n"
     ]
    },
    {
     "data": {
      "text/plain": [
       "count                                                 19997\n",
       "unique                                                14317\n",
       "top       On Oct. 3, 2019, an image supposedly showing a...\n",
       "freq                                                   1132\n",
       "Name: contenu, dtype: object"
      ]
     },
     "metadata": {},
     "output_type": "display_data"
    },
    {
     "name": "stdout",
     "output_type": "stream",
     "text": [
      "___________________\n",
      "extra_contenu\n"
     ]
    },
    {
     "data": {
      "text/plain": [
       "count                                                 20000\n",
       "unique                                                14264\n",
       "top       [{\"id\" : 7529378\",\"\"begin\": 65,\"end\": 73,\"enti...\n",
       "freq                                                   1132\n",
       "Name: extra_contenu, dtype: object"
      ]
     },
     "metadata": {},
     "output_type": "display_data"
    },
    {
     "name": "stdout",
     "output_type": "stream",
     "text": [
      "___________________\n",
      "extra_publication_examinée\n"
     ]
    },
    {
     "data": {
      "text/plain": [
       "count     20000\n",
       "unique     9806\n",
       "top          []\n",
       "freq       5420\n",
       "Name: extra_publication_examinée, dtype: object"
      ]
     },
     "metadata": {},
     "output_type": "display_data"
    },
    {
     "name": "stdout",
     "output_type": "stream",
     "text": [
      "___________________\n",
      "extra_mot_cle\n"
     ]
    },
    {
     "data": {
      "text/plain": [
       "count     20000\n",
       "unique     5039\n",
       "top          []\n",
       "freq      13516\n",
       "Name: extra_mot_cle, dtype: object"
      ]
     },
     "metadata": {},
     "output_type": "display_data"
    },
    {
     "name": "stdout",
     "output_type": "stream",
     "text": [
      "___________________\n",
      "extra_lien_reference\n"
     ]
    },
    {
     "data": {
      "text/plain": [
       "count                                                 18632\n",
       "unique                                                12875\n",
       "top       https://twitter.com/redsteeze/status/117991491...\n",
       "freq                                                   1132\n",
       "Name: extra_lien_reference, dtype: object"
      ]
     },
     "metadata": {},
     "output_type": "display_data"
    },
    {
     "name": "stdout",
     "output_type": "stream",
     "text": [
      "___________________\n",
      "extra_tags\n"
     ]
    },
    {
     "data": {
      "text/plain": [
       "count           14175\n",
       "unique           7187\n",
       "top       ASP Article\n",
       "freq             1511\n",
       "Name: extra_tags, dtype: object"
      ]
     },
     "metadata": {},
     "output_type": "display_data"
    },
    {
     "name": "stdout",
     "output_type": "stream",
     "text": [
      "___________________\n",
      "extra_titre\n"
     ]
    },
    {
     "data": {
      "text/plain": [
       "count                                                 20000\n",
       "unique                                                14279\n",
       "top       Was Global Warming Data ‘Faked’ to ‘Fit Climat...\n",
       "freq                                                   1132\n",
       "Name: extra_titre, dtype: object"
      ]
     },
     "metadata": {},
     "output_type": "display_data"
    },
    {
     "name": "stdout",
     "output_type": "stream",
     "text": [
      "___________________\n",
      "note_nom_alternatif\n"
     ]
    },
    {
     "data": {
      "text/plain": [
       "count     19992\n",
       "unique      128\n",
       "top       False\n",
       "freq       7250\n",
       "Name: note_nom_alternatif, dtype: object"
      ]
     },
     "metadata": {},
     "output_type": "display_data"
    },
    {
     "name": "stdout",
     "output_type": "stream",
     "text": [
      "___________________\n"
     ]
    }
   ],
   "source": [
    "for column in df :\n",
    "    print(column)\n",
    "    display(df[column].describe())\n",
    "    print(\"___________________\")\n",
    "    "
   ]
  },
  {
   "cell_type": "code",
   "execution_count": 20,
   "metadata": {},
   "outputs": [],
   "source": [
    "df.drop_duplicates(subset=[\"lien_auteur\",\"contenu\"],keep='first', inplace=True)"
   ]
  },
  {
   "cell_type": "code",
   "execution_count": 21,
   "metadata": {
    "scrolled": true
   },
   "outputs": [
    {
     "name": "stdout",
     "output_type": "stream",
     "text": [
      "id\n"
     ]
    },
    {
     "data": {
      "text/plain": [
       "count    14318.000000\n",
       "mean      8287.070610\n",
       "std       5687.421288\n",
       "min          0.000000\n",
       "25%       2911.250000\n",
       "50%       7990.500000\n",
       "75%      13291.750000\n",
       "max      18454.000000\n",
       "Name: id, dtype: float64"
      ]
     },
     "metadata": {},
     "output_type": "display_data"
    },
    {
     "name": "stdout",
     "output_type": "stream",
     "text": [
      "___________________\n",
      "lien_auteur\n"
     ]
    },
    {
     "data": {
      "text/plain": [
       "count      14318\n",
       "unique         2\n",
       "top       snopes\n",
       "freq       12796\n",
       "Name: lien_auteur, dtype: object"
      ]
     },
     "metadata": {},
     "output_type": "display_data"
    },
    {
     "name": "stdout",
     "output_type": "stream",
     "text": [
      "___________________\n",
      "reclamation_examinee\n"
     ]
    },
    {
     "data": {
      "text/plain": [
       "count                                                 14318\n",
       "unique                                                14295\n",
       "top       The Allman Brothers Band’s album title Eat a P...\n",
       "freq                                                      3\n",
       "Name: reclamation_examinee, dtype: object"
      ]
     },
     "metadata": {},
     "output_type": "display_data"
    },
    {
     "name": "stdout",
     "output_type": "stream",
     "text": [
      "___________________\n",
      "date_examination\n"
     ]
    },
    {
     "data": {
      "text/plain": [
       "count          13917\n",
       "unique          4331\n",
       "top       2019-10-11\n",
       "freq             156\n",
       "Name: date_examination, dtype: object"
      ]
     },
     "metadata": {},
     "output_type": "display_data"
    },
    {
     "name": "stdout",
     "output_type": "stream",
     "text": [
      "___________________\n",
      "source\n"
     ]
    },
    {
     "data": {
      "text/plain": [
       "count      14318\n",
       "unique         2\n",
       "top       snopes\n",
       "freq       12796\n",
       "Name: source, dtype: object"
      ]
     },
     "metadata": {},
     "output_type": "display_data"
    },
    {
     "name": "stdout",
     "output_type": "stream",
     "text": [
      "___________________\n",
      "lien\n"
     ]
    },
    {
     "data": {
      "text/plain": [
       "count                                                 14318\n",
       "unique                                                14318\n",
       "top       https://www.snopes.com/fact-check/navy-raccoon...\n",
       "freq                                                      1\n",
       "Name: lien, dtype: object"
      ]
     },
     "metadata": {},
     "output_type": "display_data"
    },
    {
     "name": "stdout",
     "output_type": "stream",
     "text": [
      "___________________\n",
      "contenu\n"
     ]
    },
    {
     "data": {
      "text/plain": [
       "count                                                 14317\n",
       "unique                                                14317\n",
       "top       An alarming photograph of a car after it was i...\n",
       "freq                                                      1\n",
       "Name: contenu, dtype: object"
      ]
     },
     "metadata": {},
     "output_type": "display_data"
    },
    {
     "name": "stdout",
     "output_type": "stream",
     "text": [
      "___________________\n",
      "extra_contenu\n"
     ]
    },
    {
     "data": {
      "text/plain": [
       "count     14318\n",
       "unique    14264\n",
       "top          []\n",
       "freq         54\n",
       "Name: extra_contenu, dtype: object"
      ]
     },
     "metadata": {},
     "output_type": "display_data"
    },
    {
     "name": "stdout",
     "output_type": "stream",
     "text": [
      "___________________\n",
      "extra_publication_examinée\n"
     ]
    },
    {
     "data": {
      "text/plain": [
       "count     14318\n",
       "unique     9804\n",
       "top          []\n",
       "freq       4284\n",
       "Name: extra_publication_examinée, dtype: object"
      ]
     },
     "metadata": {},
     "output_type": "display_data"
    },
    {
     "name": "stdout",
     "output_type": "stream",
     "text": [
      "___________________\n",
      "extra_mot_cle\n"
     ]
    },
    {
     "data": {
      "text/plain": [
       "count     14318\n",
       "unique     5038\n",
       "top          []\n",
       "freq       7842\n",
       "Name: extra_mot_cle, dtype: object"
      ]
     },
     "metadata": {},
     "output_type": "display_data"
    },
    {
     "name": "stdout",
     "output_type": "stream",
     "text": [
      "___________________\n",
      "extra_lien_reference\n"
     ]
    },
    {
     "data": {
      "text/plain": [
       "count                            12955\n",
       "unique                           12875\n",
       "top       /sources/language/oxford.htm\n",
       "freq                                 8\n",
       "Name: extra_lien_reference, dtype: object"
      ]
     },
     "metadata": {},
     "output_type": "display_data"
    },
    {
     "name": "stdout",
     "output_type": "stream",
     "text": [
      "___________________\n",
      "extra_tags\n"
     ]
    },
    {
     "data": {
      "text/plain": [
       "count           13020\n",
       "unique           7186\n",
       "top       ASP Article\n",
       "freq             1503\n",
       "Name: extra_tags, dtype: object"
      ]
     },
     "metadata": {},
     "output_type": "display_data"
    },
    {
     "name": "stdout",
     "output_type": "stream",
     "text": [
      "___________________\n",
      "extra_titre\n"
     ]
    },
    {
     "data": {
      "text/plain": [
       "count                       14318\n",
       "unique                      14276\n",
       "top       Adam Sandler Death Hoax\n",
       "freq                            3\n",
       "Name: extra_titre, dtype: object"
      ]
     },
     "metadata": {},
     "output_type": "display_data"
    },
    {
     "name": "stdout",
     "output_type": "stream",
     "text": [
      "___________________\n",
      "note_nom_alternatif\n"
     ]
    },
    {
     "data": {
      "text/plain": [
       "count     14311\n",
       "unique      128\n",
       "top       False\n",
       "freq       4979\n",
       "Name: note_nom_alternatif, dtype: object"
      ]
     },
     "metadata": {},
     "output_type": "display_data"
    },
    {
     "name": "stdout",
     "output_type": "stream",
     "text": [
      "___________________\n"
     ]
    }
   ],
   "source": [
    "for column in df :\n",
    "    print(column)\n",
    "    display(df[column].describe())\n",
    "    print(\"___________________\")"
   ]
  },
  {
   "cell_type": "code",
   "execution_count": 22,
   "metadata": {},
   "outputs": [
    {
     "data": {
      "text/html": [
       "<div>\n",
       "<style scoped>\n",
       "    .dataframe tbody tr th:only-of-type {\n",
       "        vertical-align: middle;\n",
       "    }\n",
       "\n",
       "    .dataframe tbody tr th {\n",
       "        vertical-align: top;\n",
       "    }\n",
       "\n",
       "    .dataframe thead th {\n",
       "        text-align: right;\n",
       "    }\n",
       "</style>\n",
       "<table border=\"1\" class=\"dataframe\">\n",
       "  <thead>\n",
       "    <tr style=\"text-align: right;\">\n",
       "      <th></th>\n",
       "      <th>id</th>\n",
       "      <th>lien_auteur</th>\n",
       "      <th>reclamation_examinee</th>\n",
       "      <th>date_examination</th>\n",
       "      <th>source</th>\n",
       "      <th>lien</th>\n",
       "      <th>contenu</th>\n",
       "      <th>extra_contenu</th>\n",
       "      <th>extra_publication_examinée</th>\n",
       "      <th>extra_mot_cle</th>\n",
       "      <th>extra_lien_reference</th>\n",
       "      <th>extra_tags</th>\n",
       "      <th>extra_titre</th>\n",
       "      <th>note_nom_alternatif</th>\n",
       "    </tr>\n",
       "  </thead>\n",
       "  <tbody>\n",
       "    <tr>\n",
       "      <th>4005</th>\n",
       "      <td>9005</td>\n",
       "      <td>snopes</td>\n",
       "      <td>Photographs show a real trampoline bridge in P...</td>\n",
       "      <td>2016-03-03</td>\n",
       "      <td>snopes</td>\n",
       "      <td>https://www.snopes.com/fact-check/trampoline-b...</td>\n",
       "      <td>Photographs purportedly showing a “trampoline ...</td>\n",
       "      <td>[{\"id\" : 17727\",\"\"begin\": 86,\"end\": 98,\"entity...</td>\n",
       "      <td>[]</td>\n",
       "      <td>[]</td>\n",
       "      <td>http://worldarchitecture.org/blogs/wanews/pzvc...</td>\n",
       "      <td>bouncing bridge, bridge, trampoline bridge</td>\n",
       "      <td>FALSE: Photos of a ‘Trampoline Bridge’ Don’t S...</td>\n",
       "      <td>False</td>\n",
       "    </tr>\n",
       "    <tr>\n",
       "      <th>503</th>\n",
       "      <td>5503</td>\n",
       "      <td>snopes</td>\n",
       "      <td>A photograph shows a record-breaking 320-pound...</td>\n",
       "      <td>2017-04-14</td>\n",
       "      <td>snopes</td>\n",
       "      <td>https://www.snopes.com/fact-check/canadian-fis...</td>\n",
       "      <td>A photograph purportedly showing a giant 320-p...</td>\n",
       "      <td>[{\"id\" : 52288758\",\"\"begin\": 77,\"end\": 94,\"ent...</td>\n",
       "      <td>[]</td>\n",
       "      <td>[{\"id\" : 47335\",\"\"begin\": 0,\"end\": 7,\"entity\":...</td>\n",
       "      <td>https://archive.is/0VXEc,https://www.snopes.co...</td>\n",
       "      <td>catfish, fake news, fishing, shrimp, world new...</td>\n",
       "      <td>Did Canadian Fishermen Catch a 320-Pound Shrimp?</td>\n",
       "      <td>False</td>\n",
       "    </tr>\n",
       "    <tr>\n",
       "      <th>999</th>\n",
       "      <td>5999</td>\n",
       "      <td>snopes</td>\n",
       "      <td>President Trump signed an Executive Order bann...</td>\n",
       "      <td>2017-02-07</td>\n",
       "      <td>snopes</td>\n",
       "      <td>https://www.snopes.com/fact-check/trump-eo-vac...</td>\n",
       "      <td>On 6 February 2017, the Houston Leader web sit...</td>\n",
       "      <td>[{\"id\" : 58911\",\"\"begin\": 388,\"end\": 395,\"enti...</td>\n",
       "      <td>[]</td>\n",
       "      <td>[]</td>\n",
       "      <td>http://archive.is/GxMkN/image,https://twitter....</td>\n",
       "      <td>executive order, houston leader, president tru...</td>\n",
       "      <td>Did President Trump Enact a 90-Day Ban on Chil...</td>\n",
       "      <td>False</td>\n",
       "    </tr>\n",
       "    <tr>\n",
       "      <th>315</th>\n",
       "      <td>315</td>\n",
       "      <td>snopes</td>\n",
       "      <td>Connor Betts, the suspect in the Dayton mass s...</td>\n",
       "      <td>2019-08-05</td>\n",
       "      <td>snopes</td>\n",
       "      <td>https://www.snopes.com/fact-check/dayton-shoot...</td>\n",
       "      <td>On Aug. 4, 2019, a gunman opened fire in a cro...</td>\n",
       "      <td>[{\"id\" : 8253\",\"\"begin\": 48,\"end\": 59,\"entity\"...</td>\n",
       "      <td>[{\"id\" : 31883778\",\"\"begin\": 39,\"end\": 52,\"ent...</td>\n",
       "      <td>[]</td>\n",
       "      <td>https://www.nytimes.com/2019/08/04/us/dayton-o...</td>\n",
       "      <td>NaN</td>\n",
       "      <td>Was Dayton Mass Shooter a Self-Described ‘Pro-...</td>\n",
       "      <td>True</td>\n",
       "    </tr>\n",
       "    <tr>\n",
       "      <th>4476</th>\n",
       "      <td>14476</td>\n",
       "      <td>snopes</td>\n",
       "      <td>Letter from U.S. Army lieutenant serving in Ir...</td>\n",
       "      <td>2006-07-07</td>\n",
       "      <td>snopes</td>\n",
       "      <td>https://www.snopes.com/fact-check/tom-cotton/</td>\n",
       "      <td>Claim:   Letter from U.S. Army lieutenant serv...</td>\n",
       "      <td>[{\"id\" : 7515928\",\"\"begin\": 48,\"end\": 52,\"enti...</td>\n",
       "      <td>[{\"id\" : 7515928\",\"\"begin\": 42,\"end\": 46,\"enti...</td>\n",
       "      <td>[]</td>\n",
       "      <td>http://powerlineblog.com/archives/014515.asp,h...</td>\n",
       "      <td>ASP Article</td>\n",
       "      <td>Tom Cotton Letter</td>\n",
       "      <td>True</td>\n",
       "    </tr>\n",
       "    <tr>\n",
       "      <th>1420</th>\n",
       "      <td>11420</td>\n",
       "      <td>snopes</td>\n",
       "      <td>Actress Kristen Stewart trashed the military a...</td>\n",
       "      <td>2014-12-10</td>\n",
       "      <td>snopes</td>\n",
       "      <td>https://www.snopes.com/fact-check/red-white-an...</td>\n",
       "      <td>Claim:   Actress Kristen Stewart trashed the m...</td>\n",
       "      <td>[{\"id\" : 2629332\",\"\"begin\": 14,\"end\": 29,\"enti...</td>\n",
       "      <td>[{\"id\" : 2629332\",\"\"begin\": 8,\"end\": 23,\"entit...</td>\n",
       "      <td>[]</td>\n",
       "      <td>http://www.thedailybeast.com/articles/2014/10/...</td>\n",
       "      <td>Actors, ASP Article, Movies</td>\n",
       "      <td>Did Kristen Stewart Trash the Military and Def...</td>\n",
       "      <td>FALSE</td>\n",
       "    </tr>\n",
       "    <tr>\n",
       "      <th>2362</th>\n",
       "      <td>12362</td>\n",
       "      <td>snopes</td>\n",
       "      <td>A man left entertaining his girlfriend’s dog t...</td>\n",
       "      <td>2014-04-27</td>\n",
       "      <td>snopes</td>\n",
       "      <td>https://www.snopes.com/fact-check/rain-of-terr...</td>\n",
       "      <td>Claim:   A man left entertaining his girlfrien...</td>\n",
       "      <td>[{\"id\" : 2018731\",\"\"begin\": 6,\"end\": 11,\"entit...</td>\n",
       "      <td>[{\"id\" : 2018731\",\"\"begin\": 0,\"end\": 5,\"entity...</td>\n",
       "      <td>[]</td>\n",
       "      <td>/love/dating/sink.asp,http://www.imdb.com/titl...</td>\n",
       "      <td>ASP Article, Natural Phenomena</td>\n",
       "      <td>Dog Jumps Out Apartment Window to Chase Tennis...</td>\n",
       "      <td>LEGEND</td>\n",
       "    </tr>\n",
       "    <tr>\n",
       "      <th>2368</th>\n",
       "      <td>17368</td>\n",
       "      <td>snopes</td>\n",
       "      <td>Italian dictator Benito Mussolini made the tra...</td>\n",
       "      <td>2007-09-29</td>\n",
       "      <td>snopes</td>\n",
       "      <td>https://www.snopes.com/fact-check/loco-motive/</td>\n",
       "      <td>Claim:   Italian dictator Benito Mussolini mad...</td>\n",
       "      <td>[{\"id\" : 19283178\",\"\"begin\": 23,\"end\": 39,\"ent...</td>\n",
       "      <td>[{\"id\" : 19283178\",\"\"begin\": 17,\"end\": 33,\"ent...</td>\n",
       "      <td>[]</td>\n",
       "      <td>NaN</td>\n",
       "      <td>ASP Article, Government</td>\n",
       "      <td>Mussolini and On Time Trains</td>\n",
       "      <td>False</td>\n",
       "    </tr>\n",
       "    <tr>\n",
       "      <th>4865</th>\n",
       "      <td>4865</td>\n",
       "      <td>snopes</td>\n",
       "      <td>Despite arguing that government benefits const...</td>\n",
       "      <td>2017-06-23</td>\n",
       "      <td>snopes</td>\n",
       "      <td>https://www.snopes.com/fact-check/ayn-rand-soc...</td>\n",
       "      <td>Russian-born American author Ayn Rand, who is ...</td>\n",
       "      <td>[{\"id\" : 339\",\"\"begin\": 28,\"end\": 36,\"entity\":...</td>\n",
       "      <td>[{\"id\" : 21554936\",\"\"begin\": 63,\"end\": 87,\"ent...</td>\n",
       "      <td>[{\"id\" : 339\",\"\"begin\": 0,\"end\": 8,\"entity\": \"...</td>\n",
       "      <td>http://aynrandlexicon.com/lexicon/collectivism...</td>\n",
       "      <td>ayn rand, objectivism, social security</td>\n",
       "      <td>Did Ayn Rand Receive Social Security Benefits?</td>\n",
       "      <td>True</td>\n",
       "    </tr>\n",
       "    <tr>\n",
       "      <th>3126</th>\n",
       "      <td>3126</td>\n",
       "      <td>snopes</td>\n",
       "      <td>The Trump administration blocked public access...</td>\n",
       "      <td>2018-03-09</td>\n",
       "      <td>snopes</td>\n",
       "      <td>https://www.snopes.com/fact-check/trump-puppy-...</td>\n",
       "      <td>In March 2018, various outlets reported that t...</td>\n",
       "      <td>[{\"id\" : 4848272\",\"\"begin\": 76,\"end\": 88,\"enti...</td>\n",
       "      <td>[]</td>\n",
       "      <td>[{\"id\" : 70896\",\"\"begin\": 56,\"end\": 60,\"entity...</td>\n",
       "      <td>http://www.tampabay.com/florida-politics/buzz/...</td>\n",
       "      <td>Animal Welfare, animals, puppy mills, trump ad...</td>\n",
       "      <td>Did President Donald Trump End Public Access t...</td>\n",
       "      <td>Mixture</td>\n",
       "    </tr>\n",
       "  </tbody>\n",
       "</table>\n",
       "</div>"
      ],
      "text/plain": [
       "         id lien_auteur                               reclamation_examinee  \\\n",
       "4005   9005      snopes  Photographs show a real trampoline bridge in P...   \n",
       "503    5503      snopes  A photograph shows a record-breaking 320-pound...   \n",
       "999    5999      snopes  President Trump signed an Executive Order bann...   \n",
       "315     315      snopes  Connor Betts, the suspect in the Dayton mass s...   \n",
       "4476  14476      snopes  Letter from U.S. Army lieutenant serving in Ir...   \n",
       "1420  11420      snopes  Actress Kristen Stewart trashed the military a...   \n",
       "2362  12362      snopes  A man left entertaining his girlfriend’s dog t...   \n",
       "2368  17368      snopes  Italian dictator Benito Mussolini made the tra...   \n",
       "4865   4865      snopes  Despite arguing that government benefits const...   \n",
       "3126   3126      snopes  The Trump administration blocked public access...   \n",
       "\n",
       "     date_examination  source  \\\n",
       "4005       2016-03-03  snopes   \n",
       "503        2017-04-14  snopes   \n",
       "999        2017-02-07  snopes   \n",
       "315        2019-08-05  snopes   \n",
       "4476       2006-07-07  snopes   \n",
       "1420       2014-12-10  snopes   \n",
       "2362       2014-04-27  snopes   \n",
       "2368       2007-09-29  snopes   \n",
       "4865       2017-06-23  snopes   \n",
       "3126       2018-03-09  snopes   \n",
       "\n",
       "                                                   lien  \\\n",
       "4005  https://www.snopes.com/fact-check/trampoline-b...   \n",
       "503   https://www.snopes.com/fact-check/canadian-fis...   \n",
       "999   https://www.snopes.com/fact-check/trump-eo-vac...   \n",
       "315   https://www.snopes.com/fact-check/dayton-shoot...   \n",
       "4476      https://www.snopes.com/fact-check/tom-cotton/   \n",
       "1420  https://www.snopes.com/fact-check/red-white-an...   \n",
       "2362  https://www.snopes.com/fact-check/rain-of-terr...   \n",
       "2368     https://www.snopes.com/fact-check/loco-motive/   \n",
       "4865  https://www.snopes.com/fact-check/ayn-rand-soc...   \n",
       "3126  https://www.snopes.com/fact-check/trump-puppy-...   \n",
       "\n",
       "                                                contenu  \\\n",
       "4005  Photographs purportedly showing a “trampoline ...   \n",
       "503   A photograph purportedly showing a giant 320-p...   \n",
       "999   On 6 February 2017, the Houston Leader web sit...   \n",
       "315   On Aug. 4, 2019, a gunman opened fire in a cro...   \n",
       "4476  Claim:   Letter from U.S. Army lieutenant serv...   \n",
       "1420  Claim:   Actress Kristen Stewart trashed the m...   \n",
       "2362  Claim:   A man left entertaining his girlfrien...   \n",
       "2368  Claim:   Italian dictator Benito Mussolini mad...   \n",
       "4865  Russian-born American author Ayn Rand, who is ...   \n",
       "3126  In March 2018, various outlets reported that t...   \n",
       "\n",
       "                                          extra_contenu  \\\n",
       "4005  [{\"id\" : 17727\",\"\"begin\": 86,\"end\": 98,\"entity...   \n",
       "503   [{\"id\" : 52288758\",\"\"begin\": 77,\"end\": 94,\"ent...   \n",
       "999   [{\"id\" : 58911\",\"\"begin\": 388,\"end\": 395,\"enti...   \n",
       "315   [{\"id\" : 8253\",\"\"begin\": 48,\"end\": 59,\"entity\"...   \n",
       "4476  [{\"id\" : 7515928\",\"\"begin\": 48,\"end\": 52,\"enti...   \n",
       "1420  [{\"id\" : 2629332\",\"\"begin\": 14,\"end\": 29,\"enti...   \n",
       "2362  [{\"id\" : 2018731\",\"\"begin\": 6,\"end\": 11,\"entit...   \n",
       "2368  [{\"id\" : 19283178\",\"\"begin\": 23,\"end\": 39,\"ent...   \n",
       "4865  [{\"id\" : 339\",\"\"begin\": 28,\"end\": 36,\"entity\":...   \n",
       "3126  [{\"id\" : 4848272\",\"\"begin\": 76,\"end\": 88,\"enti...   \n",
       "\n",
       "                             extra_publication_examinée  \\\n",
       "4005                                                 []   \n",
       "503                                                  []   \n",
       "999                                                  []   \n",
       "315   [{\"id\" : 31883778\",\"\"begin\": 39,\"end\": 52,\"ent...   \n",
       "4476  [{\"id\" : 7515928\",\"\"begin\": 42,\"end\": 46,\"enti...   \n",
       "1420  [{\"id\" : 2629332\",\"\"begin\": 8,\"end\": 23,\"entit...   \n",
       "2362  [{\"id\" : 2018731\",\"\"begin\": 0,\"end\": 5,\"entity...   \n",
       "2368  [{\"id\" : 19283178\",\"\"begin\": 17,\"end\": 33,\"ent...   \n",
       "4865  [{\"id\" : 21554936\",\"\"begin\": 63,\"end\": 87,\"ent...   \n",
       "3126                                                 []   \n",
       "\n",
       "                                          extra_mot_cle  \\\n",
       "4005                                                 []   \n",
       "503   [{\"id\" : 47335\",\"\"begin\": 0,\"end\": 7,\"entity\":...   \n",
       "999                                                  []   \n",
       "315                                                  []   \n",
       "4476                                                 []   \n",
       "1420                                                 []   \n",
       "2362                                                 []   \n",
       "2368                                                 []   \n",
       "4865  [{\"id\" : 339\",\"\"begin\": 0,\"end\": 8,\"entity\": \"...   \n",
       "3126  [{\"id\" : 70896\",\"\"begin\": 56,\"end\": 60,\"entity...   \n",
       "\n",
       "                                   extra_lien_reference  \\\n",
       "4005  http://worldarchitecture.org/blogs/wanews/pzvc...   \n",
       "503   https://archive.is/0VXEc,https://www.snopes.co...   \n",
       "999   http://archive.is/GxMkN/image,https://twitter....   \n",
       "315   https://www.nytimes.com/2019/08/04/us/dayton-o...   \n",
       "4476  http://powerlineblog.com/archives/014515.asp,h...   \n",
       "1420  http://www.thedailybeast.com/articles/2014/10/...   \n",
       "2362  /love/dating/sink.asp,http://www.imdb.com/titl...   \n",
       "2368                                                NaN   \n",
       "4865  http://aynrandlexicon.com/lexicon/collectivism...   \n",
       "3126  http://www.tampabay.com/florida-politics/buzz/...   \n",
       "\n",
       "                                             extra_tags  \\\n",
       "4005         bouncing bridge, bridge, trampoline bridge   \n",
       "503   catfish, fake news, fishing, shrimp, world new...   \n",
       "999   executive order, houston leader, president tru...   \n",
       "315                                                 NaN   \n",
       "4476                                        ASP Article   \n",
       "1420                        Actors, ASP Article, Movies   \n",
       "2362                     ASP Article, Natural Phenomena   \n",
       "2368                            ASP Article, Government   \n",
       "4865             ayn rand, objectivism, social security   \n",
       "3126  Animal Welfare, animals, puppy mills, trump ad...   \n",
       "\n",
       "                                            extra_titre note_nom_alternatif  \n",
       "4005  FALSE: Photos of a ‘Trampoline Bridge’ Don’t S...               False  \n",
       "503    Did Canadian Fishermen Catch a 320-Pound Shrimp?               False  \n",
       "999   Did President Trump Enact a 90-Day Ban on Chil...               False  \n",
       "315   Was Dayton Mass Shooter a Self-Described ‘Pro-...                True  \n",
       "4476                                  Tom Cotton Letter                True  \n",
       "1420  Did Kristen Stewart Trash the Military and Def...               FALSE  \n",
       "2362  Dog Jumps Out Apartment Window to Chase Tennis...              LEGEND  \n",
       "2368                       Mussolini and On Time Trains               False  \n",
       "4865     Did Ayn Rand Receive Social Security Benefits?                True  \n",
       "3126  Did President Donald Trump End Public Access t...             Mixture  "
      ]
     },
     "metadata": {},
     "output_type": "display_data"
    }
   ],
   "source": [
    "display(df.sample(10))"
   ]
  },
  {
   "cell_type": "code",
   "execution_count": 34,
   "metadata": {
    "scrolled": true
   },
   "outputs": [
    {
     "name": "stdout",
     "output_type": "stream",
     "text": [
      "503                                                                                                                                                                                                                                                                                                             []\n",
      "503    [{\"id\" : 47335\",\"\"begin\": 0,\"end\": 7,\"entity\": \"Catfish\",\"text\": \"catfish\",\"score\": 0.32,\"categories\" : [\"Edible fish\",\"Commercial fish\",\"Siluriformes\",\"Ostariophysi\",\"Fish of Africa\",\"Fish of Asia\",\"Fish of Europe\",\"Fish of South America\",\"Fish of North America\",\"Fish of Central America\",\"Soul ...\n",
      "503    [{\"id\" : 843491\",\"\"begin\": 12,\"end\": 36,\"entity\": \"Not Necessarily the News\",\"text\": \"Not Necessarily The News\",\"score\": 0.50,\"categories\" : [\"HBO network shows\",\"American sketch comedy television shows\",\"Satirical television programmes\",\"Television series about television\",\"1980s American telev...\n",
      "Name: extra_mot_cle, dtype: object\n"
     ]
    }
   ],
   "source": [
    "vloc = (df.loc[503,\"extra_mot_cle\"])\n",
    "pd.options.display.max_colwidth = 300\n",
    "print(vloc)"
   ]
  }
 ],
 "metadata": {
  "kernelspec": {
   "display_name": "Python 3",
   "language": "python",
   "name": "python3"
  },
  "language_info": {
   "codemirror_mode": {
    "name": "ipython",
    "version": 3
   },
   "file_extension": ".py",
   "mimetype": "text/x-python",
   "name": "python",
   "nbconvert_exporter": "python",
   "pygments_lexer": "ipython3",
   "version": "3.8.2"
  }
 },
 "nbformat": 4,
 "nbformat_minor": 4
}
